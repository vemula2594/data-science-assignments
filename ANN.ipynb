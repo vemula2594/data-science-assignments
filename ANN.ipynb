{
 "cells": [
  {
   "cell_type": "markdown",
   "id": "ef870541",
   "metadata": {},
   "source": [
    "# gas_turbines.csv"
   ]
  },
  {
   "cell_type": "code",
   "execution_count": 1,
   "id": "fb5b4ef9",
   "metadata": {
    "ExecuteTime": {
     "end_time": "2022-11-23T15:01:21.358323Z",
     "start_time": "2022-11-23T15:01:18.478061Z"
    }
   },
   "outputs": [],
   "source": [
    "import pandas as pd\n",
    "import numpy as np\n",
    "import matplotlib.pyplot as plt "
   ]
  },
  {
   "cell_type": "code",
   "execution_count": 2,
   "id": "a1109e2c",
   "metadata": {
    "ExecuteTime": {
     "end_time": "2022-11-23T15:01:21.598683Z",
     "start_time": "2022-11-23T15:01:21.361314Z"
    }
   },
   "outputs": [
    {
     "data": {
      "text/html": [
       "<div>\n",
       "<style scoped>\n",
       "    .dataframe tbody tr th:only-of-type {\n",
       "        vertical-align: middle;\n",
       "    }\n",
       "\n",
       "    .dataframe tbody tr th {\n",
       "        vertical-align: top;\n",
       "    }\n",
       "\n",
       "    .dataframe thead th {\n",
       "        text-align: right;\n",
       "    }\n",
       "</style>\n",
       "<table border=\"1\" class=\"dataframe\">\n",
       "  <thead>\n",
       "    <tr style=\"text-align: right;\">\n",
       "      <th></th>\n",
       "      <th>AT</th>\n",
       "      <th>AP</th>\n",
       "      <th>AH</th>\n",
       "      <th>AFDP</th>\n",
       "      <th>GTEP</th>\n",
       "      <th>TIT</th>\n",
       "      <th>TAT</th>\n",
       "      <th>TEY</th>\n",
       "      <th>CDP</th>\n",
       "      <th>CO</th>\n",
       "      <th>NOX</th>\n",
       "    </tr>\n",
       "  </thead>\n",
       "  <tbody>\n",
       "    <tr>\n",
       "      <th>0</th>\n",
       "      <td>6.8594</td>\n",
       "      <td>1007.9</td>\n",
       "      <td>96.799</td>\n",
       "      <td>3.5000</td>\n",
       "      <td>19.663</td>\n",
       "      <td>1059.2</td>\n",
       "      <td>550.00</td>\n",
       "      <td>114.70</td>\n",
       "      <td>10.605</td>\n",
       "      <td>3.1547</td>\n",
       "      <td>82.722</td>\n",
       "    </tr>\n",
       "    <tr>\n",
       "      <th>1</th>\n",
       "      <td>6.7850</td>\n",
       "      <td>1008.4</td>\n",
       "      <td>97.118</td>\n",
       "      <td>3.4998</td>\n",
       "      <td>19.728</td>\n",
       "      <td>1059.3</td>\n",
       "      <td>550.00</td>\n",
       "      <td>114.72</td>\n",
       "      <td>10.598</td>\n",
       "      <td>3.2363</td>\n",
       "      <td>82.776</td>\n",
       "    </tr>\n",
       "    <tr>\n",
       "      <th>2</th>\n",
       "      <td>6.8977</td>\n",
       "      <td>1008.8</td>\n",
       "      <td>95.939</td>\n",
       "      <td>3.4824</td>\n",
       "      <td>19.779</td>\n",
       "      <td>1059.4</td>\n",
       "      <td>549.87</td>\n",
       "      <td>114.71</td>\n",
       "      <td>10.601</td>\n",
       "      <td>3.2012</td>\n",
       "      <td>82.468</td>\n",
       "    </tr>\n",
       "    <tr>\n",
       "      <th>3</th>\n",
       "      <td>7.0569</td>\n",
       "      <td>1009.2</td>\n",
       "      <td>95.249</td>\n",
       "      <td>3.4805</td>\n",
       "      <td>19.792</td>\n",
       "      <td>1059.6</td>\n",
       "      <td>549.99</td>\n",
       "      <td>114.72</td>\n",
       "      <td>10.606</td>\n",
       "      <td>3.1923</td>\n",
       "      <td>82.670</td>\n",
       "    </tr>\n",
       "    <tr>\n",
       "      <th>4</th>\n",
       "      <td>7.3978</td>\n",
       "      <td>1009.7</td>\n",
       "      <td>95.150</td>\n",
       "      <td>3.4976</td>\n",
       "      <td>19.765</td>\n",
       "      <td>1059.7</td>\n",
       "      <td>549.98</td>\n",
       "      <td>114.72</td>\n",
       "      <td>10.612</td>\n",
       "      <td>3.2484</td>\n",
       "      <td>82.311</td>\n",
       "    </tr>\n",
       "  </tbody>\n",
       "</table>\n",
       "</div>"
      ],
      "text/plain": [
       "       AT      AP      AH    AFDP    GTEP     TIT     TAT     TEY     CDP  \\\n",
       "0  6.8594  1007.9  96.799  3.5000  19.663  1059.2  550.00  114.70  10.605   \n",
       "1  6.7850  1008.4  97.118  3.4998  19.728  1059.3  550.00  114.72  10.598   \n",
       "2  6.8977  1008.8  95.939  3.4824  19.779  1059.4  549.87  114.71  10.601   \n",
       "3  7.0569  1009.2  95.249  3.4805  19.792  1059.6  549.99  114.72  10.606   \n",
       "4  7.3978  1009.7  95.150  3.4976  19.765  1059.7  549.98  114.72  10.612   \n",
       "\n",
       "       CO     NOX  \n",
       "0  3.1547  82.722  \n",
       "1  3.2363  82.776  \n",
       "2  3.2012  82.468  \n",
       "3  3.1923  82.670  \n",
       "4  3.2484  82.311  "
      ]
     },
     "execution_count": 2,
     "metadata": {},
     "output_type": "execute_result"
    }
   ],
   "source": [
    "gt = pd.read_csv(\"gas_turbines.csv\")\n",
    "gt.head()"
   ]
  },
  {
   "cell_type": "code",
   "execution_count": 3,
   "id": "5d0ace82",
   "metadata": {
    "ExecuteTime": {
     "end_time": "2022-11-23T15:01:21.648544Z",
     "start_time": "2022-11-23T15:01:21.601223Z"
    }
   },
   "outputs": [
    {
     "data": {
      "text/html": [
       "<div>\n",
       "<style scoped>\n",
       "    .dataframe tbody tr th:only-of-type {\n",
       "        vertical-align: middle;\n",
       "    }\n",
       "\n",
       "    .dataframe tbody tr th {\n",
       "        vertical-align: top;\n",
       "    }\n",
       "\n",
       "    .dataframe thead th {\n",
       "        text-align: right;\n",
       "    }\n",
       "</style>\n",
       "<table border=\"1\" class=\"dataframe\">\n",
       "  <thead>\n",
       "    <tr style=\"text-align: right;\">\n",
       "      <th></th>\n",
       "      <th>AT</th>\n",
       "      <th>AP</th>\n",
       "      <th>AH</th>\n",
       "      <th>AFDP</th>\n",
       "      <th>GTEP</th>\n",
       "      <th>TIT</th>\n",
       "      <th>TAT</th>\n",
       "      <th>TEY</th>\n",
       "      <th>CDP</th>\n",
       "      <th>CO</th>\n",
       "      <th>NOX</th>\n",
       "    </tr>\n",
       "  </thead>\n",
       "  <tbody>\n",
       "    <tr>\n",
       "      <th>count</th>\n",
       "      <td>15039.000000</td>\n",
       "      <td>15039.00000</td>\n",
       "      <td>15039.000000</td>\n",
       "      <td>15039.000000</td>\n",
       "      <td>15039.000000</td>\n",
       "      <td>15039.000000</td>\n",
       "      <td>15039.000000</td>\n",
       "      <td>15039.000000</td>\n",
       "      <td>15039.000000</td>\n",
       "      <td>15039.000000</td>\n",
       "      <td>15039.000000</td>\n",
       "    </tr>\n",
       "    <tr>\n",
       "      <th>mean</th>\n",
       "      <td>17.764381</td>\n",
       "      <td>1013.19924</td>\n",
       "      <td>79.124174</td>\n",
       "      <td>4.200294</td>\n",
       "      <td>25.419061</td>\n",
       "      <td>1083.798770</td>\n",
       "      <td>545.396183</td>\n",
       "      <td>134.188464</td>\n",
       "      <td>12.102353</td>\n",
       "      <td>1.972499</td>\n",
       "      <td>68.190934</td>\n",
       "    </tr>\n",
       "    <tr>\n",
       "      <th>std</th>\n",
       "      <td>7.574323</td>\n",
       "      <td>6.41076</td>\n",
       "      <td>13.793439</td>\n",
       "      <td>0.760197</td>\n",
       "      <td>4.173916</td>\n",
       "      <td>16.527806</td>\n",
       "      <td>7.866803</td>\n",
       "      <td>15.829717</td>\n",
       "      <td>1.103196</td>\n",
       "      <td>2.222206</td>\n",
       "      <td>10.470586</td>\n",
       "    </tr>\n",
       "    <tr>\n",
       "      <th>min</th>\n",
       "      <td>0.522300</td>\n",
       "      <td>985.85000</td>\n",
       "      <td>30.344000</td>\n",
       "      <td>2.087400</td>\n",
       "      <td>17.878000</td>\n",
       "      <td>1000.800000</td>\n",
       "      <td>512.450000</td>\n",
       "      <td>100.170000</td>\n",
       "      <td>9.904400</td>\n",
       "      <td>0.000388</td>\n",
       "      <td>27.765000</td>\n",
       "    </tr>\n",
       "    <tr>\n",
       "      <th>25%</th>\n",
       "      <td>11.408000</td>\n",
       "      <td>1008.90000</td>\n",
       "      <td>69.750000</td>\n",
       "      <td>3.723900</td>\n",
       "      <td>23.294000</td>\n",
       "      <td>1079.600000</td>\n",
       "      <td>542.170000</td>\n",
       "      <td>127.985000</td>\n",
       "      <td>11.622000</td>\n",
       "      <td>0.858055</td>\n",
       "      <td>61.303500</td>\n",
       "    </tr>\n",
       "    <tr>\n",
       "      <th>50%</th>\n",
       "      <td>18.186000</td>\n",
       "      <td>1012.80000</td>\n",
       "      <td>82.266000</td>\n",
       "      <td>4.186200</td>\n",
       "      <td>25.082000</td>\n",
       "      <td>1088.700000</td>\n",
       "      <td>549.890000</td>\n",
       "      <td>133.780000</td>\n",
       "      <td>12.025000</td>\n",
       "      <td>1.390200</td>\n",
       "      <td>66.601000</td>\n",
       "    </tr>\n",
       "    <tr>\n",
       "      <th>75%</th>\n",
       "      <td>23.862500</td>\n",
       "      <td>1016.90000</td>\n",
       "      <td>90.043500</td>\n",
       "      <td>4.550900</td>\n",
       "      <td>27.184000</td>\n",
       "      <td>1096.000000</td>\n",
       "      <td>550.060000</td>\n",
       "      <td>140.895000</td>\n",
       "      <td>12.578000</td>\n",
       "      <td>2.160400</td>\n",
       "      <td>73.935500</td>\n",
       "    </tr>\n",
       "    <tr>\n",
       "      <th>max</th>\n",
       "      <td>34.929000</td>\n",
       "      <td>1034.20000</td>\n",
       "      <td>100.200000</td>\n",
       "      <td>7.610600</td>\n",
       "      <td>37.402000</td>\n",
       "      <td>1100.800000</td>\n",
       "      <td>550.610000</td>\n",
       "      <td>174.610000</td>\n",
       "      <td>15.081000</td>\n",
       "      <td>44.103000</td>\n",
       "      <td>119.890000</td>\n",
       "    </tr>\n",
       "  </tbody>\n",
       "</table>\n",
       "</div>"
      ],
      "text/plain": [
       "                 AT           AP            AH          AFDP          GTEP  \\\n",
       "count  15039.000000  15039.00000  15039.000000  15039.000000  15039.000000   \n",
       "mean      17.764381   1013.19924     79.124174      4.200294     25.419061   \n",
       "std        7.574323      6.41076     13.793439      0.760197      4.173916   \n",
       "min        0.522300    985.85000     30.344000      2.087400     17.878000   \n",
       "25%       11.408000   1008.90000     69.750000      3.723900     23.294000   \n",
       "50%       18.186000   1012.80000     82.266000      4.186200     25.082000   \n",
       "75%       23.862500   1016.90000     90.043500      4.550900     27.184000   \n",
       "max       34.929000   1034.20000    100.200000      7.610600     37.402000   \n",
       "\n",
       "                TIT           TAT           TEY           CDP            CO  \\\n",
       "count  15039.000000  15039.000000  15039.000000  15039.000000  15039.000000   \n",
       "mean    1083.798770    545.396183    134.188464     12.102353      1.972499   \n",
       "std       16.527806      7.866803     15.829717      1.103196      2.222206   \n",
       "min     1000.800000    512.450000    100.170000      9.904400      0.000388   \n",
       "25%     1079.600000    542.170000    127.985000     11.622000      0.858055   \n",
       "50%     1088.700000    549.890000    133.780000     12.025000      1.390200   \n",
       "75%     1096.000000    550.060000    140.895000     12.578000      2.160400   \n",
       "max     1100.800000    550.610000    174.610000     15.081000     44.103000   \n",
       "\n",
       "                NOX  \n",
       "count  15039.000000  \n",
       "mean      68.190934  \n",
       "std       10.470586  \n",
       "min       27.765000  \n",
       "25%       61.303500  \n",
       "50%       66.601000  \n",
       "75%       73.935500  \n",
       "max      119.890000  "
      ]
     },
     "execution_count": 3,
     "metadata": {},
     "output_type": "execute_result"
    }
   ],
   "source": [
    "gt.describe()\n"
   ]
  },
  {
   "cell_type": "code",
   "execution_count": 4,
   "id": "cda33461",
   "metadata": {
    "ExecuteTime": {
     "end_time": "2022-11-23T15:01:21.748458Z",
     "start_time": "2022-11-23T15:01:21.651418Z"
    }
   },
   "outputs": [
    {
     "data": {
      "text/plain": [
       "(15039, 11)"
      ]
     },
     "execution_count": 4,
     "metadata": {},
     "output_type": "execute_result"
    }
   ],
   "source": [
    "gt.shape\n"
   ]
  },
  {
   "cell_type": "code",
   "execution_count": 5,
   "id": "063b5c7f",
   "metadata": {
    "ExecuteTime": {
     "end_time": "2022-11-23T15:01:21.902947Z",
     "start_time": "2022-11-23T15:01:21.750515Z"
    }
   },
   "outputs": [
    {
     "name": "stdout",
     "output_type": "stream",
     "text": [
      "<class 'pandas.core.frame.DataFrame'>\n",
      "RangeIndex: 15039 entries, 0 to 15038\n",
      "Data columns (total 11 columns):\n",
      " #   Column  Non-Null Count  Dtype  \n",
      "---  ------  --------------  -----  \n",
      " 0   AT      15039 non-null  float64\n",
      " 1   AP      15039 non-null  float64\n",
      " 2   AH      15039 non-null  float64\n",
      " 3   AFDP    15039 non-null  float64\n",
      " 4   GTEP    15039 non-null  float64\n",
      " 5   TIT     15039 non-null  float64\n",
      " 6   TAT     15039 non-null  float64\n",
      " 7   TEY     15039 non-null  float64\n",
      " 8   CDP     15039 non-null  float64\n",
      " 9   CO      15039 non-null  float64\n",
      " 10  NOX     15039 non-null  float64\n",
      "dtypes: float64(11)\n",
      "memory usage: 1.3 MB\n"
     ]
    }
   ],
   "source": [
    "gt.info()"
   ]
  },
  {
   "cell_type": "code",
   "execution_count": 6,
   "id": "aad5c6bf",
   "metadata": {
    "ExecuteTime": {
     "end_time": "2022-11-23T15:01:22.026433Z",
     "start_time": "2022-11-23T15:01:21.907154Z"
    }
   },
   "outputs": [
    {
     "data": {
      "text/plain": [
       "Index(['AT', 'AP', 'AH', 'AFDP', 'GTEP', 'TIT', 'TAT', 'TEY', 'CDP', 'CO',\n",
       "       'NOX'],\n",
       "      dtype='object')"
      ]
     },
     "execution_count": 6,
     "metadata": {},
     "output_type": "execute_result"
    }
   ],
   "source": [
    "gt.columns\n"
   ]
  },
  {
   "cell_type": "code",
   "execution_count": 7,
   "id": "bac0874f",
   "metadata": {
    "ExecuteTime": {
     "end_time": "2022-11-23T15:01:22.233527Z",
     "start_time": "2022-11-23T15:01:22.027430Z"
    }
   },
   "outputs": [
    {
     "data": {
      "text/plain": [
       "AT      0\n",
       "AP      0\n",
       "AH      0\n",
       "AFDP    0\n",
       "GTEP    0\n",
       "TIT     0\n",
       "TAT     0\n",
       "TEY     0\n",
       "CDP     0\n",
       "CO      0\n",
       "NOX     0\n",
       "dtype: int64"
      ]
     },
     "execution_count": 7,
     "metadata": {},
     "output_type": "execute_result"
    }
   ],
   "source": [
    "gt.isnull().sum()\n"
   ]
  },
  {
   "cell_type": "code",
   "execution_count": 8,
   "id": "8744777c",
   "metadata": {
    "ExecuteTime": {
     "end_time": "2022-11-23T15:01:22.399026Z",
     "start_time": "2022-11-23T15:01:22.238303Z"
    }
   },
   "outputs": [
    {
     "name": "stdout",
     "output_type": "stream",
     "text": [
      "0\n"
     ]
    },
    {
     "data": {
      "text/html": [
       "<div>\n",
       "<style scoped>\n",
       "    .dataframe tbody tr th:only-of-type {\n",
       "        vertical-align: middle;\n",
       "    }\n",
       "\n",
       "    .dataframe tbody tr th {\n",
       "        vertical-align: top;\n",
       "    }\n",
       "\n",
       "    .dataframe thead th {\n",
       "        text-align: right;\n",
       "    }\n",
       "</style>\n",
       "<table border=\"1\" class=\"dataframe\">\n",
       "  <thead>\n",
       "    <tr style=\"text-align: right;\">\n",
       "      <th></th>\n",
       "      <th>AT</th>\n",
       "      <th>AP</th>\n",
       "      <th>AH</th>\n",
       "      <th>AFDP</th>\n",
       "      <th>GTEP</th>\n",
       "      <th>TIT</th>\n",
       "      <th>TAT</th>\n",
       "      <th>TEY</th>\n",
       "      <th>CDP</th>\n",
       "      <th>CO</th>\n",
       "      <th>NOX</th>\n",
       "    </tr>\n",
       "  </thead>\n",
       "  <tbody>\n",
       "  </tbody>\n",
       "</table>\n",
       "</div>"
      ],
      "text/plain": [
       "Empty DataFrame\n",
       "Columns: [AT, AP, AH, AFDP, GTEP, TIT, TAT, TEY, CDP, CO, NOX]\n",
       "Index: []"
      ]
     },
     "execution_count": 8,
     "metadata": {},
     "output_type": "execute_result"
    }
   ],
   "source": [
    "# check for duplicate data\n",
    "duplicate = gt.duplicated()\n",
    "print(duplicate.sum())\n",
    "gt[duplicate]"
   ]
  },
  {
   "cell_type": "code",
   "execution_count": 9,
   "id": "9a2e92e7",
   "metadata": {
    "ExecuteTime": {
     "end_time": "2022-11-23T15:01:22.529929Z",
     "start_time": "2022-11-23T15:01:22.402894Z"
    }
   },
   "outputs": [],
   "source": [
    "X = gt.loc[:,['AT', 'AP', 'AH', 'AFDP', 'GTEP', 'TIT', 'TAT', 'CDP', 'CO','NOX']]\n",
    "y= gt.loc[:,['TEY']]"
   ]
  },
  {
   "cell_type": "code",
   "execution_count": 10,
   "id": "33626684",
   "metadata": {
    "ExecuteTime": {
     "end_time": "2022-11-23T15:01:23.915516Z",
     "start_time": "2022-11-23T15:01:22.538514Z"
    }
   },
   "outputs": [],
   "source": [
    "from sklearn.model_selection import cross_val_score\n",
    "from sklearn.preprocessing import StandardScaler\n",
    "from sklearn.metrics import mean_squared_error\n",
    "scaler = StandardScaler()\n",
    "X = scaler.fit_transform(X)\n",
    "y = scaler.fit_transform(y)"
   ]
  },
  {
   "cell_type": "code",
   "execution_count": 11,
   "id": "e5c639dd",
   "metadata": {
    "ExecuteTime": {
     "end_time": "2022-11-23T15:01:23.932932Z",
     "start_time": "2022-11-23T15:01:23.919366Z"
    }
   },
   "outputs": [],
   "source": [
    "def baseline_model():\n",
    "    model = Sequential()\n",
    "    model.add(Dense(10, input_dim=10, activation='tanh'))\n",
    "    model.add(Dense(1))\n",
    "    model.compile(loss='mean_squared_error', optimizer='adam')\n",
    "    return model"
   ]
  },
  {
   "cell_type": "code",
   "execution_count": 12,
   "id": "af2deb19",
   "metadata": {
    "ExecuteTime": {
     "end_time": "2022-11-23T15:03:00.951918Z",
     "start_time": "2022-11-23T15:01:23.937127Z"
    }
   },
   "outputs": [
    {
     "name": "stderr",
     "output_type": "stream",
     "text": [
      "C:\\Users\\Priyanka\\AppData\\Local\\Temp\\ipykernel_17124\\1991303876.py:6: DeprecationWarning: KerasRegressor is deprecated, use Sci-Keras (https://github.com/adriangb/scikeras) instead. See https://www.adriangb.com/scikeras/stable/migration.html for help migrating.\n",
      "  estimator = KerasRegressor(build_fn=baseline_model, nb_epoch=50, batch_size=100, verbose=False)\n"
     ]
    },
    {
     "name": "stdout",
     "output_type": "stream",
     "text": [
      "Results: -0.14 (0.15) MSE\n"
     ]
    }
   ],
   "source": [
    "import keras\n",
    "from sklearn.model_selection import KFold\n",
    "from keras.wrappers.scikit_learn import KerasRegressor\n",
    "from keras.models import Sequential\n",
    "from keras.layers import InputLayer,Dense\n",
    "estimator = KerasRegressor(build_fn=baseline_model, nb_epoch=50, batch_size=100, verbose=False)\n",
    "kfold = KFold(n_splits=10)\n",
    "results = cross_val_score(estimator, X, y, cv=kfold)\n",
    "print(\"Results: %.2f (%.2f) MSE\" % (results.mean(), results.std()))"
   ]
  },
  {
   "cell_type": "code",
   "execution_count": 13,
   "id": "bed44d7f",
   "metadata": {
    "ExecuteTime": {
     "end_time": "2022-11-23T15:03:03.335847Z",
     "start_time": "2022-11-23T15:03:00.956311Z"
    }
   },
   "outputs": [
    {
     "data": {
      "text/plain": [
       "array([-1.212586 , -1.22159  , -1.2228304, ..., -1.2916659, -1.2462463,\n",
       "       -1.2067876], dtype=float32)"
      ]
     },
     "execution_count": 13,
     "metadata": {},
     "output_type": "execute_result"
    }
   ],
   "source": [
    "estimator.fit(X, y)\n",
    "prediction = estimator.predict(X)\n",
    "prediction"
   ]
  },
  {
   "cell_type": "code",
   "execution_count": 14,
   "id": "09e04775",
   "metadata": {
    "ExecuteTime": {
     "end_time": "2022-11-23T15:03:03.368319Z",
     "start_time": "2022-11-23T15:03:03.341223Z"
    }
   },
   "outputs": [],
   "source": [
    "from sklearn.model_selection import train_test_split\n",
    "X_train,X_test,y_train,y_test = train_test_split(X,y,test_size=0.3)"
   ]
  },
  {
   "cell_type": "code",
   "execution_count": 15,
   "id": "ba4fca77",
   "metadata": {
    "ExecuteTime": {
     "end_time": "2022-11-23T15:03:05.151486Z",
     "start_time": "2022-11-23T15:03:03.371745Z"
    }
   },
   "outputs": [
    {
     "data": {
      "text/plain": [
       "array([-0.61903644, -0.25303552,  0.01691921, ..., -0.28348288,\n",
       "       -1.5071924 , -0.60846436], dtype=float32)"
      ]
     },
     "execution_count": 15,
     "metadata": {},
     "output_type": "execute_result"
    }
   ],
   "source": [
    "estimator.fit(X_train, y_train)\n",
    "prediction = estimator.predict(X_test)\n",
    "prediction"
   ]
  },
  {
   "cell_type": "code",
   "execution_count": 16,
   "id": "3611210a",
   "metadata": {
    "ExecuteTime": {
     "end_time": "2022-11-23T15:03:05.166668Z",
     "start_time": "2022-11-23T15:03:05.152484Z"
    }
   },
   "outputs": [],
   "source": [
    "X = gt.drop(columns = ['TEY'], axis = 1) \n",
    "y = gt.iloc[:,7]"
   ]
  },
  {
   "cell_type": "code",
   "execution_count": 17,
   "id": "0d0fa382",
   "metadata": {
    "ExecuteTime": {
     "end_time": "2022-11-23T15:03:05.421785Z",
     "start_time": "2022-11-23T15:03:05.171165Z"
    }
   },
   "outputs": [
    {
     "data": {
      "text/plain": [
       "array([[ 0.82623246, -0.43954308, -0.25924569, ...,  0.10039242,\n",
       "        -0.3796304 , -0.69217007],\n",
       "       [ 0.35282087,  0.23279782,  0.80230139, ..., -1.18541222,\n",
       "         0.39149515, -1.09475442],\n",
       "       [ 0.32839008, -0.07135639,  0.25312287, ...,  0.01665304,\n",
       "        -0.00296896, -0.31891741],\n",
       "       ...,\n",
       "       [-0.74071701,  0.37687087,  0.43427425, ...,  1.77157829,\n",
       "        -1.00127821, -0.4818816 ],\n",
       "       [-0.49965786, -0.39151873,  0.64680105, ..., -0.26517949,\n",
       "        -0.48137538,  0.12808615],\n",
       "       [ 0.13151427,  0.32884652,  0.98830762, ..., -1.40331469,\n",
       "         0.13152215, -0.64456466]])"
      ]
     },
     "execution_count": 17,
     "metadata": {},
     "output_type": "execute_result"
    }
   ],
   "source": [
    "from sklearn.preprocessing import scale\n",
    "X_train, X_test, y_train, y_test = train_test_split(X, y, test_size = 0.1, random_state = 42)\n",
    "X_train_scaled = scale(X_train)\n",
    "X_test_scaled = scale(X_test)\n",
    "X_test_scaled"
   ]
  },
  {
   "cell_type": "code",
   "execution_count": 18,
   "id": "8a414f67",
   "metadata": {
    "ExecuteTime": {
     "end_time": "2022-11-23T15:03:09.446567Z",
     "start_time": "2022-11-23T15:03:05.421785Z"
    }
   },
   "outputs": [],
   "source": [
    "import tensorflow as tf\n",
    "input_size = len(X.columns)\n",
    "output_size = 1\n",
    "hidden_layer_size = 50\n",
    "\n",
    "model = tf.keras.Sequential([\n",
    "                                \n",
    "                               tf.keras.layers.Dense(hidden_layer_size, input_dim = input_size, activation = 'relu'),\n",
    "                               tf.keras.layers.Dense(hidden_layer_size, activation = 'relu'),\n",
    "                               tf.keras.layers.Dense(hidden_layer_size, activation = 'relu'),\n",
    "                               tf.keras.layers.Dense(hidden_layer_size, activation = 'relu'),     \n",
    "                               tf.keras.layers.Dense(output_size)\n",
    "                             ])"
   ]
  },
  {
   "cell_type": "code",
   "execution_count": 19,
   "id": "48daba51",
   "metadata": {
    "ExecuteTime": {
     "end_time": "2022-11-23T15:03:09.464936Z",
     "start_time": "2022-11-23T15:03:09.446567Z"
    }
   },
   "outputs": [],
   "source": [
    "optimizer = tf.keras.optimizers.SGD(learning_rate = 0.03)\n",
    "model.compile(optimizer = 'adam', loss = 'mean_squared_error', metrics = ['MeanSquaredError'])"
   ]
  },
  {
   "cell_type": "code",
   "execution_count": 20,
   "id": "1e589872",
   "metadata": {
    "ExecuteTime": {
     "end_time": "2022-11-23T15:03:28.173625Z",
     "start_time": "2022-11-23T15:03:09.466786Z"
    }
   },
   "outputs": [
    {
     "name": "stdout",
     "output_type": "stream",
     "text": [
      "Epoch 1/100\n",
      "381/381 [==============================] - 3s 4ms/step - loss: 3058.0051 - mean_squared_error: 3058.0051 - val_loss: 167.8214 - val_mean_squared_error: 167.8214\n",
      "Epoch 2/100\n",
      "381/381 [==============================] - 2s 4ms/step - loss: 84.9918 - mean_squared_error: 84.9918 - val_loss: 63.1683 - val_mean_squared_error: 63.1683\n",
      "Epoch 3/100\n",
      "381/381 [==============================] - 1s 4ms/step - loss: 36.5504 - mean_squared_error: 36.5504 - val_loss: 31.2118 - val_mean_squared_error: 31.2118\n",
      "Epoch 4/100\n",
      "381/381 [==============================] - 1s 4ms/step - loss: 18.2114 - mean_squared_error: 18.2114 - val_loss: 14.5335 - val_mean_squared_error: 14.5335\n",
      "Epoch 5/100\n",
      "381/381 [==============================] - 1s 3ms/step - loss: 9.3309 - mean_squared_error: 9.3309 - val_loss: 7.4136 - val_mean_squared_error: 7.4136\n",
      "Epoch 6/100\n",
      "381/381 [==============================] - 1s 3ms/step - loss: 5.2004 - mean_squared_error: 5.2004 - val_loss: 4.1317 - val_mean_squared_error: 4.1317\n",
      "Epoch 7/100\n",
      "381/381 [==============================] - 1s 3ms/step - loss: 3.3404 - mean_squared_error: 3.3404 - val_loss: 3.0478 - val_mean_squared_error: 3.0478\n",
      "Epoch 8/100\n",
      "381/381 [==============================] - 1s 4ms/step - loss: 2.3929 - mean_squared_error: 2.3929 - val_loss: 2.5258 - val_mean_squared_error: 2.5258\n",
      "Epoch 9/100\n",
      "381/381 [==============================] - 1s 3ms/step - loss: 1.8437 - mean_squared_error: 1.8437 - val_loss: 1.7916 - val_mean_squared_error: 1.7916\n",
      "Epoch 10/100\n",
      "381/381 [==============================] - 1s 4ms/step - loss: 1.4355 - mean_squared_error: 1.4355 - val_loss: 1.1269 - val_mean_squared_error: 1.1269\n",
      "Epoch 11/100\n",
      "381/381 [==============================] - 1s 4ms/step - loss: 1.3159 - mean_squared_error: 1.3159 - val_loss: 1.2191 - val_mean_squared_error: 1.2191\n",
      "Epoch 12/100\n",
      "381/381 [==============================] - 1s 4ms/step - loss: 1.1853 - mean_squared_error: 1.1853 - val_loss: 1.2504 - val_mean_squared_error: 1.2504\n"
     ]
    },
    {
     "data": {
      "text/plain": [
       "<keras.callbacks.History at 0x1cf89702ac0>"
      ]
     },
     "execution_count": 20,
     "metadata": {},
     "output_type": "execute_result"
    }
   ],
   "source": [
    "num_epochs = 100\n",
    "early_stopping = tf.keras.callbacks.EarlyStopping(patience = 2)\n",
    "model.fit(X_train_scaled, y_train, callbacks = early_stopping, validation_split = 0.1, epochs = num_epochs)"
   ]
  },
  {
   "cell_type": "code",
   "execution_count": 21,
   "id": "fb917b29",
   "metadata": {
    "ExecuteTime": {
     "end_time": "2022-11-23T15:03:28.438163Z",
     "start_time": "2022-11-23T15:03:28.177887Z"
    }
   },
   "outputs": [
    {
     "name": "stdout",
     "output_type": "stream",
     "text": [
      "47/47 [==============================] - 0s 2ms/step - loss: 1.3397 - mean_squared_error: 1.3397\n"
     ]
    }
   ],
   "source": [
    "test_loss, mean_squared_error = model.evaluate(X_test_scaled, y_test)\n"
   ]
  },
  {
   "cell_type": "code",
   "execution_count": 22,
   "id": "99578190",
   "metadata": {
    "ExecuteTime": {
     "end_time": "2022-11-23T15:03:29.076751Z",
     "start_time": "2022-11-23T15:03:28.441152Z"
    }
   },
   "outputs": [],
   "source": [
    "predictions = model.predict_on_batch(X_test_scaled)"
   ]
  },
  {
   "cell_type": "code",
   "execution_count": 23,
   "id": "665becbc",
   "metadata": {
    "ExecuteTime": {
     "end_time": "2022-11-23T15:03:29.597150Z",
     "start_time": "2022-11-23T15:03:29.080577Z"
    }
   },
   "outputs": [
    {
     "data": {
      "text/plain": [
       "<matplotlib.collections.PathCollection at 0x1cf89943c70>"
      ]
     },
     "execution_count": 23,
     "metadata": {},
     "output_type": "execute_result"
    },
    {
     "data": {
      "image/png": "[encoded data removed]",
      "text/plain": [
       "<Figure size 432x288 with 1 Axes>"
      ]
     },
     "metadata": {
      "needs_background": "light"
     },
     "output_type": "display_data"
    }
   ],
   "source": [
    "plt.scatter(y_test, predictions)"
   ]
  },
  {
   "cell_type": "code",
   "execution_count": 24,
   "id": "c8a61a7c",
   "metadata": {
    "ExecuteTime": {
     "end_time": "2022-11-23T15:03:29.636452Z",
     "start_time": "2022-11-23T15:03:29.597150Z"
    }
   },
   "outputs": [
    {
     "data": {
      "text/html": [
       "<div>\n",
       "<style scoped>\n",
       "    .dataframe tbody tr th:only-of-type {\n",
       "        vertical-align: middle;\n",
       "    }\n",
       "\n",
       "    .dataframe tbody tr th {\n",
       "        vertical-align: top;\n",
       "    }\n",
       "\n",
       "    .dataframe thead th {\n",
       "        text-align: right;\n",
       "    }\n",
       "</style>\n",
       "<table border=\"1\" class=\"dataframe\">\n",
       "  <thead>\n",
       "    <tr style=\"text-align: right;\">\n",
       "      <th></th>\n",
       "      <th>Actual</th>\n",
       "      <th>Predicted</th>\n",
       "      <th>% Error</th>\n",
       "    </tr>\n",
       "  </thead>\n",
       "  <tbody>\n",
       "    <tr>\n",
       "      <th>0</th>\n",
       "      <td>134.46</td>\n",
       "      <td>133.976410</td>\n",
       "      <td>0.359653</td>\n",
       "    </tr>\n",
       "    <tr>\n",
       "      <th>1</th>\n",
       "      <td>111.88</td>\n",
       "      <td>111.525894</td>\n",
       "      <td>0.316505</td>\n",
       "    </tr>\n",
       "    <tr>\n",
       "      <th>2</th>\n",
       "      <td>133.72</td>\n",
       "      <td>134.206116</td>\n",
       "      <td>0.363533</td>\n",
       "    </tr>\n",
       "    <tr>\n",
       "      <th>3</th>\n",
       "      <td>133.79</td>\n",
       "      <td>133.081848</td>\n",
       "      <td>0.529301</td>\n",
       "    </tr>\n",
       "    <tr>\n",
       "      <th>4</th>\n",
       "      <td>110.77</td>\n",
       "      <td>111.100327</td>\n",
       "      <td>0.298209</td>\n",
       "    </tr>\n",
       "    <tr>\n",
       "      <th>...</th>\n",
       "      <td>...</td>\n",
       "      <td>...</td>\n",
       "      <td>...</td>\n",
       "    </tr>\n",
       "    <tr>\n",
       "      <th>1499</th>\n",
       "      <td>132.85</td>\n",
       "      <td>132.489883</td>\n",
       "      <td>0.271070</td>\n",
       "    </tr>\n",
       "    <tr>\n",
       "      <th>1500</th>\n",
       "      <td>125.07</td>\n",
       "      <td>123.563622</td>\n",
       "      <td>1.204428</td>\n",
       "    </tr>\n",
       "    <tr>\n",
       "      <th>1501</th>\n",
       "      <td>160.95</td>\n",
       "      <td>160.696152</td>\n",
       "      <td>0.157719</td>\n",
       "    </tr>\n",
       "    <tr>\n",
       "      <th>1502</th>\n",
       "      <td>133.12</td>\n",
       "      <td>132.685501</td>\n",
       "      <td>0.326396</td>\n",
       "    </tr>\n",
       "    <tr>\n",
       "      <th>1503</th>\n",
       "      <td>111.79</td>\n",
       "      <td>111.634644</td>\n",
       "      <td>0.138972</td>\n",
       "    </tr>\n",
       "  </tbody>\n",
       "</table>\n",
       "<p>1504 rows × 3 columns</p>\n",
       "</div>"
      ],
      "text/plain": [
       "      Actual   Predicted   % Error\n",
       "0     134.46  133.976410  0.359653\n",
       "1     111.88  111.525894  0.316505\n",
       "2     133.72  134.206116  0.363533\n",
       "3     133.79  133.081848  0.529301\n",
       "4     110.77  111.100327  0.298209\n",
       "...      ...         ...       ...\n",
       "1499  132.85  132.489883  0.271070\n",
       "1500  125.07  123.563622  1.204428\n",
       "1501  160.95  160.696152  0.157719\n",
       "1502  133.12  132.685501  0.326396\n",
       "1503  111.79  111.634644  0.138972\n",
       "\n",
       "[1504 rows x 3 columns]"
      ]
     },
     "execution_count": 24,
     "metadata": {},
     "output_type": "execute_result"
    }
   ],
   "source": [
    "predictions_df = pd.DataFrame()\n",
    "predictions_df['Actual'] = y_test\n",
    "predictions_df['Predicted'] = predictions\n",
    "predictions_df['% Error'] = abs(predictions_df['Actual'] - predictions_df['Predicted'])/predictions_df['Actual']*100\n",
    "predictions_df.reset_index(drop = True)"
   ]
  },
  {
   "cell_type": "markdown",
   "id": "4cd0b18f",
   "metadata": {},
   "source": [
    "# forestfires.csv"
   ]
  },
  {
   "cell_type": "code",
   "execution_count": 25,
   "id": "bdc91d8c",
   "metadata": {
    "ExecuteTime": {
     "end_time": "2022-11-23T15:03:29.838744Z",
     "start_time": "2022-11-23T15:03:29.646639Z"
    }
   },
   "outputs": [
    {
     "data": {
      "text/html": [
       "<div>\n",
       "<style scoped>\n",
       "    .dataframe tbody tr th:only-of-type {\n",
       "        vertical-align: middle;\n",
       "    }\n",
       "\n",
       "    .dataframe tbody tr th {\n",
       "        vertical-align: top;\n",
       "    }\n",
       "\n",
       "    .dataframe thead th {\n",
       "        text-align: right;\n",
       "    }\n",
       "</style>\n",
       "<table border=\"1\" class=\"dataframe\">\n",
       "  <thead>\n",
       "    <tr style=\"text-align: right;\">\n",
       "      <th></th>\n",
       "      <th>month</th>\n",
       "      <th>day</th>\n",
       "      <th>FFMC</th>\n",
       "      <th>DMC</th>\n",
       "      <th>DC</th>\n",
       "      <th>ISI</th>\n",
       "      <th>temp</th>\n",
       "      <th>RH</th>\n",
       "      <th>wind</th>\n",
       "      <th>rain</th>\n",
       "      <th>...</th>\n",
       "      <th>monthfeb</th>\n",
       "      <th>monthjan</th>\n",
       "      <th>monthjul</th>\n",
       "      <th>monthjun</th>\n",
       "      <th>monthmar</th>\n",
       "      <th>monthmay</th>\n",
       "      <th>monthnov</th>\n",
       "      <th>monthoct</th>\n",
       "      <th>monthsep</th>\n",
       "      <th>size_category</th>\n",
       "    </tr>\n",
       "  </thead>\n",
       "  <tbody>\n",
       "    <tr>\n",
       "      <th>0</th>\n",
       "      <td>mar</td>\n",
       "      <td>fri</td>\n",
       "      <td>86.2</td>\n",
       "      <td>26.2</td>\n",
       "      <td>94.3</td>\n",
       "      <td>5.1</td>\n",
       "      <td>8.2</td>\n",
       "      <td>51</td>\n",
       "      <td>6.7</td>\n",
       "      <td>0.0</td>\n",
       "      <td>...</td>\n",
       "      <td>0</td>\n",
       "      <td>0</td>\n",
       "      <td>0</td>\n",
       "      <td>0</td>\n",
       "      <td>1</td>\n",
       "      <td>0</td>\n",
       "      <td>0</td>\n",
       "      <td>0</td>\n",
       "      <td>0</td>\n",
       "      <td>small</td>\n",
       "    </tr>\n",
       "    <tr>\n",
       "      <th>1</th>\n",
       "      <td>oct</td>\n",
       "      <td>tue</td>\n",
       "      <td>90.6</td>\n",
       "      <td>35.4</td>\n",
       "      <td>669.1</td>\n",
       "      <td>6.7</td>\n",
       "      <td>18.0</td>\n",
       "      <td>33</td>\n",
       "      <td>0.9</td>\n",
       "      <td>0.0</td>\n",
       "      <td>...</td>\n",
       "      <td>0</td>\n",
       "      <td>0</td>\n",
       "      <td>0</td>\n",
       "      <td>0</td>\n",
       "      <td>0</td>\n",
       "      <td>0</td>\n",
       "      <td>0</td>\n",
       "      <td>1</td>\n",
       "      <td>0</td>\n",
       "      <td>small</td>\n",
       "    </tr>\n",
       "    <tr>\n",
       "      <th>2</th>\n",
       "      <td>oct</td>\n",
       "      <td>sat</td>\n",
       "      <td>90.6</td>\n",
       "      <td>43.7</td>\n",
       "      <td>686.9</td>\n",
       "      <td>6.7</td>\n",
       "      <td>14.6</td>\n",
       "      <td>33</td>\n",
       "      <td>1.3</td>\n",
       "      <td>0.0</td>\n",
       "      <td>...</td>\n",
       "      <td>0</td>\n",
       "      <td>0</td>\n",
       "      <td>0</td>\n",
       "      <td>0</td>\n",
       "      <td>0</td>\n",
       "      <td>0</td>\n",
       "      <td>0</td>\n",
       "      <td>1</td>\n",
       "      <td>0</td>\n",
       "      <td>small</td>\n",
       "    </tr>\n",
       "    <tr>\n",
       "      <th>3</th>\n",
       "      <td>mar</td>\n",
       "      <td>fri</td>\n",
       "      <td>91.7</td>\n",
       "      <td>33.3</td>\n",
       "      <td>77.5</td>\n",
       "      <td>9.0</td>\n",
       "      <td>8.3</td>\n",
       "      <td>97</td>\n",
       "      <td>4.0</td>\n",
       "      <td>0.2</td>\n",
       "      <td>...</td>\n",
       "      <td>0</td>\n",
       "      <td>0</td>\n",
       "      <td>0</td>\n",
       "      <td>0</td>\n",
       "      <td>1</td>\n",
       "      <td>0</td>\n",
       "      <td>0</td>\n",
       "      <td>0</td>\n",
       "      <td>0</td>\n",
       "      <td>small</td>\n",
       "    </tr>\n",
       "    <tr>\n",
       "      <th>4</th>\n",
       "      <td>mar</td>\n",
       "      <td>sun</td>\n",
       "      <td>89.3</td>\n",
       "      <td>51.3</td>\n",
       "      <td>102.2</td>\n",
       "      <td>9.6</td>\n",
       "      <td>11.4</td>\n",
       "      <td>99</td>\n",
       "      <td>1.8</td>\n",
       "      <td>0.0</td>\n",
       "      <td>...</td>\n",
       "      <td>0</td>\n",
       "      <td>0</td>\n",
       "      <td>0</td>\n",
       "      <td>0</td>\n",
       "      <td>1</td>\n",
       "      <td>0</td>\n",
       "      <td>0</td>\n",
       "      <td>0</td>\n",
       "      <td>0</td>\n",
       "      <td>small</td>\n",
       "    </tr>\n",
       "    <tr>\n",
       "      <th>...</th>\n",
       "      <td>...</td>\n",
       "      <td>...</td>\n",
       "      <td>...</td>\n",
       "      <td>...</td>\n",
       "      <td>...</td>\n",
       "      <td>...</td>\n",
       "      <td>...</td>\n",
       "      <td>...</td>\n",
       "      <td>...</td>\n",
       "      <td>...</td>\n",
       "      <td>...</td>\n",
       "      <td>...</td>\n",
       "      <td>...</td>\n",
       "      <td>...</td>\n",
       "      <td>...</td>\n",
       "      <td>...</td>\n",
       "      <td>...</td>\n",
       "      <td>...</td>\n",
       "      <td>...</td>\n",
       "      <td>...</td>\n",
       "      <td>...</td>\n",
       "    </tr>\n",
       "    <tr>\n",
       "      <th>512</th>\n",
       "      <td>aug</td>\n",
       "      <td>sun</td>\n",
       "      <td>81.6</td>\n",
       "      <td>56.7</td>\n",
       "      <td>665.6</td>\n",
       "      <td>1.9</td>\n",
       "      <td>27.8</td>\n",
       "      <td>32</td>\n",
       "      <td>2.7</td>\n",
       "      <td>0.0</td>\n",
       "      <td>...</td>\n",
       "      <td>0</td>\n",
       "      <td>0</td>\n",
       "      <td>0</td>\n",
       "      <td>0</td>\n",
       "      <td>0</td>\n",
       "      <td>0</td>\n",
       "      <td>0</td>\n",
       "      <td>0</td>\n",
       "      <td>0</td>\n",
       "      <td>large</td>\n",
       "    </tr>\n",
       "    <tr>\n",
       "      <th>513</th>\n",
       "      <td>aug</td>\n",
       "      <td>sun</td>\n",
       "      <td>81.6</td>\n",
       "      <td>56.7</td>\n",
       "      <td>665.6</td>\n",
       "      <td>1.9</td>\n",
       "      <td>21.9</td>\n",
       "      <td>71</td>\n",
       "      <td>5.8</td>\n",
       "      <td>0.0</td>\n",
       "      <td>...</td>\n",
       "      <td>0</td>\n",
       "      <td>0</td>\n",
       "      <td>0</td>\n",
       "      <td>0</td>\n",
       "      <td>0</td>\n",
       "      <td>0</td>\n",
       "      <td>0</td>\n",
       "      <td>0</td>\n",
       "      <td>0</td>\n",
       "      <td>large</td>\n",
       "    </tr>\n",
       "    <tr>\n",
       "      <th>514</th>\n",
       "      <td>aug</td>\n",
       "      <td>sun</td>\n",
       "      <td>81.6</td>\n",
       "      <td>56.7</td>\n",
       "      <td>665.6</td>\n",
       "      <td>1.9</td>\n",
       "      <td>21.2</td>\n",
       "      <td>70</td>\n",
       "      <td>6.7</td>\n",
       "      <td>0.0</td>\n",
       "      <td>...</td>\n",
       "      <td>0</td>\n",
       "      <td>0</td>\n",
       "      <td>0</td>\n",
       "      <td>0</td>\n",
       "      <td>0</td>\n",
       "      <td>0</td>\n",
       "      <td>0</td>\n",
       "      <td>0</td>\n",
       "      <td>0</td>\n",
       "      <td>large</td>\n",
       "    </tr>\n",
       "    <tr>\n",
       "      <th>515</th>\n",
       "      <td>aug</td>\n",
       "      <td>sat</td>\n",
       "      <td>94.4</td>\n",
       "      <td>146.0</td>\n",
       "      <td>614.7</td>\n",
       "      <td>11.3</td>\n",
       "      <td>25.6</td>\n",
       "      <td>42</td>\n",
       "      <td>4.0</td>\n",
       "      <td>0.0</td>\n",
       "      <td>...</td>\n",
       "      <td>0</td>\n",
       "      <td>0</td>\n",
       "      <td>0</td>\n",
       "      <td>0</td>\n",
       "      <td>0</td>\n",
       "      <td>0</td>\n",
       "      <td>0</td>\n",
       "      <td>0</td>\n",
       "      <td>0</td>\n",
       "      <td>small</td>\n",
       "    </tr>\n",
       "    <tr>\n",
       "      <th>516</th>\n",
       "      <td>nov</td>\n",
       "      <td>tue</td>\n",
       "      <td>79.5</td>\n",
       "      <td>3.0</td>\n",
       "      <td>106.7</td>\n",
       "      <td>1.1</td>\n",
       "      <td>11.8</td>\n",
       "      <td>31</td>\n",
       "      <td>4.5</td>\n",
       "      <td>0.0</td>\n",
       "      <td>...</td>\n",
       "      <td>0</td>\n",
       "      <td>0</td>\n",
       "      <td>0</td>\n",
       "      <td>0</td>\n",
       "      <td>0</td>\n",
       "      <td>0</td>\n",
       "      <td>1</td>\n",
       "      <td>0</td>\n",
       "      <td>0</td>\n",
       "      <td>small</td>\n",
       "    </tr>\n",
       "  </tbody>\n",
       "</table>\n",
       "<p>517 rows × 31 columns</p>\n",
       "</div>"
      ],
      "text/plain": [
       "    month  day  FFMC    DMC     DC   ISI  temp  RH  wind  rain  ...  monthfeb  \\\n",
       "0     mar  fri  86.2   26.2   94.3   5.1   8.2  51   6.7   0.0  ...         0   \n",
       "1     oct  tue  90.6   35.4  669.1   6.7  18.0  33   0.9   0.0  ...         0   \n",
       "2     oct  sat  90.6   43.7  686.9   6.7  14.6  33   1.3   0.0  ...         0   \n",
       "3     mar  fri  91.7   33.3   77.5   9.0   8.3  97   4.0   0.2  ...         0   \n",
       "4     mar  sun  89.3   51.3  102.2   9.6  11.4  99   1.8   0.0  ...         0   \n",
       "..    ...  ...   ...    ...    ...   ...   ...  ..   ...   ...  ...       ...   \n",
       "512   aug  sun  81.6   56.7  665.6   1.9  27.8  32   2.7   0.0  ...         0   \n",
       "513   aug  sun  81.6   56.7  665.6   1.9  21.9  71   5.8   0.0  ...         0   \n",
       "514   aug  sun  81.6   56.7  665.6   1.9  21.2  70   6.7   0.0  ...         0   \n",
       "515   aug  sat  94.4  146.0  614.7  11.3  25.6  42   4.0   0.0  ...         0   \n",
       "516   nov  tue  79.5    3.0  106.7   1.1  11.8  31   4.5   0.0  ...         0   \n",
       "\n",
       "     monthjan  monthjul  monthjun  monthmar  monthmay  monthnov  monthoct  \\\n",
       "0           0         0         0         1         0         0         0   \n",
       "1           0         0         0         0         0         0         1   \n",
       "2           0         0         0         0         0         0         1   \n",
       "3           0         0         0         1         0         0         0   \n",
       "4           0         0         0         1         0         0         0   \n",
       "..        ...       ...       ...       ...       ...       ...       ...   \n",
       "512         0         0         0         0         0         0         0   \n",
       "513         0         0         0         0         0         0         0   \n",
       "514         0         0         0         0         0         0         0   \n",
       "515         0         0         0         0         0         0         0   \n",
       "516         0         0         0         0         0         1         0   \n",
       "\n",
       "     monthsep  size_category  \n",
       "0           0          small  \n",
       "1           0          small  \n",
       "2           0          small  \n",
       "3           0          small  \n",
       "4           0          small  \n",
       "..        ...            ...  \n",
       "512         0          large  \n",
       "513         0          large  \n",
       "514         0          large  \n",
       "515         0          small  \n",
       "516         0          small  \n",
       "\n",
       "[517 rows x 31 columns]"
      ]
     },
     "execution_count": 25,
     "metadata": {},
     "output_type": "execute_result"
    }
   ],
   "source": [
    "data=pd.read_csv('forestfires.csv')\n",
    "data"
   ]
  },
  {
   "cell_type": "code",
   "execution_count": 36,
   "id": "fd77658c",
   "metadata": {
    "ExecuteTime": {
     "end_time": "2022-11-23T15:12:33.546073Z",
     "start_time": "2022-11-23T15:12:33.530437Z"
    }
   },
   "outputs": [],
   "source": [
    "mapping = {'small': 1, 'large': 2}"
   ]
  },
  {
   "cell_type": "code",
   "execution_count": 37,
   "id": "d5f912cf",
   "metadata": {
    "ExecuteTime": {
     "end_time": "2022-11-23T15:12:42.092344Z",
     "start_time": "2022-11-23T15:12:42.083751Z"
    }
   },
   "outputs": [],
   "source": [
    "data = data.replace(mapping)"
   ]
  },
  {
   "cell_type": "code",
   "execution_count": 38,
   "id": "840c2281",
   "metadata": {
    "ExecuteTime": {
     "end_time": "2022-11-23T15:12:52.102500Z",
     "start_time": "2022-11-23T15:12:52.083869Z"
    }
   },
   "outputs": [],
   "source": [
    "x = np.array(data.iloc[:,0:28])\n",
    "y = np.array(data.iloc[:,28])"
   ]
  },
  {
   "cell_type": "code",
   "execution_count": 39,
   "id": "8b8d05b7",
   "metadata": {
    "ExecuteTime": {
     "end_time": "2022-11-23T15:12:59.697661Z",
     "start_time": "2022-11-23T15:12:59.688947Z"
    }
   },
   "outputs": [],
   "source": [
    "def norm_func(i):\n",
    "    x = (i-i.min())/(i.max()-i.min())\n",
    "    return (x)"
   ]
  },
  {
   "cell_type": "code",
   "execution_count": 40,
   "id": "dea6bd7b",
   "metadata": {
    "ExecuteTime": {
     "end_time": "2022-11-23T15:13:06.583302Z",
     "start_time": "2022-11-23T15:13:06.563439Z"
    }
   },
   "outputs": [],
   "source": [
    "x_norm = norm_func(x)"
   ]
  },
  {
   "cell_type": "code",
   "execution_count": 41,
   "id": "c73b4f52",
   "metadata": {
    "ExecuteTime": {
     "end_time": "2022-11-23T15:13:14.602877Z",
     "start_time": "2022-11-23T15:13:14.582180Z"
    }
   },
   "outputs": [],
   "source": [
    "x_train,x_test,y_train,y_test= train_test_split(x_norm,y, test_size=0.2,stratify = y)"
   ]
  },
  {
   "cell_type": "code",
   "execution_count": 42,
   "id": "43408dac",
   "metadata": {
    "ExecuteTime": {
     "end_time": "2022-11-23T15:13:22.331909Z",
     "start_time": "2022-11-23T15:13:22.238063Z"
    }
   },
   "outputs": [],
   "source": [
    "model = Sequential()\n",
    "model.add(Dense(8, input_dim=28, activation='linear'))\n",
    "model.add(Dense(4,  activation='tanh'))\n",
    "model.add(Dense(1,  activation='sigmoid'))"
   ]
  },
  {
   "cell_type": "code",
   "execution_count": 43,
   "id": "22597bbc",
   "metadata": {
    "ExecuteTime": {
     "end_time": "2022-11-23T15:13:29.829828Z",
     "start_time": "2022-11-23T15:13:29.799510Z"
    }
   },
   "outputs": [],
   "source": [
    "model.compile(loss='binary_crossentropy', optimizer='adam', metrics=['accuracy'])"
   ]
  },
  {
   "cell_type": "code",
   "execution_count": 44,
   "id": "cd740f47",
   "metadata": {
    "ExecuteTime": {
     "end_time": "2022-11-23T15:13:59.937223Z",
     "start_time": "2022-11-23T15:13:38.207377Z"
    }
   },
   "outputs": [
    {
     "name": "stdout",
     "output_type": "stream",
     "text": [
      "Epoch 1/120\n",
      "29/29 [==============================] - 3s 18ms/step - loss: 0.3868 - accuracy: 0.7197 - val_loss: 0.2932 - val_accuracy: 0.7500\n",
      "Epoch 2/120\n",
      "29/29 [==============================] - 0s 5ms/step - loss: 0.1660 - accuracy: 0.7232 - val_loss: 0.0819 - val_accuracy: 0.7500\n",
      "Epoch 3/120\n",
      "29/29 [==============================] - 0s 5ms/step - loss: -0.0486 - accuracy: 0.7232 - val_loss: -0.1181 - val_accuracy: 0.7500\n",
      "Epoch 4/120\n",
      "29/29 [==============================] - 0s 5ms/step - loss: -0.2551 - accuracy: 0.7232 - val_loss: -0.2924 - val_accuracy: 0.7500\n",
      "Epoch 5/120\n",
      "29/29 [==============================] - 0s 3ms/step - loss: -0.4303 - accuracy: 0.7232 - val_loss: -0.4583 - val_accuracy: 0.7500\n",
      "Epoch 6/120\n",
      "29/29 [==============================] - 0s 4ms/step - loss: -0.5921 - accuracy: 0.7232 - val_loss: -0.5837 - val_accuracy: 0.7500\n",
      "Epoch 7/120\n",
      "29/29 [==============================] - 0s 6ms/step - loss: -0.7228 - accuracy: 0.7232 - val_loss: -0.6929 - val_accuracy: 0.7500\n",
      "Epoch 8/120\n",
      "29/29 [==============================] - 0s 5ms/step - loss: -0.8311 - accuracy: 0.7232 - val_loss: -0.7882 - val_accuracy: 0.7500\n",
      "Epoch 9/120\n",
      "29/29 [==============================] - 0s 5ms/step - loss: -0.9248 - accuracy: 0.7232 - val_loss: -0.8667 - val_accuracy: 0.7500\n",
      "Epoch 10/120\n",
      "29/29 [==============================] - 0s 7ms/step - loss: -1.0060 - accuracy: 0.7232 - val_loss: -0.9298 - val_accuracy: 0.7500\n",
      "Epoch 11/120\n",
      "29/29 [==============================] - 0s 6ms/step - loss: -1.0721 - accuracy: 0.7232 - val_loss: -0.9945 - val_accuracy: 0.7500\n",
      "Epoch 12/120\n",
      "29/29 [==============================] - 0s 5ms/step - loss: -1.1373 - accuracy: 0.7232 - val_loss: -1.0456 - val_accuracy: 0.7500\n",
      "Epoch 13/120\n",
      "29/29 [==============================] - 0s 6ms/step - loss: -1.1926 - accuracy: 0.7232 - val_loss: -1.0979 - val_accuracy: 0.7500\n",
      "Epoch 14/120\n",
      "29/29 [==============================] - 0s 5ms/step - loss: -1.2458 - accuracy: 0.7232 - val_loss: -1.1457 - val_accuracy: 0.7500\n",
      "Epoch 15/120\n",
      "29/29 [==============================] - 0s 5ms/step - loss: -1.2972 - accuracy: 0.7232 - val_loss: -1.1873 - val_accuracy: 0.7500\n",
      "Epoch 16/120\n",
      "29/29 [==============================] - 0s 5ms/step - loss: -1.3434 - accuracy: 0.7232 - val_loss: -1.2312 - val_accuracy: 0.7500\n",
      "Epoch 17/120\n",
      "29/29 [==============================] - 0s 5ms/step - loss: -1.3893 - accuracy: 0.7232 - val_loss: -1.2732 - val_accuracy: 0.7500\n",
      "Epoch 18/120\n",
      "29/29 [==============================] - 0s 5ms/step - loss: -1.4341 - accuracy: 0.7232 - val_loss: -1.3124 - val_accuracy: 0.7500\n",
      "Epoch 19/120\n",
      "29/29 [==============================] - 0s 5ms/step - loss: -1.4773 - accuracy: 0.7232 - val_loss: -1.3506 - val_accuracy: 0.7500\n",
      "Epoch 20/120\n",
      "29/29 [==============================] - 0s 5ms/step - loss: -1.5192 - accuracy: 0.7232 - val_loss: -1.3892 - val_accuracy: 0.7500\n",
      "Epoch 21/120\n",
      "29/29 [==============================] - 0s 5ms/step - loss: -1.5608 - accuracy: 0.7232 - val_loss: -1.4259 - val_accuracy: 0.7500\n",
      "Epoch 22/120\n",
      "29/29 [==============================] - 0s 5ms/step - loss: -1.6005 - accuracy: 0.7232 - val_loss: -1.4640 - val_accuracy: 0.7500\n",
      "Epoch 23/120\n",
      "29/29 [==============================] - 0s 6ms/step - loss: -1.6422 - accuracy: 0.7232 - val_loss: -1.4975 - val_accuracy: 0.7500\n",
      "Epoch 24/120\n",
      "29/29 [==============================] - 0s 7ms/step - loss: -1.6801 - accuracy: 0.7232 - val_loss: -1.5356 - val_accuracy: 0.7500\n",
      "Epoch 25/120\n",
      "29/29 [==============================] - 0s 5ms/step - loss: -1.7201 - accuracy: 0.7232 - val_loss: -1.5713 - val_accuracy: 0.7500\n",
      "Epoch 26/120\n",
      "29/29 [==============================] - 0s 5ms/step - loss: -1.7589 - accuracy: 0.7232 - val_loss: -1.6067 - val_accuracy: 0.7500\n",
      "Epoch 27/120\n",
      "29/29 [==============================] - 0s 6ms/step - loss: -1.7981 - accuracy: 0.7232 - val_loss: -1.6404 - val_accuracy: 0.7500\n",
      "Epoch 28/120\n",
      "29/29 [==============================] - 0s 5ms/step - loss: -1.8363 - accuracy: 0.7232 - val_loss: -1.6745 - val_accuracy: 0.7500\n",
      "Epoch 29/120\n",
      "29/29 [==============================] - 0s 5ms/step - loss: -1.8741 - accuracy: 0.7232 - val_loss: -1.7094 - val_accuracy: 0.7500\n",
      "Epoch 30/120\n",
      "29/29 [==============================] - 0s 5ms/step - loss: -1.9121 - accuracy: 0.7232 - val_loss: -1.7441 - val_accuracy: 0.7500\n",
      "Epoch 31/120\n",
      "29/29 [==============================] - 0s 5ms/step - loss: -1.9502 - accuracy: 0.7232 - val_loss: -1.7781 - val_accuracy: 0.7500\n",
      "Epoch 32/120\n",
      "29/29 [==============================] - 0s 6ms/step - loss: -1.9880 - accuracy: 0.7232 - val_loss: -1.8114 - val_accuracy: 0.7500\n",
      "Epoch 33/120\n",
      "29/29 [==============================] - 0s 5ms/step - loss: -2.0248 - accuracy: 0.7232 - val_loss: -1.8464 - val_accuracy: 0.7500\n",
      "Epoch 34/120\n",
      "29/29 [==============================] - 0s 5ms/step - loss: -2.0631 - accuracy: 0.7232 - val_loss: -1.8789 - val_accuracy: 0.7500\n",
      "Epoch 35/120\n",
      "29/29 [==============================] - 0s 6ms/step - loss: -2.0997 - accuracy: 0.7232 - val_loss: -1.9135 - val_accuracy: 0.7500\n",
      "Epoch 36/120\n",
      "29/29 [==============================] - 0s 5ms/step - loss: -2.1376 - accuracy: 0.7232 - val_loss: -1.9466 - val_accuracy: 0.7500\n",
      "Epoch 37/120\n",
      "29/29 [==============================] - 0s 6ms/step - loss: -2.1743 - accuracy: 0.7232 - val_loss: -1.9807 - val_accuracy: 0.7500\n",
      "Epoch 38/120\n",
      "29/29 [==============================] - 0s 7ms/step - loss: -2.2114 - accuracy: 0.7232 - val_loss: -2.0149 - val_accuracy: 0.7500\n",
      "Epoch 39/120\n",
      "29/29 [==============================] - 0s 5ms/step - loss: -2.2490 - accuracy: 0.7232 - val_loss: -2.0473 - val_accuracy: 0.7500\n",
      "Epoch 40/120\n",
      "29/29 [==============================] - 0s 5ms/step - loss: -2.2853 - accuracy: 0.7232 - val_loss: -2.0813 - val_accuracy: 0.7500\n",
      "Epoch 41/120\n",
      "29/29 [==============================] - 0s 5ms/step - loss: -2.3230 - accuracy: 0.7232 - val_loss: -2.1137 - val_accuracy: 0.7500\n",
      "Epoch 42/120\n",
      "29/29 [==============================] - 0s 5ms/step - loss: -2.3596 - accuracy: 0.7232 - val_loss: -2.1472 - val_accuracy: 0.7500\n",
      "Epoch 43/120\n",
      "29/29 [==============================] - 0s 5ms/step - loss: -2.3966 - accuracy: 0.7232 - val_loss: -2.1803 - val_accuracy: 0.7500\n",
      "Epoch 44/120\n",
      "29/29 [==============================] - 0s 5ms/step - loss: -2.4331 - accuracy: 0.7232 - val_loss: -2.2144 - val_accuracy: 0.7500\n",
      "Epoch 45/120\n",
      "29/29 [==============================] - 0s 5ms/step - loss: -2.4704 - accuracy: 0.7232 - val_loss: -2.2468 - val_accuracy: 0.7500\n",
      "Epoch 46/120\n",
      "29/29 [==============================] - 0s 5ms/step - loss: -2.5062 - accuracy: 0.7232 - val_loss: -2.2817 - val_accuracy: 0.7500\n",
      "Epoch 47/120\n",
      "29/29 [==============================] - 0s 5ms/step - loss: -2.5439 - accuracy: 0.7232 - val_loss: -2.3143 - val_accuracy: 0.7500\n",
      "Epoch 48/120\n",
      "29/29 [==============================] - 0s 3ms/step - loss: -2.5801 - accuracy: 0.7232 - val_loss: -2.3482 - val_accuracy: 0.7500\n",
      "Epoch 49/120\n",
      "29/29 [==============================] - 0s 5ms/step - loss: -2.6174 - accuracy: 0.7232 - val_loss: -2.3801 - val_accuracy: 0.7500\n",
      "Epoch 50/120\n",
      "29/29 [==============================] - 0s 6ms/step - loss: -2.6535 - accuracy: 0.7232 - val_loss: -2.4136 - val_accuracy: 0.7500\n",
      "Epoch 51/120\n",
      "29/29 [==============================] - 0s 6ms/step - loss: -2.6903 - accuracy: 0.7232 - val_loss: -2.4467 - val_accuracy: 0.7500\n",
      "Epoch 52/120\n",
      "29/29 [==============================] - 0s 6ms/step - loss: -2.7268 - accuracy: 0.7232 - val_loss: -2.4799 - val_accuracy: 0.7500\n",
      "Epoch 53/120\n",
      "29/29 [==============================] - 0s 6ms/step - loss: -2.7635 - accuracy: 0.7232 - val_loss: -2.5127 - val_accuracy: 0.7500\n",
      "Epoch 54/120\n",
      "29/29 [==============================] - 0s 6ms/step - loss: -2.8005 - accuracy: 0.7232 - val_loss: -2.5445 - val_accuracy: 0.7500\n",
      "Epoch 55/120\n",
      "29/29 [==============================] - 0s 5ms/step - loss: -2.8360 - accuracy: 0.7232 - val_loss: -2.5791 - val_accuracy: 0.7500\n",
      "Epoch 56/120\n",
      "29/29 [==============================] - 0s 5ms/step - loss: -2.8735 - accuracy: 0.7232 - val_loss: -2.6112 - val_accuracy: 0.7500\n",
      "Epoch 57/120\n",
      "29/29 [==============================] - 0s 5ms/step - loss: -2.9090 - accuracy: 0.7232 - val_loss: -2.6455 - val_accuracy: 0.7500\n",
      "Epoch 58/120\n",
      "29/29 [==============================] - 0s 5ms/step - loss: -2.9466 - accuracy: 0.7232 - val_loss: -2.6772 - val_accuracy: 0.7500\n",
      "Epoch 59/120\n",
      "29/29 [==============================] - 0s 5ms/step - loss: -2.9825 - accuracy: 0.7232 - val_loss: -2.7102 - val_accuracy: 0.7500\n",
      "Epoch 60/120\n",
      "29/29 [==============================] - 0s 5ms/step - loss: -3.0188 - accuracy: 0.7232 - val_loss: -2.7435 - val_accuracy: 0.7500\n",
      "Epoch 61/120\n",
      "29/29 [==============================] - 0s 5ms/step - loss: -3.0558 - accuracy: 0.7232 - val_loss: -2.7752 - val_accuracy: 0.7500\n",
      "Epoch 62/120\n",
      "29/29 [==============================] - 0s 5ms/step - loss: -3.0913 - accuracy: 0.7232 - val_loss: -2.8094 - val_accuracy: 0.7500\n",
      "Epoch 63/120\n",
      "29/29 [==============================] - 0s 5ms/step - loss: -3.1287 - accuracy: 0.7232 - val_loss: -2.8407 - val_accuracy: 0.7500\n",
      "Epoch 64/120\n",
      "29/29 [==============================] - 0s 5ms/step - loss: -3.1642 - accuracy: 0.7232 - val_loss: -2.8743 - val_accuracy: 0.7500\n",
      "Epoch 65/120\n",
      "29/29 [==============================] - 0s 5ms/step - loss: -3.2006 - accuracy: 0.7232 - val_loss: -2.9080 - val_accuracy: 0.7500\n",
      "Epoch 66/120\n",
      "29/29 [==============================] - 0s 7ms/step - loss: -3.2370 - accuracy: 0.7232 - val_loss: -2.9410 - val_accuracy: 0.7500\n",
      "Epoch 67/120\n",
      "29/29 [==============================] - 0s 5ms/step - loss: -3.2741 - accuracy: 0.7232 - val_loss: -2.9718 - val_accuracy: 0.7500\n",
      "Epoch 68/120\n",
      "29/29 [==============================] - 0s 5ms/step - loss: -3.3091 - accuracy: 0.7232 - val_loss: -3.0060 - val_accuracy: 0.7500\n",
      "Epoch 69/120\n",
      "29/29 [==============================] - 0s 5ms/step - loss: -3.3462 - accuracy: 0.7232 - val_loss: -3.0381 - val_accuracy: 0.7500\n",
      "Epoch 70/120\n",
      "29/29 [==============================] - 0s 5ms/step - loss: -3.3817 - accuracy: 0.7232 - val_loss: -3.0721 - val_accuracy: 0.7500\n",
      "Epoch 71/120\n",
      "29/29 [==============================] - 0s 5ms/step - loss: -3.4185 - accuracy: 0.7232 - val_loss: -3.1045 - val_accuracy: 0.7500\n",
      "Epoch 72/120\n",
      "29/29 [==============================] - 0s 5ms/step - loss: -3.4545 - accuracy: 0.7232 - val_loss: -3.1373 - val_accuracy: 0.7500\n",
      "Epoch 73/120\n",
      "29/29 [==============================] - 0s 5ms/step - loss: -3.4909 - accuracy: 0.7232 - val_loss: -3.1702 - val_accuracy: 0.7500\n",
      "Epoch 74/120\n",
      "29/29 [==============================] - 0s 5ms/step - loss: -3.5275 - accuracy: 0.7232 - val_loss: -3.2017 - val_accuracy: 0.7500\n",
      "Epoch 75/120\n",
      "29/29 [==============================] - 0s 5ms/step - loss: -3.5633 - accuracy: 0.7232 - val_loss: -3.2348 - val_accuracy: 0.7500\n",
      "Epoch 76/120\n",
      "29/29 [==============================] - 0s 5ms/step - loss: -3.5997 - accuracy: 0.7232 - val_loss: -3.2674 - val_accuracy: 0.7500\n",
      "Epoch 77/120\n",
      "29/29 [==============================] - 0s 5ms/step - loss: -3.6360 - accuracy: 0.7232 - val_loss: -3.2999 - val_accuracy: 0.7500\n",
      "Epoch 78/120\n",
      "29/29 [==============================] - 0s 3ms/step - loss: -3.6714 - accuracy: 0.7232 - val_loss: -3.3344 - val_accuracy: 0.7500\n",
      "Epoch 79/120\n",
      "29/29 [==============================] - 0s 4ms/step - loss: -3.7089 - accuracy: 0.7232 - val_loss: -3.3658 - val_accuracy: 0.7500\n",
      "Epoch 80/120\n",
      "29/29 [==============================] - 0s 6ms/step - loss: -3.7439 - accuracy: 0.7232 - val_loss: -3.4000 - val_accuracy: 0.7500\n",
      "Epoch 81/120\n",
      "29/29 [==============================] - 0s 8ms/step - loss: -3.7809 - accuracy: 0.7232 - val_loss: -3.4320 - val_accuracy: 0.7500\n",
      "Epoch 82/120\n",
      "29/29 [==============================] - 0s 6ms/step - loss: -3.8165 - accuracy: 0.7232 - val_loss: -3.4650 - val_accuracy: 0.7500\n",
      "Epoch 83/120\n",
      "29/29 [==============================] - 0s 5ms/step - loss: -3.8536 - accuracy: 0.7232 - val_loss: -3.4957 - val_accuracy: 0.7500\n",
      "Epoch 84/120\n",
      "29/29 [==============================] - 0s 5ms/step - loss: -3.8894 - accuracy: 0.7232 - val_loss: -3.5272 - val_accuracy: 0.7500\n",
      "Epoch 85/120\n",
      "29/29 [==============================] - 0s 5ms/step - loss: -3.9247 - accuracy: 0.7232 - val_loss: -3.5618 - val_accuracy: 0.7500\n",
      "Epoch 86/120\n",
      "29/29 [==============================] - 0s 5ms/step - loss: -3.9610 - accuracy: 0.7232 - val_loss: -3.5952 - val_accuracy: 0.7500\n",
      "Epoch 87/120\n",
      "29/29 [==============================] - 0s 5ms/step - loss: -3.9975 - accuracy: 0.7232 - val_loss: -3.6275 - val_accuracy: 0.7500\n",
      "Epoch 88/120\n",
      "29/29 [==============================] - 0s 5ms/step - loss: -4.0337 - accuracy: 0.7232 - val_loss: -3.6592 - val_accuracy: 0.7500\n",
      "Epoch 89/120\n",
      "29/29 [==============================] - 0s 5ms/step - loss: -4.0697 - accuracy: 0.7232 - val_loss: -3.6909 - val_accuracy: 0.7500\n",
      "Epoch 90/120\n",
      "29/29 [==============================] - 0s 5ms/step - loss: -4.1050 - accuracy: 0.7232 - val_loss: -3.7242 - val_accuracy: 0.7500\n",
      "Epoch 91/120\n",
      "29/29 [==============================] - 0s 5ms/step - loss: -4.1410 - accuracy: 0.7232 - val_loss: -3.7574 - val_accuracy: 0.7500\n",
      "Epoch 92/120\n",
      "29/29 [==============================] - 0s 5ms/step - loss: -4.1772 - accuracy: 0.7232 - val_loss: -3.7898 - val_accuracy: 0.7500\n",
      "Epoch 93/120\n",
      "29/29 [==============================] - 0s 5ms/step - loss: -4.2131 - accuracy: 0.7232 - val_loss: -3.8219 - val_accuracy: 0.7500\n",
      "Epoch 94/120\n",
      "29/29 [==============================] - 0s 5ms/step - loss: -4.2491 - accuracy: 0.7232 - val_loss: -3.8534 - val_accuracy: 0.7500\n",
      "Epoch 95/120\n",
      "29/29 [==============================] - 0s 6ms/step - loss: -4.2838 - accuracy: 0.7232 - val_loss: -3.8876 - val_accuracy: 0.7500\n",
      "Epoch 96/120\n",
      "29/29 [==============================] - 0s 6ms/step - loss: -4.3206 - accuracy: 0.7232 - val_loss: -3.9195 - val_accuracy: 0.7500\n",
      "Epoch 97/120\n",
      "29/29 [==============================] - 0s 5ms/step - loss: -4.3565 - accuracy: 0.7232 - val_loss: -3.9509 - val_accuracy: 0.7500\n",
      "Epoch 98/120\n",
      "29/29 [==============================] - 0s 5ms/step - loss: -4.3919 - accuracy: 0.7232 - val_loss: -3.9838 - val_accuracy: 0.7500\n",
      "Epoch 99/120\n",
      "29/29 [==============================] - 0s 5ms/step - loss: -4.4285 - accuracy: 0.7232 - val_loss: -4.0146 - val_accuracy: 0.7500\n",
      "Epoch 100/120\n",
      "29/29 [==============================] - 0s 5ms/step - loss: -4.4637 - accuracy: 0.7232 - val_loss: -4.0476 - val_accuracy: 0.7500\n",
      "Epoch 101/120\n",
      "29/29 [==============================] - 0s 5ms/step - loss: -4.4998 - accuracy: 0.7232 - val_loss: -4.0802 - val_accuracy: 0.7500\n",
      "Epoch 102/120\n",
      "29/29 [==============================] - 0s 4ms/step - loss: -4.5359 - accuracy: 0.7232 - val_loss: -4.1125 - val_accuracy: 0.7500\n",
      "Epoch 103/120\n",
      "29/29 [==============================] - 0s 4ms/step - loss: -4.5717 - accuracy: 0.7232 - val_loss: -4.1453 - val_accuracy: 0.7500\n",
      "Epoch 104/120\n",
      "29/29 [==============================] - 0s 4ms/step - loss: -4.6074 - accuracy: 0.7232 - val_loss: -4.1789 - val_accuracy: 0.7500\n",
      "Epoch 105/120\n",
      "29/29 [==============================] - 0s 6ms/step - loss: -4.6440 - accuracy: 0.7232 - val_loss: -4.2107 - val_accuracy: 0.7500\n",
      "Epoch 106/120\n",
      "29/29 [==============================] - 0s 7ms/step - loss: -4.6792 - accuracy: 0.7232 - val_loss: -4.2442 - val_accuracy: 0.7500\n",
      "Epoch 107/120\n",
      "29/29 [==============================] - 0s 6ms/step - loss: -4.7162 - accuracy: 0.7232 - val_loss: -4.2749 - val_accuracy: 0.7500\n",
      "Epoch 108/120\n",
      "29/29 [==============================] - 0s 6ms/step - loss: -4.7506 - accuracy: 0.7232 - val_loss: -4.3091 - val_accuracy: 0.7500\n",
      "Epoch 109/120\n",
      "29/29 [==============================] - 0s 7ms/step - loss: -4.7875 - accuracy: 0.7232 - val_loss: -4.3409 - val_accuracy: 0.7500\n",
      "Epoch 110/120\n",
      "29/29 [==============================] - 0s 6ms/step - loss: -4.8234 - accuracy: 0.7232 - val_loss: -4.3726 - val_accuracy: 0.7500\n",
      "Epoch 111/120\n",
      "29/29 [==============================] - 0s 4ms/step - loss: -4.8591 - accuracy: 0.7232 - val_loss: -4.4046 - val_accuracy: 0.7500\n",
      "Epoch 112/120\n",
      "29/29 [==============================] - 0s 6ms/step - loss: -4.8947 - accuracy: 0.7232 - val_loss: -4.4372 - val_accuracy: 0.7500\n",
      "Epoch 113/120\n",
      "29/29 [==============================] - 0s 5ms/step - loss: -4.9309 - accuracy: 0.7232 - val_loss: -4.4695 - val_accuracy: 0.7500\n",
      "Epoch 114/120\n",
      "29/29 [==============================] - 0s 5ms/step - loss: -4.9668 - accuracy: 0.7232 - val_loss: -4.5018 - val_accuracy: 0.7500\n",
      "Epoch 115/120\n",
      "29/29 [==============================] - 0s 5ms/step - loss: -5.0022 - accuracy: 0.7232 - val_loss: -4.5350 - val_accuracy: 0.7500\n",
      "Epoch 116/120\n",
      "29/29 [==============================] - 0s 5ms/step - loss: -5.0384 - accuracy: 0.7232 - val_loss: -4.5674 - val_accuracy: 0.7500\n",
      "Epoch 117/120\n",
      "29/29 [==============================] - 0s 6ms/step - loss: -5.0747 - accuracy: 0.7232 - val_loss: -4.5987 - val_accuracy: 0.7500\n",
      "Epoch 118/120\n",
      "29/29 [==============================] - 0s 5ms/step - loss: -5.1102 - accuracy: 0.7232 - val_loss: -4.6314 - val_accuracy: 0.7500\n",
      "Epoch 119/120\n",
      "29/29 [==============================] - 0s 5ms/step - loss: -5.1461 - accuracy: 0.7232 - val_loss: -4.6640 - val_accuracy: 0.7500\n",
      "Epoch 120/120\n",
      "29/29 [==============================] - 0s 5ms/step - loss: -5.1817 - accuracy: 0.7232 - val_loss: -4.6972 - val_accuracy: 0.7500\n"
     ]
    }
   ],
   "source": [
    "history=model.fit(x_train, y_train, validation_split=0.3, epochs=120, batch_size=10)"
   ]
  },
  {
   "cell_type": "code",
   "execution_count": 45,
   "id": "c8277119",
   "metadata": {
    "ExecuteTime": {
     "end_time": "2022-11-23T15:14:00.153867Z",
     "start_time": "2022-11-23T15:13:59.942711Z"
    }
   },
   "outputs": [
    {
     "name": "stdout",
     "output_type": "stream",
     "text": [
      "13/13 [==============================] - 0s 3ms/step - loss: -5.0498 - accuracy: 0.7312\n",
      "accuracy: 73.12%\n"
     ]
    }
   ],
   "source": [
    "scores = model.evaluate(x_train, y_train)\n",
    "print(\"%s: %.2f%%\" % (model.metrics_names[1], scores[1]*100))"
   ]
  },
  {
   "cell_type": "code",
   "execution_count": 46,
   "id": "4286bd26",
   "metadata": {
    "ExecuteTime": {
     "end_time": "2022-11-23T15:14:00.378506Z",
     "start_time": "2022-11-23T15:14:00.159901Z"
    }
   },
   "outputs": [
    {
     "name": "stdout",
     "output_type": "stream",
     "text": [
      "4/4 [==============================] - 0s 3ms/step - loss: -5.0583 - accuracy: 0.7308\n",
      "accuracy: 73.08%\n"
     ]
    }
   ],
   "source": [
    "scores = model.evaluate(x_test, y_test)\n",
    "print(\"%s: %.2f%%\" % (model.metrics_names[1], scores[1]*100))"
   ]
  },
  {
   "cell_type": "code",
   "execution_count": 47,
   "id": "4ca25ced",
   "metadata": {
    "ExecuteTime": {
     "end_time": "2022-11-23T15:14:12.300029Z",
     "start_time": "2022-11-23T15:14:11.796228Z"
    }
   },
   "outputs": [
    {
     "name": "stdout",
     "output_type": "stream",
     "text": [
      "dict_keys(['loss', 'accuracy', 'val_loss', 'val_accuracy'])\n"
     ]
    },
    {
     "data": {
      "image/png": "[encoded data removed]",
      "text/plain": [
       "<Figure size 432x288 with 1 Axes>"
      ]
     },
     "metadata": {
      "needs_background": "light"
     },
     "output_type": "display_data"
    },
    {
     "data": {
      "image/png": "[encoded data removed]",
      "text/plain": [
       "<Figure size 432x288 with 1 Axes>"
      ]
     },
     "metadata": {
      "needs_background": "light"
     },
     "output_type": "display_data"
    }
   ],
   "source": [
    "# list all data in history\n",
    "print(history.history.keys())\n",
    "# summarize history for accuracy\n",
    "import matplotlib.pyplot as plt\n",
    "plt.plot(history.history['accuracy'])\n",
    "plt.plot(history.history['val_accuracy'])\n",
    "plt.title('model accuracy')\n",
    "plt.ylabel('accuracy')\n",
    "plt.xlabel('epoch')\n",
    "plt.legend(['train', 'test'], loc='upper left')\n",
    "plt.show()\n",
    "# summarize history for loss\n",
    "plt.plot(history.history['loss'])\n",
    "plt.plot(history.history['val_loss'])\n",
    "plt.title('model loss')\n",
    "plt.ylabel('loss')\n",
    "plt.xlabel('epoch')\n",
    "plt.legend(['train', 'test'], loc='upper left')\n",
    "plt.show()"
   ]
  }
 ],
 "metadata": {
  "kernelspec": {
   "display_name": "Python 3 (ipykernel)",
   "language": "python",
   "name": "python3"
  },
  "language_info": {
   "codemirror_mode": {
    "name": "ipython",
    "version": 3
   },
   "file_extension": ".py",
   "mimetype": "text/x-python",
   "name": "python",
   "nbconvert_exporter": "python",
   "pygments_lexer": "ipython3",
   "version": "3.9.12"
  }
 },
 "nbformat": 4,
 "nbformat_minor": 5
}
