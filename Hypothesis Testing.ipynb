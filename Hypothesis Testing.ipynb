{
 "cells": [
  {
   "cell_type": "markdown",
   "id": "8016447c",
   "metadata": {},
   "source": [
    "# BuyerRatio.csv"
   ]
  },
  {
   "cell_type": "markdown",
   "id": "a3238539",
   "metadata": {},
   "source": [
    "Sales of products in four different regions is tabulated for males and females. Find if male-female buyer ratios are similar across regions.\n",
    "\n",
    "Answer: As per the problem statement above we will be using Chi-square hypothesis test here, as the variables provided in the problem statement are Qualotative/Categorical.\n",
    "\n",
    "Step 1 : Define the hypothesis : H0 hypothesis => The male-female buyer ratios are similar across the regions / All proportions are equal, Ha hypothesis => The male-female buyer ratios are not similar across the regions / Not all proportions are equal\n",
    "\n",
    "Step 2 : We have alpha = 0.05, if pvalue < alpha then we need to reject h0 (Null hypothesis) and if pvalue > alpha then we will fail to reject H0 means we will accept H0"
   ]
  },
  {
   "cell_type": "code",
   "execution_count": 142,
   "id": "af397a68",
   "metadata": {
    "ExecuteTime": {
     "end_time": "2022-11-29T07:12:20.706078Z",
     "start_time": "2022-11-29T07:12:20.692116Z"
    }
   },
   "outputs": [],
   "source": [
    "import pandas as pd \n",
    "import numpy as np \n",
    "import scipy \n",
    "from scipy import stats\n",
    "from bioinfokit.analys import stat\n",
    "from scipy.stats import chi2_contingency \n",
    "# Visualization\n",
    "import matplotlib.pyplot as plt\n",
    "import seaborn as sns"
   ]
  },
  {
   "cell_type": "code",
   "execution_count": 143,
   "id": "c46637ef",
   "metadata": {
    "ExecuteTime": {
     "end_time": "2022-11-29T07:12:20.935051Z",
     "start_time": "2022-11-29T07:12:20.709038Z"
    }
   },
   "outputs": [
    {
     "data": {
      "text/html": [
       "<div>\n",
       "<style scoped>\n",
       "    .dataframe tbody tr th:only-of-type {\n",
       "        vertical-align: middle;\n",
       "    }\n",
       "\n",
       "    .dataframe tbody tr th {\n",
       "        vertical-align: top;\n",
       "    }\n",
       "\n",
       "    .dataframe thead th {\n",
       "        text-align: right;\n",
       "    }\n",
       "</style>\n",
       "<table border=\"1\" class=\"dataframe\">\n",
       "  <thead>\n",
       "    <tr style=\"text-align: right;\">\n",
       "      <th></th>\n",
       "      <th>East</th>\n",
       "      <th>West</th>\n",
       "      <th>North</th>\n",
       "      <th>South</th>\n",
       "    </tr>\n",
       "  </thead>\n",
       "  <tbody>\n",
       "    <tr>\n",
       "      <th>Male</th>\n",
       "      <td>50</td>\n",
       "      <td>142</td>\n",
       "      <td>131</td>\n",
       "      <td>70</td>\n",
       "    </tr>\n",
       "    <tr>\n",
       "      <th>Female</th>\n",
       "      <td>435</td>\n",
       "      <td>1523</td>\n",
       "      <td>1356</td>\n",
       "      <td>750</td>\n",
       "    </tr>\n",
       "  </tbody>\n",
       "</table>\n",
       "</div>"
      ],
      "text/plain": [
       "        East  West  North  South\n",
       "Male      50   142    131     70\n",
       "Female   435  1523   1356    750"
      ]
     },
     "execution_count": 143,
     "metadata": {},
     "output_type": "execute_result"
    }
   ],
   "source": [
    "data = pd.DataFrame([\n",
    "    [50, 142, 131, 70],\n",
    "    [435, 1523, 1356, 750]], \n",
    "    index = ['Male', 'Female'], columns = ['East', 'West', 'North', 'South'])\n",
    "data"
   ]
  },
  {
   "cell_type": "code",
   "execution_count": 144,
   "id": "7c11ef89",
   "metadata": {
    "ExecuteTime": {
     "end_time": "2022-11-29T07:12:21.386597Z",
     "start_time": "2022-11-29T07:12:20.938044Z"
    }
   },
   "outputs": [
    {
     "data": {
      "image/png": "[encoded data removed]",
      "text/plain": [
       "<Figure size 432x288 with 1 Axes>"
      ]
     },
     "metadata": {},
     "output_type": "display_data"
    }
   ],
   "source": [
    "X = ['East','West','North','South']\n",
    "Male = [50,142,131,70]\n",
    "Female = [435,1523,1356,750]\n",
    "\n",
    "X_axis = np.arange(len(X))\n",
    "\n",
    "plt.bar(X_axis - 0.2, Male, 0.4, label = 'Male')\n",
    "plt.bar(X_axis + 0.2, Female, 0.4, label = 'Female')\n",
    "plt.xticks(X_axis, X)\n",
    "plt.legend()\n",
    "plt.show()"
   ]
  },
  {
   "cell_type": "code",
   "execution_count": 145,
   "id": "2e6de338",
   "metadata": {
    "ExecuteTime": {
     "end_time": "2022-11-29T07:12:21.729295Z",
     "start_time": "2022-11-29T07:12:21.390473Z"
    },
    "scrolled": false
   },
   "outputs": [
    {
     "name": "stderr",
     "output_type": "stream",
     "text": [
      "C:\\Users\\Priyanka\\anaconda3\\lib\\site-packages\\seaborn\\distributions.py:2619: FutureWarning: `distplot` is a deprecated function and will be removed in a future version. Please adapt your code to use either `displot` (a figure-level function with similar flexibility) or `histplot` (an axes-level function for histograms).\n",
      "  warnings.warn(msg, FutureWarning)\n"
     ]
    },
    {
     "data": {
      "text/plain": [
       "<AxesSubplot:xlabel='East', ylabel='Density'>"
      ]
     },
     "execution_count": 145,
     "metadata": {},
     "output_type": "execute_result"
    },
    {
     "data": {
      "image/png": "[encoded data removed]",
      "text/plain": [
       "<Figure size 432x288 with 1 Axes>"
      ]
     },
     "metadata": {},
     "output_type": "display_data"
    }
   ],
   "source": [
    "sns.distplot(data[\"East\"],color=\"Red\")"
   ]
  },
  {
   "cell_type": "code",
   "execution_count": 146,
   "id": "0b69032d",
   "metadata": {
    "ExecuteTime": {
     "end_time": "2022-11-29T07:12:21.990795Z",
     "start_time": "2022-11-29T07:12:21.730712Z"
    }
   },
   "outputs": [
    {
     "name": "stderr",
     "output_type": "stream",
     "text": [
      "C:\\Users\\Priyanka\\anaconda3\\lib\\site-packages\\seaborn\\distributions.py:2619: FutureWarning: `distplot` is a deprecated function and will be removed in a future version. Please adapt your code to use either `displot` (a figure-level function with similar flexibility) or `histplot` (an axes-level function for histograms).\n",
      "  warnings.warn(msg, FutureWarning)\n"
     ]
    },
    {
     "data": {
      "text/plain": [
       "<AxesSubplot:xlabel='West', ylabel='Density'>"
      ]
     },
     "execution_count": 146,
     "metadata": {},
     "output_type": "execute_result"
    },
    {
     "data": {
      "image/png": "[encoded data removed]",
      "text/plain": [
       "<Figure size 432x288 with 1 Axes>"
      ]
     },
     "metadata": {},
     "output_type": "display_data"
    }
   ],
   "source": [
    "sns.distplot(data[\"West\"],color=\"blue\")"
   ]
  },
  {
   "cell_type": "code",
   "execution_count": 147,
   "id": "c891b96d",
   "metadata": {
    "ExecuteTime": {
     "end_time": "2022-11-29T07:12:22.257193Z",
     "start_time": "2022-11-29T07:12:21.992788Z"
    }
   },
   "outputs": [
    {
     "name": "stderr",
     "output_type": "stream",
     "text": [
      "C:\\Users\\Priyanka\\anaconda3\\lib\\site-packages\\seaborn\\distributions.py:2619: FutureWarning: `distplot` is a deprecated function and will be removed in a future version. Please adapt your code to use either `displot` (a figure-level function with similar flexibility) or `histplot` (an axes-level function for histograms).\n",
      "  warnings.warn(msg, FutureWarning)\n"
     ]
    },
    {
     "data": {
      "text/plain": [
       "<AxesSubplot:xlabel='North', ylabel='Density'>"
      ]
     },
     "execution_count": 147,
     "metadata": {},
     "output_type": "execute_result"
    },
    {
     "data": {
      "image/png": "[encoded data removed]",
      "text/plain": [
       "<Figure size 432x288 with 1 Axes>"
      ]
     },
     "metadata": {},
     "output_type": "display_data"
    }
   ],
   "source": [
    "sns.distplot(data[\"North\"],color=\"green\")"
   ]
  },
  {
   "cell_type": "code",
   "execution_count": 148,
   "id": "d5a65654",
   "metadata": {
    "ExecuteTime": {
     "end_time": "2022-11-29T07:12:22.488228Z",
     "start_time": "2022-11-29T07:12:22.259014Z"
    }
   },
   "outputs": [
    {
     "name": "stderr",
     "output_type": "stream",
     "text": [
      "C:\\Users\\Priyanka\\anaconda3\\lib\\site-packages\\seaborn\\distributions.py:2619: FutureWarning: `distplot` is a deprecated function and will be removed in a future version. Please adapt your code to use either `displot` (a figure-level function with similar flexibility) or `histplot` (an axes-level function for histograms).\n",
      "  warnings.warn(msg, FutureWarning)\n"
     ]
    },
    {
     "data": {
      "text/plain": [
       "<AxesSubplot:xlabel='South', ylabel='Density'>"
      ]
     },
     "execution_count": 148,
     "metadata": {},
     "output_type": "execute_result"
    },
    {
     "data": {
      "image/png": "[encoded data removed]",
      "text/plain": [
       "<Figure size 432x288 with 1 Axes>"
      ]
     },
     "metadata": {},
     "output_type": "display_data"
    }
   ],
   "source": [
    "sns.distplot(data[\"South\"],color=\"black\")"
   ]
  },
  {
   "cell_type": "code",
   "execution_count": 149,
   "id": "71363ce1",
   "metadata": {
    "ExecuteTime": {
     "end_time": "2022-11-29T07:12:22.504313Z",
     "start_time": "2022-11-29T07:12:22.490185Z"
    }
   },
   "outputs": [
    {
     "name": "stdout",
     "output_type": "stream",
     "text": [
      "\n",
      "Chi-squared test for independence\n",
      "\n",
      "Test              Df    Chi-square    P-value\n",
      "--------------  ----  ------------  ---------\n",
      "Pearson            3       1.59595   0.660309\n",
      "Log-likelihood     3       1.53541   0.674123\n",
      "\n"
     ]
    }
   ],
   "source": [
    "# run chi-square test for independence\n",
    "res = stat()\n",
    "res.chisq(df=data)\n",
    "print(res.summary)"
   ]
  },
  {
   "cell_type": "code",
   "execution_count": 150,
   "id": "af7c6b40",
   "metadata": {
    "ExecuteTime": {
     "end_time": "2022-11-29T07:12:22.737877Z",
     "start_time": "2022-11-29T07:12:22.505277Z"
    }
   },
   "outputs": [
    {
     "name": "stdout",
     "output_type": "stream",
     "text": [
      "\n",
      "Expected frequency counts\n",
      "\n",
      "        East      West     North     South\n",
      "--  --------  --------  --------  --------\n",
      " 0   42.7653   146.813   131.118   72.3042\n",
      " 1  442.235   1518.19   1355.88   747.696\n",
      "\n"
     ]
    }
   ],
   "source": [
    "print(res.expected_df)"
   ]
  },
  {
   "cell_type": "code",
   "execution_count": 151,
   "id": "d90eee41",
   "metadata": {
    "ExecuteTime": {
     "end_time": "2022-11-29T07:12:23.005426Z",
     "start_time": "2022-11-29T07:12:22.743730Z"
    }
   },
   "outputs": [
    {
     "data": {
      "text/plain": [
       "(1.595945538661058,\n",
       " 0.6603094907091882,\n",
       " 3,\n",
       " array([[  42.76531299,  146.81287862,  131.11756787,   72.30424052],\n",
       "        [ 442.23468701, 1518.18712138, 1355.88243213,  747.69575948]]))"
      ]
     },
     "execution_count": 151,
     "metadata": {},
     "output_type": "execute_result"
    }
   ],
   "source": [
    "# using Pearson’s chi-squared statistic\n",
    "# corrected for the Yates’ continuity\n",
    "observed = np.array([[50, 142, 131, 70], [435, 1523, 1356, 750]])\n",
    "chi_val, p_val, dof, expected =  chi2_contingency(observed)\n",
    "\n",
    "chi_val, p_val, dof, expected"
   ]
  },
  {
   "cell_type": "code",
   "execution_count": 152,
   "id": "b3c0a9e6",
   "metadata": {
    "ExecuteTime": {
     "end_time": "2022-11-29T07:12:23.218652Z",
     "start_time": "2022-11-29T07:12:23.007670Z"
    }
   },
   "outputs": [
    {
     "data": {
      "text/plain": [
       "(1.595945538661058,\n",
       " 0.6603094907091882,\n",
       " 3,\n",
       " array([[  42.76531299,  146.81287862,  131.11756787,   72.30424052],\n",
       "        [ 442.23468701, 1518.18712138, 1355.88243213,  747.69575948]]))"
      ]
     },
     "execution_count": 152,
     "metadata": {},
     "output_type": "execute_result"
    }
   ],
   "source": [
    "# without Yates’ correction for continuity\n",
    "chi_val, p_val, dof, expected =  chi2_contingency(observed, correction=False)\n",
    "chi_val, p_val, dof, expected"
   ]
  },
  {
   "cell_type": "code",
   "execution_count": 153,
   "id": "02e4d800",
   "metadata": {
    "ExecuteTime": {
     "end_time": "2022-11-29T07:12:23.451532Z",
     "start_time": "2022-11-29T07:12:23.220379Z"
    }
   },
   "outputs": [
    {
     "data": {
      "text/plain": [
       "(1.5354067803116846,\n",
       " 0.6741229013112389,\n",
       " 3,\n",
       " array([[  42.76531299,  146.81287862,  131.11756787,   72.30424052],\n",
       "        [ 442.23468701, 1518.18712138, 1355.88243213,  747.69575948]]))"
      ]
     },
     "execution_count": 153,
     "metadata": {},
     "output_type": "execute_result"
    }
   ],
   "source": [
    "# for log-likelihood method \n",
    "chi_val, p_val, dof, expected =  chi2_contingency(observed, lambda_=\"log-likelihood\")\n",
    "chi_val, p_val, dof, expected"
   ]
  },
  {
   "cell_type": "markdown",
   "id": "2cae62d3",
   "metadata": {},
   "source": [
    "Final Statement : as we can see above pvalue is greater than alpha hence we will fail to reject H0 (Null hypothesis) here.\n",
    "\n",
    "pvalue > alpha => (0.66 > 0.05)\n",
    "\n",
    "Accept H0 => The male-female buyer ratios are similar across the regions / All proportions are equal"
   ]
  },
  {
   "cell_type": "markdown",
   "id": "5aa09cb2",
   "metadata": {},
   "source": [
    "# Costomer+OrderForm.csv"
   ]
  },
  {
   "cell_type": "markdown",
   "id": "57bc68a4",
   "metadata": {},
   "source": [
    "TeleCall uses 4 centers around the globe to process customer order forms. They audit a certain % of the customer order forms. Any error in order form renders it defective and has to be reworked before processing. The manager wants to check whether the defective % varies by centre. Please analyze the data at 5% significance level and help the manager draw appropriate inferences\n",
    "\n",
    "Answer: As per the problem statement above we will be using chi-square hypothesis test here, as the variables provided in the problem statement are Qualotative/Categorical.\n",
    "\n",
    "Step 1 : Define the hypothesis : H0 hypothesis => the defective % does not vary by centre / the variables are independent Ha hypothesis => the defective % varies by centre / the variables are dependent\n",
    "\n",
    "Step 2 : Here we will need to calculate t statistic value and critical value\n",
    "\n",
    "Step 3 : We have alpha = 0.05 (5% significance level), if pvalue < alpha then we need to reject h0 (Null hypothesis) and if pvalue > alpha then we will fail to reject H0 means we will accept H0"
   ]
  },
  {
   "cell_type": "code",
   "execution_count": 154,
   "id": "5806552d",
   "metadata": {
    "ExecuteTime": {
     "end_time": "2022-11-29T07:12:23.591875Z",
     "start_time": "2022-11-29T07:12:23.453527Z"
    },
    "scrolled": false
   },
   "outputs": [
    {
     "data": {
      "text/html": [
       "<div>\n",
       "<style scoped>\n",
       "    .dataframe tbody tr th:only-of-type {\n",
       "        vertical-align: middle;\n",
       "    }\n",
       "\n",
       "    .dataframe tbody tr th {\n",
       "        vertical-align: top;\n",
       "    }\n",
       "\n",
       "    .dataframe thead th {\n",
       "        text-align: right;\n",
       "    }\n",
       "</style>\n",
       "<table border=\"1\" class=\"dataframe\">\n",
       "  <thead>\n",
       "    <tr style=\"text-align: right;\">\n",
       "      <th></th>\n",
       "      <th>Phillippines</th>\n",
       "      <th>Indonesia</th>\n",
       "      <th>Malta</th>\n",
       "      <th>India</th>\n",
       "    </tr>\n",
       "  </thead>\n",
       "  <tbody>\n",
       "    <tr>\n",
       "      <th>0</th>\n",
       "      <td>Error Free</td>\n",
       "      <td>Error Free</td>\n",
       "      <td>Defective</td>\n",
       "      <td>Error Free</td>\n",
       "    </tr>\n",
       "    <tr>\n",
       "      <th>1</th>\n",
       "      <td>Error Free</td>\n",
       "      <td>Error Free</td>\n",
       "      <td>Error Free</td>\n",
       "      <td>Defective</td>\n",
       "    </tr>\n",
       "    <tr>\n",
       "      <th>2</th>\n",
       "      <td>Error Free</td>\n",
       "      <td>Defective</td>\n",
       "      <td>Defective</td>\n",
       "      <td>Error Free</td>\n",
       "    </tr>\n",
       "    <tr>\n",
       "      <th>3</th>\n",
       "      <td>Error Free</td>\n",
       "      <td>Error Free</td>\n",
       "      <td>Error Free</td>\n",
       "      <td>Error Free</td>\n",
       "    </tr>\n",
       "    <tr>\n",
       "      <th>4</th>\n",
       "      <td>Error Free</td>\n",
       "      <td>Error Free</td>\n",
       "      <td>Defective</td>\n",
       "      <td>Error Free</td>\n",
       "    </tr>\n",
       "    <tr>\n",
       "      <th>...</th>\n",
       "      <td>...</td>\n",
       "      <td>...</td>\n",
       "      <td>...</td>\n",
       "      <td>...</td>\n",
       "    </tr>\n",
       "    <tr>\n",
       "      <th>295</th>\n",
       "      <td>Error Free</td>\n",
       "      <td>Error Free</td>\n",
       "      <td>Error Free</td>\n",
       "      <td>Error Free</td>\n",
       "    </tr>\n",
       "    <tr>\n",
       "      <th>296</th>\n",
       "      <td>Error Free</td>\n",
       "      <td>Error Free</td>\n",
       "      <td>Error Free</td>\n",
       "      <td>Error Free</td>\n",
       "    </tr>\n",
       "    <tr>\n",
       "      <th>297</th>\n",
       "      <td>Error Free</td>\n",
       "      <td>Error Free</td>\n",
       "      <td>Defective</td>\n",
       "      <td>Error Free</td>\n",
       "    </tr>\n",
       "    <tr>\n",
       "      <th>298</th>\n",
       "      <td>Error Free</td>\n",
       "      <td>Error Free</td>\n",
       "      <td>Error Free</td>\n",
       "      <td>Error Free</td>\n",
       "    </tr>\n",
       "    <tr>\n",
       "      <th>299</th>\n",
       "      <td>Error Free</td>\n",
       "      <td>Defective</td>\n",
       "      <td>Defective</td>\n",
       "      <td>Error Free</td>\n",
       "    </tr>\n",
       "  </tbody>\n",
       "</table>\n",
       "<p>300 rows × 4 columns</p>\n",
       "</div>"
      ],
      "text/plain": [
       "    Phillippines   Indonesia       Malta       India\n",
       "0     Error Free  Error Free   Defective  Error Free\n",
       "1     Error Free  Error Free  Error Free   Defective\n",
       "2     Error Free   Defective   Defective  Error Free\n",
       "3     Error Free  Error Free  Error Free  Error Free\n",
       "4     Error Free  Error Free   Defective  Error Free\n",
       "..           ...         ...         ...         ...\n",
       "295   Error Free  Error Free  Error Free  Error Free\n",
       "296   Error Free  Error Free  Error Free  Error Free\n",
       "297   Error Free  Error Free   Defective  Error Free\n",
       "298   Error Free  Error Free  Error Free  Error Free\n",
       "299   Error Free   Defective   Defective  Error Free\n",
       "\n",
       "[300 rows x 4 columns]"
      ]
     },
     "execution_count": 154,
     "metadata": {},
     "output_type": "execute_result"
    }
   ],
   "source": [
    "orders = pd.read_csv(\"Costomer+OrderForm.csv\")\n",
    "orders"
   ]
  },
  {
   "cell_type": "code",
   "execution_count": 155,
   "id": "a161a4a4",
   "metadata": {
    "ExecuteTime": {
     "end_time": "2022-11-29T07:12:23.764261Z",
     "start_time": "2022-11-29T07:12:23.593869Z"
    }
   },
   "outputs": [
    {
     "data": {
      "text/plain": [
       "Phillippines    object\n",
       "Indonesia       object\n",
       "Malta           object\n",
       "India           object\n",
       "dtype: object"
      ]
     },
     "execution_count": 155,
     "metadata": {},
     "output_type": "execute_result"
    }
   ],
   "source": [
    "orders.dtypes"
   ]
  },
  {
   "cell_type": "code",
   "execution_count": 156,
   "id": "ff709b74",
   "metadata": {
    "ExecuteTime": {
     "end_time": "2022-11-29T07:12:23.919952Z",
     "start_time": "2022-11-29T07:12:23.766255Z"
    }
   },
   "outputs": [
    {
     "name": "stdout",
     "output_type": "stream",
     "text": [
      "<class 'pandas.core.frame.DataFrame'>\n",
      "RangeIndex: 300 entries, 0 to 299\n",
      "Data columns (total 4 columns):\n",
      " #   Column        Non-Null Count  Dtype \n",
      "---  ------        --------------  ----- \n",
      " 0   Phillippines  300 non-null    object\n",
      " 1   Indonesia     300 non-null    object\n",
      " 2   Malta         300 non-null    object\n",
      " 3   India         300 non-null    object\n",
      "dtypes: object(4)\n",
      "memory usage: 9.5+ KB\n"
     ]
    }
   ],
   "source": [
    "orders.info()"
   ]
  },
  {
   "cell_type": "code",
   "execution_count": 157,
   "id": "1d4578ad",
   "metadata": {
    "ExecuteTime": {
     "end_time": "2022-11-29T07:12:24.075556Z",
     "start_time": "2022-11-29T07:12:23.922218Z"
    }
   },
   "outputs": [
    {
     "data": {
      "text/html": [
       "<div>\n",
       "<style scoped>\n",
       "    .dataframe tbody tr th:only-of-type {\n",
       "        vertical-align: middle;\n",
       "    }\n",
       "\n",
       "    .dataframe tbody tr th {\n",
       "        vertical-align: top;\n",
       "    }\n",
       "\n",
       "    .dataframe thead th {\n",
       "        text-align: right;\n",
       "    }\n",
       "</style>\n",
       "<table border=\"1\" class=\"dataframe\">\n",
       "  <thead>\n",
       "    <tr style=\"text-align: right;\">\n",
       "      <th></th>\n",
       "      <th>Phillippines</th>\n",
       "      <th>Indonesia</th>\n",
       "      <th>Malta</th>\n",
       "      <th>India</th>\n",
       "    </tr>\n",
       "  </thead>\n",
       "  <tbody>\n",
       "    <tr>\n",
       "      <th>count</th>\n",
       "      <td>300</td>\n",
       "      <td>300</td>\n",
       "      <td>300</td>\n",
       "      <td>300</td>\n",
       "    </tr>\n",
       "    <tr>\n",
       "      <th>unique</th>\n",
       "      <td>2</td>\n",
       "      <td>2</td>\n",
       "      <td>2</td>\n",
       "      <td>2</td>\n",
       "    </tr>\n",
       "    <tr>\n",
       "      <th>top</th>\n",
       "      <td>Error Free</td>\n",
       "      <td>Error Free</td>\n",
       "      <td>Error Free</td>\n",
       "      <td>Error Free</td>\n",
       "    </tr>\n",
       "    <tr>\n",
       "      <th>freq</th>\n",
       "      <td>271</td>\n",
       "      <td>267</td>\n",
       "      <td>269</td>\n",
       "      <td>280</td>\n",
       "    </tr>\n",
       "  </tbody>\n",
       "</table>\n",
       "</div>"
      ],
      "text/plain": [
       "       Phillippines   Indonesia       Malta       India\n",
       "count           300         300         300         300\n",
       "unique            2           2           2           2\n",
       "top      Error Free  Error Free  Error Free  Error Free\n",
       "freq            271         267         269         280"
      ]
     },
     "execution_count": 157,
     "metadata": {},
     "output_type": "execute_result"
    }
   ],
   "source": [
    "orders.describe()"
   ]
  },
  {
   "cell_type": "code",
   "execution_count": 158,
   "id": "6d0d012e",
   "metadata": {
    "ExecuteTime": {
     "end_time": "2022-11-29T07:12:24.261416Z",
     "start_time": "2022-11-29T07:12:24.076556Z"
    }
   },
   "outputs": [
    {
     "data": {
      "text/html": [
       "<div>\n",
       "<style scoped>\n",
       "    .dataframe tbody tr th:only-of-type {\n",
       "        vertical-align: middle;\n",
       "    }\n",
       "\n",
       "    .dataframe tbody tr th {\n",
       "        vertical-align: top;\n",
       "    }\n",
       "\n",
       "    .dataframe thead th {\n",
       "        text-align: right;\n",
       "    }\n",
       "</style>\n",
       "<table border=\"1\" class=\"dataframe\">\n",
       "  <thead>\n",
       "    <tr style=\"text-align: right;\">\n",
       "      <th></th>\n",
       "      <th>Phillippines</th>\n",
       "      <th>Indonesia</th>\n",
       "      <th>Malta</th>\n",
       "      <th>India</th>\n",
       "    </tr>\n",
       "  </thead>\n",
       "  <tbody>\n",
       "    <tr>\n",
       "      <th>Error Free</th>\n",
       "      <td>271</td>\n",
       "      <td>267</td>\n",
       "      <td>269</td>\n",
       "      <td>280</td>\n",
       "    </tr>\n",
       "    <tr>\n",
       "      <th>Defective</th>\n",
       "      <td>29</td>\n",
       "      <td>33</td>\n",
       "      <td>31</td>\n",
       "      <td>20</td>\n",
       "    </tr>\n",
       "  </tbody>\n",
       "</table>\n",
       "</div>"
      ],
      "text/plain": [
       "            Phillippines  Indonesia  Malta  India\n",
       "Error Free           271        267    269    280\n",
       "Defective             29         33     31     20"
      ]
     },
     "execution_count": 158,
     "metadata": {},
     "output_type": "execute_result"
    }
   ],
   "source": [
    "#The count of Error Free and Defective for given 4 centers\n",
    "table = [[271,267,269,280],[29,33,31,20]]\n",
    "data1 = pd.DataFrame([\n",
    "    [271,267,269,280],\n",
    "    [29,33,31,20]], \n",
    "    index = ['Error Free', 'Defective'], columns = ['Phillippines', 'Indonesia', 'Malta', 'India'])\n",
    "data1"
   ]
  },
  {
   "cell_type": "code",
   "execution_count": 159,
   "id": "fbb46359",
   "metadata": {
    "ExecuteTime": {
     "end_time": "2022-11-29T07:12:24.541086Z",
     "start_time": "2022-11-29T07:12:24.264324Z"
    }
   },
   "outputs": [
    {
     "data": {
      "image/png": "[encoded data removed]",
      "text/plain": [
       "<Figure size 432x288 with 1 Axes>"
      ]
     },
     "metadata": {},
     "output_type": "display_data"
    }
   ],
   "source": [
    "X = ['Philippines','Indonesia','malta','India']\n",
    "ErrorFree = [271,267,269,280]\n",
    "Defective= [29,33,31,20]\n",
    "\n",
    "X_axis = np.arange(len(X))\n",
    "\n",
    "plt.bar(X_axis - 0.2, ErrorFree , 0.4, label = 'ErrorFree')\n",
    "plt.bar(X_axis + 0.2, Defective, 0.4, label = 'Defective')\n",
    "plt.xticks(X_axis, X)\n",
    "plt.legend()\n",
    "plt.show()"
   ]
  },
  {
   "cell_type": "code",
   "execution_count": 160,
   "id": "d2cde356",
   "metadata": {
    "ExecuteTime": {
     "end_time": "2022-11-29T07:12:24.665040Z",
     "start_time": "2022-11-29T07:12:24.542089Z"
    },
    "scrolled": true
   },
   "outputs": [
    {
     "name": "stdout",
     "output_type": "stream",
     "text": [
      "\n",
      "Chi-squared test for independence\n",
      "\n",
      "Test              Df    Chi-square    P-value\n",
      "--------------  ----  ------------  ---------\n",
      "Pearson            3       3.85896   0.277102\n",
      "Log-likelihood     3       4.08351   0.252587\n",
      "\n"
     ]
    }
   ],
   "source": [
    "# run chi-square test for independence\n",
    "res = stat()\n",
    "res.chisq(df=data1)\n",
    "print(res.summary)"
   ]
  },
  {
   "cell_type": "code",
   "execution_count": 161,
   "id": "aa01ba5c",
   "metadata": {
    "ExecuteTime": {
     "end_time": "2022-11-29T07:12:24.990757Z",
     "start_time": "2022-11-29T07:12:24.667036Z"
    }
   },
   "outputs": [
    {
     "name": "stdout",
     "output_type": "stream",
     "text": [
      "\n",
      "Expected frequency counts\n",
      "\n",
      "      Phillippines    Indonesia    Malta    India\n",
      "--  --------------  -----------  -------  -------\n",
      " 0          271.75       271.75   271.75   271.75\n",
      " 1           28.25        28.25    28.25    28.25\n",
      "\n"
     ]
    }
   ],
   "source": [
    "print(res.expected_df)"
   ]
  },
  {
   "cell_type": "markdown",
   "id": "7e55639e",
   "metadata": {},
   "source": [
    "Final Statement : Now if we analyse pvalue = 0.277 at 5% significance level (alpha = 0.05) we get pvlaue greater than alpha. Hence we will fail to reject H0 (Null Hypothesis)\n",
    "\n",
    "pvalue > alpha (0.277 > 0.05)\n",
    "\n",
    "Accept H0 => the defective % does not vary by centre / the variables are independent"
   ]
  },
  {
   "cell_type": "markdown",
   "id": "380e7aeb",
   "metadata": {},
   "source": [
    "# Cutlets.csv"
   ]
  },
  {
   "cell_type": "markdown",
   "id": "1761f78b",
   "metadata": {},
   "source": [
    "A F&B manager wants to determine whether there is any significant difference in the diameter of the cutlet between two units. A randomly selected sample of cutlets was collected from both units and measured? Analyze the data and draw inferences at 5% significance level. Please state the assumptions and tests that you carried out to check validity of the assumptions.\n",
    "\n",
    "Answer: As per the problem statement above we will be using 2 sample 2 tail hypothesis test here as we have 2 samples provided in the problem statement.\n",
    "\n",
    "Step 1 : Define the hypothesis : H0 hypothesis => There is no difference in the diameter of the cutlets of Unit A and B, Ha hypothesis => There is a significant difference in the diameter of the cutlets of Unit A and B\n",
    "\n",
    "Step 2 : Since we have smaple data we will go for t-test here.\n",
    "\n",
    "Step 3 : We have alpha = 0.05, if pvalue < alpha then we need to reject h0 (Null hypothesis) and if pvalue > alpha then we will fail to reject H0 means we will accept H0"
   ]
  },
  {
   "cell_type": "code",
   "execution_count": 162,
   "id": "0328f76c",
   "metadata": {
    "ExecuteTime": {
     "end_time": "2022-11-29T07:12:25.349408Z",
     "start_time": "2022-11-29T07:12:24.991957Z"
    }
   },
   "outputs": [
    {
     "data": {
      "text/html": [
       "<div>\n",
       "<style scoped>\n",
       "    .dataframe tbody tr th:only-of-type {\n",
       "        vertical-align: middle;\n",
       "    }\n",
       "\n",
       "    .dataframe tbody tr th {\n",
       "        vertical-align: top;\n",
       "    }\n",
       "\n",
       "    .dataframe thead th {\n",
       "        text-align: right;\n",
       "    }\n",
       "</style>\n",
       "<table border=\"1\" class=\"dataframe\">\n",
       "  <thead>\n",
       "    <tr style=\"text-align: right;\">\n",
       "      <th></th>\n",
       "      <th>Unit A</th>\n",
       "      <th>Unit B</th>\n",
       "    </tr>\n",
       "  </thead>\n",
       "  <tbody>\n",
       "    <tr>\n",
       "      <th>0</th>\n",
       "      <td>6.8090</td>\n",
       "      <td>6.7703</td>\n",
       "    </tr>\n",
       "    <tr>\n",
       "      <th>1</th>\n",
       "      <td>6.4376</td>\n",
       "      <td>7.5093</td>\n",
       "    </tr>\n",
       "    <tr>\n",
       "      <th>2</th>\n",
       "      <td>6.9157</td>\n",
       "      <td>6.7300</td>\n",
       "    </tr>\n",
       "    <tr>\n",
       "      <th>3</th>\n",
       "      <td>7.3012</td>\n",
       "      <td>6.7878</td>\n",
       "    </tr>\n",
       "    <tr>\n",
       "      <th>4</th>\n",
       "      <td>7.4488</td>\n",
       "      <td>7.1522</td>\n",
       "    </tr>\n",
       "    <tr>\n",
       "      <th>5</th>\n",
       "      <td>7.3871</td>\n",
       "      <td>6.8110</td>\n",
       "    </tr>\n",
       "    <tr>\n",
       "      <th>6</th>\n",
       "      <td>6.8755</td>\n",
       "      <td>7.2212</td>\n",
       "    </tr>\n",
       "    <tr>\n",
       "      <th>7</th>\n",
       "      <td>7.0621</td>\n",
       "      <td>6.6606</td>\n",
       "    </tr>\n",
       "    <tr>\n",
       "      <th>8</th>\n",
       "      <td>6.6840</td>\n",
       "      <td>7.2402</td>\n",
       "    </tr>\n",
       "    <tr>\n",
       "      <th>9</th>\n",
       "      <td>6.8236</td>\n",
       "      <td>7.0503</td>\n",
       "    </tr>\n",
       "    <tr>\n",
       "      <th>10</th>\n",
       "      <td>7.3930</td>\n",
       "      <td>6.8810</td>\n",
       "    </tr>\n",
       "    <tr>\n",
       "      <th>11</th>\n",
       "      <td>7.5169</td>\n",
       "      <td>7.4059</td>\n",
       "    </tr>\n",
       "    <tr>\n",
       "      <th>12</th>\n",
       "      <td>6.9246</td>\n",
       "      <td>6.7652</td>\n",
       "    </tr>\n",
       "    <tr>\n",
       "      <th>13</th>\n",
       "      <td>6.9256</td>\n",
       "      <td>6.0380</td>\n",
       "    </tr>\n",
       "    <tr>\n",
       "      <th>14</th>\n",
       "      <td>6.5797</td>\n",
       "      <td>7.1581</td>\n",
       "    </tr>\n",
       "    <tr>\n",
       "      <th>15</th>\n",
       "      <td>6.8394</td>\n",
       "      <td>7.0240</td>\n",
       "    </tr>\n",
       "    <tr>\n",
       "      <th>16</th>\n",
       "      <td>6.5970</td>\n",
       "      <td>6.6672</td>\n",
       "    </tr>\n",
       "    <tr>\n",
       "      <th>17</th>\n",
       "      <td>7.2705</td>\n",
       "      <td>7.4314</td>\n",
       "    </tr>\n",
       "    <tr>\n",
       "      <th>18</th>\n",
       "      <td>7.2828</td>\n",
       "      <td>7.3070</td>\n",
       "    </tr>\n",
       "    <tr>\n",
       "      <th>19</th>\n",
       "      <td>7.3495</td>\n",
       "      <td>6.7478</td>\n",
       "    </tr>\n",
       "    <tr>\n",
       "      <th>20</th>\n",
       "      <td>6.9438</td>\n",
       "      <td>6.8889</td>\n",
       "    </tr>\n",
       "    <tr>\n",
       "      <th>21</th>\n",
       "      <td>7.1560</td>\n",
       "      <td>7.4220</td>\n",
       "    </tr>\n",
       "    <tr>\n",
       "      <th>22</th>\n",
       "      <td>6.5341</td>\n",
       "      <td>6.5217</td>\n",
       "    </tr>\n",
       "    <tr>\n",
       "      <th>23</th>\n",
       "      <td>7.2854</td>\n",
       "      <td>7.1688</td>\n",
       "    </tr>\n",
       "    <tr>\n",
       "      <th>24</th>\n",
       "      <td>6.9952</td>\n",
       "      <td>6.7594</td>\n",
       "    </tr>\n",
       "    <tr>\n",
       "      <th>25</th>\n",
       "      <td>6.8568</td>\n",
       "      <td>6.9399</td>\n",
       "    </tr>\n",
       "    <tr>\n",
       "      <th>26</th>\n",
       "      <td>7.2163</td>\n",
       "      <td>7.0133</td>\n",
       "    </tr>\n",
       "    <tr>\n",
       "      <th>27</th>\n",
       "      <td>6.6801</td>\n",
       "      <td>6.9182</td>\n",
       "    </tr>\n",
       "    <tr>\n",
       "      <th>28</th>\n",
       "      <td>6.9431</td>\n",
       "      <td>6.3346</td>\n",
       "    </tr>\n",
       "    <tr>\n",
       "      <th>29</th>\n",
       "      <td>7.0852</td>\n",
       "      <td>7.5459</td>\n",
       "    </tr>\n",
       "    <tr>\n",
       "      <th>30</th>\n",
       "      <td>6.7794</td>\n",
       "      <td>7.0992</td>\n",
       "    </tr>\n",
       "    <tr>\n",
       "      <th>31</th>\n",
       "      <td>7.2783</td>\n",
       "      <td>7.1180</td>\n",
       "    </tr>\n",
       "    <tr>\n",
       "      <th>32</th>\n",
       "      <td>7.1561</td>\n",
       "      <td>6.6965</td>\n",
       "    </tr>\n",
       "    <tr>\n",
       "      <th>33</th>\n",
       "      <td>7.3943</td>\n",
       "      <td>6.5780</td>\n",
       "    </tr>\n",
       "    <tr>\n",
       "      <th>34</th>\n",
       "      <td>6.9405</td>\n",
       "      <td>7.3875</td>\n",
       "    </tr>\n",
       "  </tbody>\n",
       "</table>\n",
       "</div>"
      ],
      "text/plain": [
       "    Unit A  Unit B\n",
       "0   6.8090  6.7703\n",
       "1   6.4376  7.5093\n",
       "2   6.9157  6.7300\n",
       "3   7.3012  6.7878\n",
       "4   7.4488  7.1522\n",
       "5   7.3871  6.8110\n",
       "6   6.8755  7.2212\n",
       "7   7.0621  6.6606\n",
       "8   6.6840  7.2402\n",
       "9   6.8236  7.0503\n",
       "10  7.3930  6.8810\n",
       "11  7.5169  7.4059\n",
       "12  6.9246  6.7652\n",
       "13  6.9256  6.0380\n",
       "14  6.5797  7.1581\n",
       "15  6.8394  7.0240\n",
       "16  6.5970  6.6672\n",
       "17  7.2705  7.4314\n",
       "18  7.2828  7.3070\n",
       "19  7.3495  6.7478\n",
       "20  6.9438  6.8889\n",
       "21  7.1560  7.4220\n",
       "22  6.5341  6.5217\n",
       "23  7.2854  7.1688\n",
       "24  6.9952  6.7594\n",
       "25  6.8568  6.9399\n",
       "26  7.2163  7.0133\n",
       "27  6.6801  6.9182\n",
       "28  6.9431  6.3346\n",
       "29  7.0852  7.5459\n",
       "30  6.7794  7.0992\n",
       "31  7.2783  7.1180\n",
       "32  7.1561  6.6965\n",
       "33  7.3943  6.5780\n",
       "34  6.9405  7.3875"
      ]
     },
     "execution_count": 162,
     "metadata": {},
     "output_type": "execute_result"
    }
   ],
   "source": [
    "cut = pd.read_csv(\"Cutlets.csv\")\n",
    "cut"
   ]
  },
  {
   "cell_type": "code",
   "execution_count": 163,
   "id": "3c8b32ca",
   "metadata": {
    "ExecuteTime": {
     "end_time": "2022-11-29T07:12:25.862505Z",
     "start_time": "2022-11-29T07:12:25.353398Z"
    }
   },
   "outputs": [
    {
     "name": "stderr",
     "output_type": "stream",
     "text": [
      "C:\\Users\\Priyanka\\anaconda3\\lib\\site-packages\\seaborn\\distributions.py:2619: FutureWarning: `distplot` is a deprecated function and will be removed in a future version. Please adapt your code to use either `displot` (a figure-level function with similar flexibility) or `histplot` (an axes-level function for histograms).\n",
      "  warnings.warn(msg, FutureWarning)\n"
     ]
    },
    {
     "data": {
      "text/plain": [
       "<AxesSubplot:xlabel='Unit A', ylabel='Density'>"
      ]
     },
     "execution_count": 163,
     "metadata": {},
     "output_type": "execute_result"
    },
    {
     "data": {
      "image/png": "[encoded data removed]",
      "text/plain": [
       "<Figure size 432x288 with 1 Axes>"
      ]
     },
     "metadata": {},
     "output_type": "display_data"
    }
   ],
   "source": [
    "sns.distplot(cut[\"Unit A\"],color=\"Red\")"
   ]
  },
  {
   "cell_type": "code",
   "execution_count": 164,
   "id": "e916a740",
   "metadata": {
    "ExecuteTime": {
     "end_time": "2022-11-29T07:12:26.079299Z",
     "start_time": "2022-11-29T07:12:25.865499Z"
    }
   },
   "outputs": [
    {
     "name": "stderr",
     "output_type": "stream",
     "text": [
      "C:\\Users\\Priyanka\\anaconda3\\lib\\site-packages\\seaborn\\distributions.py:2619: FutureWarning: `distplot` is a deprecated function and will be removed in a future version. Please adapt your code to use either `displot` (a figure-level function with similar flexibility) or `histplot` (an axes-level function for histograms).\n",
      "  warnings.warn(msg, FutureWarning)\n"
     ]
    },
    {
     "data": {
      "text/plain": [
       "<AxesSubplot:xlabel='Unit B', ylabel='Density'>"
      ]
     },
     "execution_count": 164,
     "metadata": {},
     "output_type": "execute_result"
    },
    {
     "data": {
      "image/png": "[encoded data removed]",
      "text/plain": [
       "<Figure size 432x288 with 1 Axes>"
      ]
     },
     "metadata": {},
     "output_type": "display_data"
    }
   ],
   "source": [
    "sns.distplot(cut[\"Unit B\"],color=\"green\")"
   ]
  },
  {
   "cell_type": "code",
   "execution_count": 165,
   "id": "81d65dc8",
   "metadata": {
    "ExecuteTime": {
     "end_time": "2022-11-29T07:12:26.389387Z",
     "start_time": "2022-11-29T07:12:26.082291Z"
    }
   },
   "outputs": [
    {
     "name": "stderr",
     "output_type": "stream",
     "text": [
      "C:\\Users\\Priyanka\\anaconda3\\lib\\site-packages\\seaborn\\distributions.py:2619: FutureWarning: `distplot` is a deprecated function and will be removed in a future version. Please adapt your code to use either `displot` (a figure-level function with similar flexibility) or `histplot` (an axes-level function for histograms).\n",
      "  warnings.warn(msg, FutureWarning)\n",
      "C:\\Users\\Priyanka\\anaconda3\\lib\\site-packages\\seaborn\\distributions.py:2619: FutureWarning: `distplot` is a deprecated function and will be removed in a future version. Please adapt your code to use either `displot` (a figure-level function with similar flexibility) or `histplot` (an axes-level function for histograms).\n",
      "  warnings.warn(msg, FutureWarning)\n"
     ]
    },
    {
     "data": {
      "text/plain": [
       "<matplotlib.legend.Legend at 0x123538b38e0>"
      ]
     },
     "execution_count": 165,
     "metadata": {},
     "output_type": "execute_result"
    },
    {
     "data": {
      "image/png": "[encoded data removed]",
      "text/plain": [
       "<Figure size 432x288 with 1 Axes>"
      ]
     },
     "metadata": {},
     "output_type": "display_data"
    }
   ],
   "source": [
    "sns.distplot(cut[\"Unit A\"],color=\"Red\")\n",
    "sns.distplot(cut[\"Unit B\"],color=\"green\")\n",
    "plt.legend(['Unit A','Unit B'])"
   ]
  },
  {
   "cell_type": "code",
   "execution_count": 166,
   "id": "c0f40a9d",
   "metadata": {
    "ExecuteTime": {
     "end_time": "2022-11-29T07:12:26.562135Z",
     "start_time": "2022-11-29T07:12:26.390388Z"
    }
   },
   "outputs": [
    {
     "data": {
      "text/plain": [
       "<matplotlib.legend.Legend at 0x123539553a0>"
      ]
     },
     "execution_count": 166,
     "metadata": {},
     "output_type": "execute_result"
    },
    {
     "data": {
      "image/png": "[encoded data removed]",
      "text/plain": [
       "<Figure size 1080x720 with 1 Axes>"
      ]
     },
     "metadata": {},
     "output_type": "display_data"
    }
   ],
   "source": [
    "plt.figure(figsize=(15,10))\n",
    "sns.boxplot(data=[cut['Unit A'],cut['Unit B']])\n",
    "plt.legend(['Unit A','Unit B'])"
   ]
  },
  {
   "cell_type": "code",
   "execution_count": 167,
   "id": "a137b9cb",
   "metadata": {
    "ExecuteTime": {
     "end_time": "2022-11-29T07:12:26.578090Z",
     "start_time": "2022-11-29T07:12:26.564129Z"
    }
   },
   "outputs": [
    {
     "data": {
      "text/plain": [
       "0    6.8090\n",
       "1    6.4376\n",
       "2    6.9157\n",
       "3    7.3012\n",
       "4    7.4488\n",
       "Name: Unit A, dtype: float64"
      ]
     },
     "execution_count": 167,
     "metadata": {},
     "output_type": "execute_result"
    }
   ],
   "source": [
    "unitA=pd.Series(cut.iloc[:,0])\n",
    "unitA.head()"
   ]
  },
  {
   "cell_type": "code",
   "execution_count": 168,
   "id": "f14ddfb8",
   "metadata": {
    "ExecuteTime": {
     "end_time": "2022-11-29T07:12:26.780063Z",
     "start_time": "2022-11-29T07:12:26.581083Z"
    }
   },
   "outputs": [
    {
     "data": {
      "text/plain": [
       "0    6.7703\n",
       "1    7.5093\n",
       "2    6.7300\n",
       "3    6.7878\n",
       "4    7.1522\n",
       "Name: Unit B, dtype: float64"
      ]
     },
     "execution_count": 168,
     "metadata": {},
     "output_type": "execute_result"
    }
   ],
   "source": [
    "unitB=pd.Series(cut.iloc[:,1])\n",
    "unitB.head()"
   ]
  },
  {
   "cell_type": "code",
   "execution_count": 169,
   "id": "cd16e929",
   "metadata": {
    "ExecuteTime": {
     "end_time": "2022-11-29T07:12:26.950552Z",
     "start_time": "2022-11-29T07:12:26.786048Z"
    }
   },
   "outputs": [
    {
     "data": {
      "text/plain": [
       "Ttest_indResult(statistic=0.7228688704678063, pvalue=0.4722394724599501)"
      ]
     },
     "execution_count": 169,
     "metadata": {},
     "output_type": "execute_result"
    }
   ],
   "source": [
    "# 2-sample 2-tail ttest:   stats.ttest_ind(array1,array2)     # ind -> independent samples\n",
    "p_value=stats.ttest_ind(unitA,unitB)\n",
    "p_value"
   ]
  },
  {
   "cell_type": "markdown",
   "id": "9ea67210",
   "metadata": {},
   "source": [
    "Final Statement : as we can see above the pvalue we have got is 0.4722 which is greater then alpha valve we will fail to reject the Null hypothesis here\n",
    "\n",
    "pvalue > alpha (0.4722 > 0.05)\n",
    "\n",
    "Accept H0 => There is no difference in the diameter of the cutlets of Unit A and B"
   ]
  },
  {
   "cell_type": "markdown",
   "id": "eb2bbd93",
   "metadata": {},
   "source": [
    "# LabTAT.csv"
   ]
  },
  {
   "cell_type": "markdown",
   "id": "a5dc195e",
   "metadata": {},
   "source": [
    "A hospital wants to determine whether there is any difference in the average Turn Around Time (TAT) of reports of the laboratories on their preferred list. They collected a random sample and recorded TAT for reports of 4 laboratories. TAT is defined as sample collected to report dispatch. Analyze the data and determine whether there is any difference in average TAT among the different laboratories at 5% significance level.\n",
    "\n",
    "Answer : As per the problem statement above we will be using Anova hypothesis test here as we have more than 2 sample's data in the problem statement provided. Suppose the Average TAT of Lab1 is μ1, Lab2 is μ2, Lab3 is μ3 & Lab4 is μ4\n",
    "\n",
    "Step 1 : Define the hypothesis : H0 hypothesis => μ1 = μ2 = μ3 = μ4, Ha hypothesis => At least 1 Lab's Average TAT is different // Not all the averages are same\n",
    "\n",
    "Step 2 : Since it's Anova Hypothesis test we will go with F-ratio here.\n",
    "\n",
    "Step 3 : We have alpha = 0.05, if pvalue < alpha then we need to reject h0 (Null hypothesis) and if pvalue > alpha then we will fail to reject H0 means we will accept H0"
   ]
  },
  {
   "cell_type": "code",
   "execution_count": 170,
   "id": "a5c10fcb",
   "metadata": {
    "ExecuteTime": {
     "end_time": "2022-11-29T07:12:27.074119Z",
     "start_time": "2022-11-29T07:12:26.951878Z"
    }
   },
   "outputs": [
    {
     "data": {
      "text/html": [
       "<div>\n",
       "<style scoped>\n",
       "    .dataframe tbody tr th:only-of-type {\n",
       "        vertical-align: middle;\n",
       "    }\n",
       "\n",
       "    .dataframe tbody tr th {\n",
       "        vertical-align: top;\n",
       "    }\n",
       "\n",
       "    .dataframe thead th {\n",
       "        text-align: right;\n",
       "    }\n",
       "</style>\n",
       "<table border=\"1\" class=\"dataframe\">\n",
       "  <thead>\n",
       "    <tr style=\"text-align: right;\">\n",
       "      <th></th>\n",
       "      <th>Laboratory 1</th>\n",
       "      <th>Laboratory 2</th>\n",
       "      <th>Laboratory 3</th>\n",
       "      <th>Laboratory 4</th>\n",
       "    </tr>\n",
       "  </thead>\n",
       "  <tbody>\n",
       "    <tr>\n",
       "      <th>0</th>\n",
       "      <td>185.35</td>\n",
       "      <td>165.53</td>\n",
       "      <td>176.70</td>\n",
       "      <td>166.13</td>\n",
       "    </tr>\n",
       "    <tr>\n",
       "      <th>1</th>\n",
       "      <td>170.49</td>\n",
       "      <td>185.91</td>\n",
       "      <td>198.45</td>\n",
       "      <td>160.79</td>\n",
       "    </tr>\n",
       "    <tr>\n",
       "      <th>2</th>\n",
       "      <td>192.77</td>\n",
       "      <td>194.92</td>\n",
       "      <td>201.23</td>\n",
       "      <td>185.18</td>\n",
       "    </tr>\n",
       "    <tr>\n",
       "      <th>3</th>\n",
       "      <td>177.33</td>\n",
       "      <td>183.00</td>\n",
       "      <td>199.61</td>\n",
       "      <td>176.42</td>\n",
       "    </tr>\n",
       "    <tr>\n",
       "      <th>4</th>\n",
       "      <td>193.41</td>\n",
       "      <td>169.57</td>\n",
       "      <td>204.63</td>\n",
       "      <td>152.60</td>\n",
       "    </tr>\n",
       "    <tr>\n",
       "      <th>...</th>\n",
       "      <td>...</td>\n",
       "      <td>...</td>\n",
       "      <td>...</td>\n",
       "      <td>...</td>\n",
       "    </tr>\n",
       "    <tr>\n",
       "      <th>115</th>\n",
       "      <td>178.49</td>\n",
       "      <td>170.66</td>\n",
       "      <td>193.80</td>\n",
       "      <td>172.68</td>\n",
       "    </tr>\n",
       "    <tr>\n",
       "      <th>116</th>\n",
       "      <td>176.08</td>\n",
       "      <td>183.98</td>\n",
       "      <td>215.25</td>\n",
       "      <td>177.64</td>\n",
       "    </tr>\n",
       "    <tr>\n",
       "      <th>117</th>\n",
       "      <td>202.48</td>\n",
       "      <td>174.54</td>\n",
       "      <td>203.99</td>\n",
       "      <td>170.27</td>\n",
       "    </tr>\n",
       "    <tr>\n",
       "      <th>118</th>\n",
       "      <td>182.40</td>\n",
       "      <td>197.18</td>\n",
       "      <td>194.52</td>\n",
       "      <td>150.87</td>\n",
       "    </tr>\n",
       "    <tr>\n",
       "      <th>119</th>\n",
       "      <td>182.09</td>\n",
       "      <td>215.17</td>\n",
       "      <td>221.49</td>\n",
       "      <td>162.21</td>\n",
       "    </tr>\n",
       "  </tbody>\n",
       "</table>\n",
       "<p>120 rows × 4 columns</p>\n",
       "</div>"
      ],
      "text/plain": [
       "     Laboratory 1  Laboratory 2  Laboratory 3  Laboratory 4\n",
       "0          185.35        165.53        176.70        166.13\n",
       "1          170.49        185.91        198.45        160.79\n",
       "2          192.77        194.92        201.23        185.18\n",
       "3          177.33        183.00        199.61        176.42\n",
       "4          193.41        169.57        204.63        152.60\n",
       "..            ...           ...           ...           ...\n",
       "115        178.49        170.66        193.80        172.68\n",
       "116        176.08        183.98        215.25        177.64\n",
       "117        202.48        174.54        203.99        170.27\n",
       "118        182.40        197.18        194.52        150.87\n",
       "119        182.09        215.17        221.49        162.21\n",
       "\n",
       "[120 rows x 4 columns]"
      ]
     },
     "execution_count": 170,
     "metadata": {},
     "output_type": "execute_result"
    }
   ],
   "source": [
    "lab = pd.read_csv(\"LabTAT.csv\")\n",
    "lab"
   ]
  },
  {
   "cell_type": "code",
   "execution_count": 171,
   "id": "07f54ce7",
   "metadata": {
    "ExecuteTime": {
     "end_time": "2022-11-29T07:12:27.496904Z",
     "start_time": "2022-11-29T07:12:27.075022Z"
    }
   },
   "outputs": [
    {
     "name": "stderr",
     "output_type": "stream",
     "text": [
      "C:\\Users\\Priyanka\\anaconda3\\lib\\site-packages\\seaborn\\distributions.py:2619: FutureWarning: `distplot` is a deprecated function and will be removed in a future version. Please adapt your code to use either `displot` (a figure-level function with similar flexibility) or `histplot` (an axes-level function for histograms).\n",
      "  warnings.warn(msg, FutureWarning)\n"
     ]
    },
    {
     "data": {
      "text/plain": [
       "<AxesSubplot:xlabel='Laboratory 1', ylabel='Density'>"
      ]
     },
     "execution_count": 171,
     "metadata": {},
     "output_type": "execute_result"
    },
    {
     "data": {
      "image/png": "[encoded data removed]",
      "text/plain": [
       "<Figure size 432x288 with 1 Axes>"
      ]
     },
     "metadata": {},
     "output_type": "display_data"
    }
   ],
   "source": [
    "sns.distplot(lab[\"Laboratory 1\"],color=\"Red\")"
   ]
  },
  {
   "cell_type": "code",
   "execution_count": 172,
   "id": "b2a1bcd0",
   "metadata": {
    "ExecuteTime": {
     "end_time": "2022-11-29T07:12:27.732338Z",
     "start_time": "2022-11-29T07:12:27.498899Z"
    }
   },
   "outputs": [
    {
     "name": "stderr",
     "output_type": "stream",
     "text": [
      "C:\\Users\\Priyanka\\anaconda3\\lib\\site-packages\\seaborn\\distributions.py:2619: FutureWarning: `distplot` is a deprecated function and will be removed in a future version. Please adapt your code to use either `displot` (a figure-level function with similar flexibility) or `histplot` (an axes-level function for histograms).\n",
      "  warnings.warn(msg, FutureWarning)\n"
     ]
    },
    {
     "data": {
      "text/plain": [
       "<AxesSubplot:xlabel='Laboratory 2', ylabel='Density'>"
      ]
     },
     "execution_count": 172,
     "metadata": {},
     "output_type": "execute_result"
    },
    {
     "data": {
      "image/png": "[encoded data removed]",
      "text/plain": [
       "<Figure size 432x288 with 1 Axes>"
      ]
     },
     "metadata": {},
     "output_type": "display_data"
    }
   ],
   "source": [
    "sns.distplot(lab[\"Laboratory 2\"],color=\"green\")"
   ]
  },
  {
   "cell_type": "code",
   "execution_count": 173,
   "id": "83c5eb20",
   "metadata": {
    "ExecuteTime": {
     "end_time": "2022-11-29T07:12:27.963638Z",
     "start_time": "2022-11-29T07:12:27.734334Z"
    }
   },
   "outputs": [
    {
     "name": "stderr",
     "output_type": "stream",
     "text": [
      "C:\\Users\\Priyanka\\anaconda3\\lib\\site-packages\\seaborn\\distributions.py:2619: FutureWarning: `distplot` is a deprecated function and will be removed in a future version. Please adapt your code to use either `displot` (a figure-level function with similar flexibility) or `histplot` (an axes-level function for histograms).\n",
      "  warnings.warn(msg, FutureWarning)\n"
     ]
    },
    {
     "data": {
      "text/plain": [
       "<AxesSubplot:xlabel='Laboratory 3', ylabel='Density'>"
      ]
     },
     "execution_count": 173,
     "metadata": {},
     "output_type": "execute_result"
    },
    {
     "data": {
      "image/png": "[encoded data removed]",
      "text/plain": [
       "<Figure size 432x288 with 1 Axes>"
      ]
     },
     "metadata": {},
     "output_type": "display_data"
    }
   ],
   "source": [
    "sns.distplot(lab['Laboratory 3'],color=\"orange\")"
   ]
  },
  {
   "cell_type": "code",
   "execution_count": 174,
   "id": "0f2ba568",
   "metadata": {
    "ExecuteTime": {
     "end_time": "2022-11-29T07:12:28.186719Z",
     "start_time": "2022-11-29T07:12:27.965607Z"
    }
   },
   "outputs": [
    {
     "name": "stderr",
     "output_type": "stream",
     "text": [
      "C:\\Users\\Priyanka\\anaconda3\\lib\\site-packages\\seaborn\\distributions.py:2619: FutureWarning: `distplot` is a deprecated function and will be removed in a future version. Please adapt your code to use either `displot` (a figure-level function with similar flexibility) or `histplot` (an axes-level function for histograms).\n",
      "  warnings.warn(msg, FutureWarning)\n"
     ]
    },
    {
     "data": {
      "text/plain": [
       "<AxesSubplot:xlabel='Laboratory 3', ylabel='Density'>"
      ]
     },
     "execution_count": 174,
     "metadata": {},
     "output_type": "execute_result"
    },
    {
     "data": {
      "image/png": "[encoded data removed]",
      "text/plain": [
       "<Figure size 432x288 with 1 Axes>"
      ]
     },
     "metadata": {},
     "output_type": "display_data"
    }
   ],
   "source": [
    "sns.distplot(lab['Laboratory 3'],color=\"blue\")"
   ]
  },
  {
   "cell_type": "code",
   "execution_count": 175,
   "id": "6102ff39",
   "metadata": {
    "ExecuteTime": {
     "end_time": "2022-11-29T07:12:28.688021Z",
     "start_time": "2022-11-29T07:12:28.187712Z"
    }
   },
   "outputs": [
    {
     "name": "stderr",
     "output_type": "stream",
     "text": [
      "C:\\Users\\Priyanka\\anaconda3\\lib\\site-packages\\seaborn\\distributions.py:2619: FutureWarning: `distplot` is a deprecated function and will be removed in a future version. Please adapt your code to use either `displot` (a figure-level function with similar flexibility) or `histplot` (an axes-level function for histograms).\n",
      "  warnings.warn(msg, FutureWarning)\n",
      "C:\\Users\\Priyanka\\anaconda3\\lib\\site-packages\\seaborn\\distributions.py:2619: FutureWarning: `distplot` is a deprecated function and will be removed in a future version. Please adapt your code to use either `displot` (a figure-level function with similar flexibility) or `histplot` (an axes-level function for histograms).\n",
      "  warnings.warn(msg, FutureWarning)\n",
      "C:\\Users\\Priyanka\\anaconda3\\lib\\site-packages\\seaborn\\distributions.py:2619: FutureWarning: `distplot` is a deprecated function and will be removed in a future version. Please adapt your code to use either `displot` (a figure-level function with similar flexibility) or `histplot` (an axes-level function for histograms).\n",
      "  warnings.warn(msg, FutureWarning)\n",
      "C:\\Users\\Priyanka\\anaconda3\\lib\\site-packages\\seaborn\\distributions.py:2619: FutureWarning: `distplot` is a deprecated function and will be removed in a future version. Please adapt your code to use either `displot` (a figure-level function with similar flexibility) or `histplot` (an axes-level function for histograms).\n",
      "  warnings.warn(msg, FutureWarning)\n"
     ]
    },
    {
     "data": {
      "text/plain": [
       "<matplotlib.legend.Legend at 0x12353bfac70>"
      ]
     },
     "execution_count": 175,
     "metadata": {},
     "output_type": "execute_result"
    },
    {
     "data": {
      "image/png": "[encoded data removed]",
      "text/plain": [
       "<Figure size 432x288 with 1 Axes>"
      ]
     },
     "metadata": {},
     "output_type": "display_data"
    }
   ],
   "source": [
    "sns.distplot(lab[\"Laboratory 1\"],color=\"Red\")\n",
    "sns.distplot(lab[\"Laboratory 2\"],color=\"green\")\n",
    "sns.distplot(lab[\"Laboratory 3\"],color=\"orange\")\n",
    "sns.distplot(lab[\"Laboratory 4\"],color=\"blue\")\n",
    "plt.legend(['Laboratory 1','Laboratory 2','Laboratory 3','Laboratory 4'])"
   ]
  },
  {
   "cell_type": "code",
   "execution_count": 176,
   "id": "b52948cb",
   "metadata": {
    "ExecuteTime": {
     "end_time": "2022-11-29T07:12:28.891124Z",
     "start_time": "2022-11-29T07:12:28.690404Z"
    }
   },
   "outputs": [
    {
     "data": {
      "text/plain": [
       "<matplotlib.legend.Legend at 0x12353c5d040>"
      ]
     },
     "execution_count": 176,
     "metadata": {},
     "output_type": "execute_result"
    },
    {
     "data": {
      "image/png": "[encoded data removed]",
      "text/plain": [
       "<Figure size 1080x720 with 1 Axes>"
      ]
     },
     "metadata": {},
     "output_type": "display_data"
    }
   ],
   "source": [
    "plt.figure(figsize=(15,10))\n",
    "sns.boxplot(data=[lab['Laboratory 1'],lab['Laboratory 2'],lab['Laboratory 3'],lab['Laboratory 4']])\n",
    "plt.legend(['Laboratory 1','Laboratory 2','Laboratory 3','Laboratory 4'])"
   ]
  },
  {
   "cell_type": "code",
   "execution_count": 177,
   "id": "6cd5a300",
   "metadata": {
    "ExecuteTime": {
     "end_time": "2022-11-29T07:12:28.907080Z",
     "start_time": "2022-11-29T07:12:28.892122Z"
    }
   },
   "outputs": [
    {
     "data": {
      "text/plain": [
       "F_onewayResult(statistic=118.70421654401437, pvalue=2.1156708949992414e-57)"
      ]
     },
     "execution_count": 177,
     "metadata": {},
     "output_type": "execute_result"
    }
   ],
   "source": [
    "stats.f_oneway(lab.iloc[:,0], lab.iloc[:,1], lab.iloc[:,2], lab.iloc[:,3])"
   ]
  },
  {
   "cell_type": "markdown",
   "id": "902981be",
   "metadata": {},
   "source": [
    "Final Statement : as we can see above pvalue = 2.11 x 10 raise to -57 which is almost 0 and lesser than alpha value hence we reject H0 (Null hypothesis)\n",
    "\n",
    "pvalue < alpha ( 2.11 x 10 raise to -57 < 0.05)\n",
    "\n",
    "Accept Ha => At least 1 Lab's Average TAT is different // Not all the averages are same"
   ]
  }
 ],
 "metadata": {
  "kernelspec": {
   "display_name": "Python 3 (ipykernel)",
   "language": "python",
   "name": "python3"
  },
  "language_info": {
   "codemirror_mode": {
    "name": "ipython",
    "version": 3
   },
   "file_extension": ".py",
   "mimetype": "text/x-python",
   "name": "python",
   "nbconvert_exporter": "python",
   "pygments_lexer": "ipython3",
   "version": "3.9.12"
  }
 },
 "nbformat": 4,
 "nbformat_minor": 5
}
