{
 "cells": [
  {
   "cell_type": "markdown",
   "id": "5279e5bb",
   "metadata": {},
   "source": [
    "# Airlines+Data.csv"
   ]
  },
  {
   "cell_type": "code",
   "execution_count": 250,
   "id": "fc866c28",
   "metadata": {
    "ExecuteTime": {
     "end_time": "2022-12-05T08:10:59.000075Z",
     "start_time": "2022-12-05T08:10:58.974374Z"
    }
   },
   "outputs": [],
   "source": [
    "import pandas as pd\n",
    "import numpy as np\n",
    "from numpy import sqrt\n",
    "\n",
    "from pandas import Grouper\n",
    "from pandas import DataFrame\n",
    "\n",
    "import matplotlib.pyplot as plt\n",
    "import seaborn as sns\n",
    "\n",
    "from sklearn.metrics import mean_squared_error\n",
    "from pandas.plotting import lag_plot\n",
    "from statsmodels.graphics.tsaplots import plot_acf\n",
    "\n",
    "from statsmodels.tsa.seasonal import seasonal_decompose\n",
    "## with the help of this we will be able to creat graphs for the dfferent components of time series data \n",
    "#like trends, level, sesional components and residual data\n",
    "\n",
    "from statsmodels.tsa.holtwinters import SimpleExpSmoothing # SES\n",
    "from statsmodels.tsa.holtwinters import Holt # Holts Exponential Smoothing\n",
    "from statsmodels.tsa.holtwinters import ExponentialSmoothing"
   ]
  },
  {
   "cell_type": "code",
   "execution_count": 251,
   "id": "81808854",
   "metadata": {
    "ExecuteTime": {
     "end_time": "2022-12-05T08:10:59.203785Z",
     "start_time": "2022-12-05T08:10:59.008293Z"
    }
   },
   "outputs": [
    {
     "data": {
      "text/html": [
       "<div>\n",
       "<style scoped>\n",
       "    .dataframe tbody tr th:only-of-type {\n",
       "        vertical-align: middle;\n",
       "    }\n",
       "\n",
       "    .dataframe tbody tr th {\n",
       "        vertical-align: top;\n",
       "    }\n",
       "\n",
       "    .dataframe thead th {\n",
       "        text-align: right;\n",
       "    }\n",
       "</style>\n",
       "<table border=\"1\" class=\"dataframe\">\n",
       "  <thead>\n",
       "    <tr style=\"text-align: right;\">\n",
       "      <th></th>\n",
       "      <th>Month</th>\n",
       "      <th>Passengers</th>\n",
       "    </tr>\n",
       "  </thead>\n",
       "  <tbody>\n",
       "    <tr>\n",
       "      <th>0</th>\n",
       "      <td>1995-01-01</td>\n",
       "      <td>112</td>\n",
       "    </tr>\n",
       "    <tr>\n",
       "      <th>1</th>\n",
       "      <td>1995-02-01</td>\n",
       "      <td>118</td>\n",
       "    </tr>\n",
       "    <tr>\n",
       "      <th>2</th>\n",
       "      <td>1995-03-01</td>\n",
       "      <td>132</td>\n",
       "    </tr>\n",
       "    <tr>\n",
       "      <th>3</th>\n",
       "      <td>1995-04-01</td>\n",
       "      <td>129</td>\n",
       "    </tr>\n",
       "    <tr>\n",
       "      <th>4</th>\n",
       "      <td>1995-05-01</td>\n",
       "      <td>121</td>\n",
       "    </tr>\n",
       "    <tr>\n",
       "      <th>...</th>\n",
       "      <td>...</td>\n",
       "      <td>...</td>\n",
       "    </tr>\n",
       "    <tr>\n",
       "      <th>91</th>\n",
       "      <td>2002-08-01</td>\n",
       "      <td>405</td>\n",
       "    </tr>\n",
       "    <tr>\n",
       "      <th>92</th>\n",
       "      <td>2002-09-01</td>\n",
       "      <td>355</td>\n",
       "    </tr>\n",
       "    <tr>\n",
       "      <th>93</th>\n",
       "      <td>2002-10-01</td>\n",
       "      <td>306</td>\n",
       "    </tr>\n",
       "    <tr>\n",
       "      <th>94</th>\n",
       "      <td>2002-11-01</td>\n",
       "      <td>271</td>\n",
       "    </tr>\n",
       "    <tr>\n",
       "      <th>95</th>\n",
       "      <td>2002-12-01</td>\n",
       "      <td>306</td>\n",
       "    </tr>\n",
       "  </tbody>\n",
       "</table>\n",
       "<p>96 rows × 2 columns</p>\n",
       "</div>"
      ],
      "text/plain": [
       "        Month  Passengers\n",
       "0  1995-01-01         112\n",
       "1  1995-02-01         118\n",
       "2  1995-03-01         132\n",
       "3  1995-04-01         129\n",
       "4  1995-05-01         121\n",
       "..        ...         ...\n",
       "91 2002-08-01         405\n",
       "92 2002-09-01         355\n",
       "93 2002-10-01         306\n",
       "94 2002-11-01         271\n",
       "95 2002-12-01         306\n",
       "\n",
       "[96 rows x 2 columns]"
      ]
     },
     "execution_count": 251,
     "metadata": {},
     "output_type": "execute_result"
    }
   ],
   "source": [
    "##Loading the dataset\n",
    "df = pd.read_excel('Airlines+Data.csv',header=0,parse_dates=True)\n",
    "df"
   ]
  },
  {
   "cell_type": "code",
   "execution_count": 252,
   "id": "44136f1b",
   "metadata": {
    "ExecuteTime": {
     "end_time": "2022-12-05T08:10:59.281834Z",
     "start_time": "2022-12-05T08:10:59.208769Z"
    }
   },
   "outputs": [
    {
     "name": "stdout",
     "output_type": "stream",
     "text": [
      "<class 'pandas.core.frame.DataFrame'>\n",
      "RangeIndex: 96 entries, 0 to 95\n",
      "Data columns (total 2 columns):\n",
      " #   Column      Non-Null Count  Dtype         \n",
      "---  ------      --------------  -----         \n",
      " 0   Month       96 non-null     datetime64[ns]\n",
      " 1   Passengers  96 non-null     int64         \n",
      "dtypes: datetime64[ns](1), int64(1)\n",
      "memory usage: 1.6 KB\n"
     ]
    }
   ],
   "source": [
    "df.info()\n"
   ]
  },
  {
   "cell_type": "code",
   "execution_count": 253,
   "id": "4db9cbf5",
   "metadata": {
    "ExecuteTime": {
     "end_time": "2022-12-05T08:10:59.437720Z",
     "start_time": "2022-12-05T08:10:59.285078Z"
    }
   },
   "outputs": [
    {
     "data": {
      "text/html": [
       "<div>\n",
       "<style scoped>\n",
       "    .dataframe tbody tr th:only-of-type {\n",
       "        vertical-align: middle;\n",
       "    }\n",
       "\n",
       "    .dataframe tbody tr th {\n",
       "        vertical-align: top;\n",
       "    }\n",
       "\n",
       "    .dataframe thead th {\n",
       "        text-align: right;\n",
       "    }\n",
       "</style>\n",
       "<table border=\"1\" class=\"dataframe\">\n",
       "  <thead>\n",
       "    <tr style=\"text-align: right;\">\n",
       "      <th></th>\n",
       "      <th>Passengers</th>\n",
       "    </tr>\n",
       "  </thead>\n",
       "  <tbody>\n",
       "    <tr>\n",
       "      <th>count</th>\n",
       "      <td>96.000000</td>\n",
       "    </tr>\n",
       "    <tr>\n",
       "      <th>mean</th>\n",
       "      <td>213.708333</td>\n",
       "    </tr>\n",
       "    <tr>\n",
       "      <th>std</th>\n",
       "      <td>71.918216</td>\n",
       "    </tr>\n",
       "    <tr>\n",
       "      <th>min</th>\n",
       "      <td>104.000000</td>\n",
       "    </tr>\n",
       "    <tr>\n",
       "      <th>25%</th>\n",
       "      <td>156.000000</td>\n",
       "    </tr>\n",
       "    <tr>\n",
       "      <th>50%</th>\n",
       "      <td>200.000000</td>\n",
       "    </tr>\n",
       "    <tr>\n",
       "      <th>75%</th>\n",
       "      <td>264.750000</td>\n",
       "    </tr>\n",
       "    <tr>\n",
       "      <th>max</th>\n",
       "      <td>413.000000</td>\n",
       "    </tr>\n",
       "  </tbody>\n",
       "</table>\n",
       "</div>"
      ],
      "text/plain": [
       "       Passengers\n",
       "count   96.000000\n",
       "mean   213.708333\n",
       "std     71.918216\n",
       "min    104.000000\n",
       "25%    156.000000\n",
       "50%    200.000000\n",
       "75%    264.750000\n",
       "max    413.000000"
      ]
     },
     "execution_count": 253,
     "metadata": {},
     "output_type": "execute_result"
    }
   ],
   "source": [
    "df.describe()\n"
   ]
  },
  {
   "cell_type": "code",
   "execution_count": 254,
   "id": "ea34307a",
   "metadata": {
    "ExecuteTime": {
     "end_time": "2022-12-05T08:10:59.621245Z",
     "start_time": "2022-12-05T08:10:59.442441Z"
    }
   },
   "outputs": [
    {
     "data": {
      "text/html": [
       "<div>\n",
       "<style scoped>\n",
       "    .dataframe tbody tr th:only-of-type {\n",
       "        vertical-align: middle;\n",
       "    }\n",
       "\n",
       "    .dataframe tbody tr th {\n",
       "        vertical-align: top;\n",
       "    }\n",
       "\n",
       "    .dataframe thead th {\n",
       "        text-align: right;\n",
       "    }\n",
       "</style>\n",
       "<table border=\"1\" class=\"dataframe\">\n",
       "  <thead>\n",
       "    <tr style=\"text-align: right;\">\n",
       "      <th></th>\n",
       "      <th>Passengers</th>\n",
       "    </tr>\n",
       "    <tr>\n",
       "      <th>Month</th>\n",
       "      <th></th>\n",
       "    </tr>\n",
       "  </thead>\n",
       "  <tbody>\n",
       "    <tr>\n",
       "      <th>1995-01-01</th>\n",
       "      <td>112</td>\n",
       "    </tr>\n",
       "    <tr>\n",
       "      <th>1995-02-01</th>\n",
       "      <td>118</td>\n",
       "    </tr>\n",
       "    <tr>\n",
       "      <th>1995-03-01</th>\n",
       "      <td>132</td>\n",
       "    </tr>\n",
       "    <tr>\n",
       "      <th>1995-04-01</th>\n",
       "      <td>129</td>\n",
       "    </tr>\n",
       "    <tr>\n",
       "      <th>1995-05-01</th>\n",
       "      <td>121</td>\n",
       "    </tr>\n",
       "    <tr>\n",
       "      <th>...</th>\n",
       "      <td>...</td>\n",
       "    </tr>\n",
       "    <tr>\n",
       "      <th>2002-08-01</th>\n",
       "      <td>405</td>\n",
       "    </tr>\n",
       "    <tr>\n",
       "      <th>2002-09-01</th>\n",
       "      <td>355</td>\n",
       "    </tr>\n",
       "    <tr>\n",
       "      <th>2002-10-01</th>\n",
       "      <td>306</td>\n",
       "    </tr>\n",
       "    <tr>\n",
       "      <th>2002-11-01</th>\n",
       "      <td>271</td>\n",
       "    </tr>\n",
       "    <tr>\n",
       "      <th>2002-12-01</th>\n",
       "      <td>306</td>\n",
       "    </tr>\n",
       "  </tbody>\n",
       "</table>\n",
       "<p>96 rows × 1 columns</p>\n",
       "</div>"
      ],
      "text/plain": [
       "            Passengers\n",
       "Month                 \n",
       "1995-01-01         112\n",
       "1995-02-01         118\n",
       "1995-03-01         132\n",
       "1995-04-01         129\n",
       "1995-05-01         121\n",
       "...                ...\n",
       "2002-08-01         405\n",
       "2002-09-01         355\n",
       "2002-10-01         306\n",
       "2002-11-01         271\n",
       "2002-12-01         306\n",
       "\n",
       "[96 rows x 1 columns]"
      ]
     },
     "execution_count": 254,
     "metadata": {},
     "output_type": "execute_result"
    }
   ],
   "source": [
    "df.set_index('Month',inplace=True)\n",
    "## making the month column as index\n",
    "df"
   ]
  },
  {
   "cell_type": "code",
   "execution_count": 255,
   "id": "d75ab63a",
   "metadata": {
    "ExecuteTime": {
     "end_time": "2022-12-05T08:10:59.768883Z",
     "start_time": "2022-12-05T08:10:59.630586Z"
    }
   },
   "outputs": [
    {
     "data": {
      "text/plain": [
       "Int64Index([1995, 1995, 1995, 1995, 1995, 1995, 1995, 1995, 1995, 1995, 1995,\n",
       "            1995, 1996, 1996, 1996, 1996, 1996, 1996, 1996, 1996, 1996, 1996,\n",
       "            1996, 1996, 1997, 1997, 1997, 1997, 1997, 1997, 1997, 1997, 1997,\n",
       "            1997, 1997, 1997, 1998, 1998, 1998, 1998, 1998, 1998, 1998, 1998,\n",
       "            1998, 1998, 1998, 1998, 1999, 1999, 1999, 1999, 1999, 1999, 1999,\n",
       "            1999, 1999, 1999, 1999, 1999, 2000, 2000, 2000, 2000, 2000, 2000,\n",
       "            2000, 2000, 2000, 2000, 2000, 2000, 2001, 2001, 2001, 2001, 2001,\n",
       "            2001, 2001, 2001, 2001, 2001, 2001, 2001, 2002, 2002, 2002, 2002,\n",
       "            2002, 2002, 2002, 2002, 2002, 2002, 2002, 2002],\n",
       "           dtype='int64', name='Month')"
      ]
     },
     "execution_count": 255,
     "metadata": {},
     "output_type": "execute_result"
    }
   ],
   "source": [
    "df.index.year\n"
   ]
  },
  {
   "cell_type": "code",
   "execution_count": 256,
   "id": "90923e15",
   "metadata": {
    "ExecuteTime": {
     "end_time": "2022-12-05T08:10:59.895370Z",
     "start_time": "2022-12-05T08:10:59.781704Z"
    }
   },
   "outputs": [
    {
     "data": {
      "text/plain": [
       "0"
      ]
     },
     "execution_count": 256,
     "metadata": {},
     "output_type": "execute_result"
    }
   ],
   "source": [
    "df.isnull().sum().sum()\n",
    "## no nan values in the data set"
   ]
  },
  {
   "cell_type": "code",
   "execution_count": 257,
   "id": "bbc8efef",
   "metadata": {
    "ExecuteTime": {
     "end_time": "2022-12-05T08:11:00.054613Z",
     "start_time": "2022-12-05T08:10:59.905753Z"
    }
   },
   "outputs": [
    {
     "data": {
      "text/plain": [
       "(16, 1)"
      ]
     },
     "execution_count": 257,
     "metadata": {},
     "output_type": "execute_result"
    }
   ],
   "source": [
    "df[df.duplicated()].shape\n",
    "#found the 16 duplicated rows"
   ]
  },
  {
   "cell_type": "code",
   "execution_count": 258,
   "id": "b2e7c5be",
   "metadata": {
    "ExecuteTime": {
     "end_time": "2022-12-05T08:11:00.182645Z",
     "start_time": "2022-12-05T08:11:00.063921Z"
    }
   },
   "outputs": [
    {
     "data": {
      "text/html": [
       "<div>\n",
       "<style scoped>\n",
       "    .dataframe tbody tr th:only-of-type {\n",
       "        vertical-align: middle;\n",
       "    }\n",
       "\n",
       "    .dataframe tbody tr th {\n",
       "        vertical-align: top;\n",
       "    }\n",
       "\n",
       "    .dataframe thead th {\n",
       "        text-align: right;\n",
       "    }\n",
       "</style>\n",
       "<table border=\"1\" class=\"dataframe\">\n",
       "  <thead>\n",
       "    <tr style=\"text-align: right;\">\n",
       "      <th></th>\n",
       "      <th>Passengers</th>\n",
       "    </tr>\n",
       "    <tr>\n",
       "      <th>Month</th>\n",
       "      <th></th>\n",
       "    </tr>\n",
       "  </thead>\n",
       "  <tbody>\n",
       "    <tr>\n",
       "      <th>1995-08-01</th>\n",
       "      <td>148</td>\n",
       "    </tr>\n",
       "    <tr>\n",
       "      <th>1995-12-01</th>\n",
       "      <td>118</td>\n",
       "    </tr>\n",
       "    <tr>\n",
       "      <th>1996-04-01</th>\n",
       "      <td>135</td>\n",
       "    </tr>\n",
       "    <tr>\n",
       "      <th>1996-08-01</th>\n",
       "      <td>170</td>\n",
       "    </tr>\n",
       "    <tr>\n",
       "      <th>1997-06-01</th>\n",
       "      <td>178</td>\n",
       "    </tr>\n",
       "    <tr>\n",
       "      <th>1997-08-01</th>\n",
       "      <td>199</td>\n",
       "    </tr>\n",
       "    <tr>\n",
       "      <th>1998-11-01</th>\n",
       "      <td>172</td>\n",
       "    </tr>\n",
       "    <tr>\n",
       "      <th>1999-02-01</th>\n",
       "      <td>196</td>\n",
       "    </tr>\n",
       "    <tr>\n",
       "      <th>1999-11-01</th>\n",
       "      <td>180</td>\n",
       "    </tr>\n",
       "    <tr>\n",
       "      <th>2000-03-01</th>\n",
       "      <td>235</td>\n",
       "    </tr>\n",
       "    <tr>\n",
       "      <th>2000-06-01</th>\n",
       "      <td>264</td>\n",
       "    </tr>\n",
       "    <tr>\n",
       "      <th>2000-10-01</th>\n",
       "      <td>229</td>\n",
       "    </tr>\n",
       "    <tr>\n",
       "      <th>2000-12-01</th>\n",
       "      <td>229</td>\n",
       "    </tr>\n",
       "    <tr>\n",
       "      <th>2001-01-01</th>\n",
       "      <td>242</td>\n",
       "    </tr>\n",
       "    <tr>\n",
       "      <th>2001-11-01</th>\n",
       "      <td>237</td>\n",
       "    </tr>\n",
       "    <tr>\n",
       "      <th>2002-12-01</th>\n",
       "      <td>306</td>\n",
       "    </tr>\n",
       "  </tbody>\n",
       "</table>\n",
       "</div>"
      ],
      "text/plain": [
       "            Passengers\n",
       "Month                 \n",
       "1995-08-01         148\n",
       "1995-12-01         118\n",
       "1996-04-01         135\n",
       "1996-08-01         170\n",
       "1997-06-01         178\n",
       "1997-08-01         199\n",
       "1998-11-01         172\n",
       "1999-02-01         196\n",
       "1999-11-01         180\n",
       "2000-03-01         235\n",
       "2000-06-01         264\n",
       "2000-10-01         229\n",
       "2000-12-01         229\n",
       "2001-01-01         242\n",
       "2001-11-01         237\n",
       "2002-12-01         306"
      ]
     },
     "execution_count": 258,
     "metadata": {},
     "output_type": "execute_result"
    }
   ],
   "source": [
    "df[df.duplicated()]\n"
   ]
  },
  {
   "cell_type": "code",
   "execution_count": 259,
   "id": "977213b1",
   "metadata": {
    "ExecuteTime": {
     "end_time": "2022-12-05T08:11:00.354279Z",
     "start_time": "2022-12-05T08:11:00.200164Z"
    }
   },
   "outputs": [
    {
     "data": {
      "text/html": [
       "<div>\n",
       "<style scoped>\n",
       "    .dataframe tbody tr th:only-of-type {\n",
       "        vertical-align: middle;\n",
       "    }\n",
       "\n",
       "    .dataframe tbody tr th {\n",
       "        vertical-align: top;\n",
       "    }\n",
       "\n",
       "    .dataframe thead th {\n",
       "        text-align: right;\n",
       "    }\n",
       "</style>\n",
       "<table border=\"1\" class=\"dataframe\">\n",
       "  <thead>\n",
       "    <tr style=\"text-align: right;\">\n",
       "      <th></th>\n",
       "      <th>Passengers</th>\n",
       "    </tr>\n",
       "    <tr>\n",
       "      <th>Month</th>\n",
       "      <th></th>\n",
       "    </tr>\n",
       "  </thead>\n",
       "  <tbody>\n",
       "    <tr>\n",
       "      <th>1995-01-01</th>\n",
       "      <td>112</td>\n",
       "    </tr>\n",
       "    <tr>\n",
       "      <th>1995-02-01</th>\n",
       "      <td>118</td>\n",
       "    </tr>\n",
       "    <tr>\n",
       "      <th>1995-03-01</th>\n",
       "      <td>132</td>\n",
       "    </tr>\n",
       "    <tr>\n",
       "      <th>1995-04-01</th>\n",
       "      <td>129</td>\n",
       "    </tr>\n",
       "    <tr>\n",
       "      <th>1995-05-01</th>\n",
       "      <td>121</td>\n",
       "    </tr>\n",
       "    <tr>\n",
       "      <th>...</th>\n",
       "      <td>...</td>\n",
       "    </tr>\n",
       "    <tr>\n",
       "      <th>2002-07-01</th>\n",
       "      <td>413</td>\n",
       "    </tr>\n",
       "    <tr>\n",
       "      <th>2002-08-01</th>\n",
       "      <td>405</td>\n",
       "    </tr>\n",
       "    <tr>\n",
       "      <th>2002-09-01</th>\n",
       "      <td>355</td>\n",
       "    </tr>\n",
       "    <tr>\n",
       "      <th>2002-10-01</th>\n",
       "      <td>306</td>\n",
       "    </tr>\n",
       "    <tr>\n",
       "      <th>2002-11-01</th>\n",
       "      <td>271</td>\n",
       "    </tr>\n",
       "  </tbody>\n",
       "</table>\n",
       "<p>80 rows × 1 columns</p>\n",
       "</div>"
      ],
      "text/plain": [
       "            Passengers\n",
       "Month                 \n",
       "1995-01-01         112\n",
       "1995-02-01         118\n",
       "1995-03-01         132\n",
       "1995-04-01         129\n",
       "1995-05-01         121\n",
       "...                ...\n",
       "2002-07-01         413\n",
       "2002-08-01         405\n",
       "2002-09-01         355\n",
       "2002-10-01         306\n",
       "2002-11-01         271\n",
       "\n",
       "[80 rows x 1 columns]"
      ]
     },
     "execution_count": 259,
     "metadata": {},
     "output_type": "execute_result"
    }
   ],
   "source": [
    "df.drop_duplicates(inplace=True)\n",
    "## removed the duplicated\n",
    "df"
   ]
  },
  {
   "cell_type": "code",
   "execution_count": 260,
   "id": "4e8ec3e5",
   "metadata": {
    "ExecuteTime": {
     "end_time": "2022-12-05T08:11:00.485795Z",
     "start_time": "2022-12-05T08:11:00.361257Z"
    }
   },
   "outputs": [
    {
     "data": {
      "text/html": [
       "<div>\n",
       "<style scoped>\n",
       "    .dataframe tbody tr th:only-of-type {\n",
       "        vertical-align: middle;\n",
       "    }\n",
       "\n",
       "    .dataframe tbody tr th {\n",
       "        vertical-align: top;\n",
       "    }\n",
       "\n",
       "    .dataframe thead th {\n",
       "        text-align: right;\n",
       "    }\n",
       "</style>\n",
       "<table border=\"1\" class=\"dataframe\">\n",
       "  <thead>\n",
       "    <tr style=\"text-align: right;\">\n",
       "      <th></th>\n",
       "      <th>Passengers</th>\n",
       "    </tr>\n",
       "    <tr>\n",
       "      <th>Month</th>\n",
       "      <th></th>\n",
       "    </tr>\n",
       "  </thead>\n",
       "  <tbody>\n",
       "    <tr>\n",
       "      <th>1995-01-01</th>\n",
       "      <td>112</td>\n",
       "    </tr>\n",
       "    <tr>\n",
       "      <th>1995-02-01</th>\n",
       "      <td>118</td>\n",
       "    </tr>\n",
       "    <tr>\n",
       "      <th>1995-03-01</th>\n",
       "      <td>132</td>\n",
       "    </tr>\n",
       "    <tr>\n",
       "      <th>1995-04-01</th>\n",
       "      <td>129</td>\n",
       "    </tr>\n",
       "    <tr>\n",
       "      <th>1995-05-01</th>\n",
       "      <td>121</td>\n",
       "    </tr>\n",
       "    <tr>\n",
       "      <th>...</th>\n",
       "      <td>...</td>\n",
       "    </tr>\n",
       "    <tr>\n",
       "      <th>2002-07-01</th>\n",
       "      <td>413</td>\n",
       "    </tr>\n",
       "    <tr>\n",
       "      <th>2002-08-01</th>\n",
       "      <td>405</td>\n",
       "    </tr>\n",
       "    <tr>\n",
       "      <th>2002-09-01</th>\n",
       "      <td>355</td>\n",
       "    </tr>\n",
       "    <tr>\n",
       "      <th>2002-10-01</th>\n",
       "      <td>306</td>\n",
       "    </tr>\n",
       "    <tr>\n",
       "      <th>2002-11-01</th>\n",
       "      <td>271</td>\n",
       "    </tr>\n",
       "  </tbody>\n",
       "</table>\n",
       "<p>80 rows × 1 columns</p>\n",
       "</div>"
      ],
      "text/plain": [
       "            Passengers\n",
       "Month                 \n",
       "1995-01-01         112\n",
       "1995-02-01         118\n",
       "1995-03-01         132\n",
       "1995-04-01         129\n",
       "1995-05-01         121\n",
       "...                ...\n",
       "2002-07-01         413\n",
       "2002-08-01         405\n",
       "2002-09-01         355\n",
       "2002-10-01         306\n",
       "2002-11-01         271\n",
       "\n",
       "[80 rows x 1 columns]"
      ]
     },
     "execution_count": 260,
     "metadata": {},
     "output_type": "execute_result"
    }
   ],
   "source": [
    "DF = df.copy()\n",
    "## copied the data from df to DF so that any changes done to coppied data does not reflect to original data\n",
    "DF\n"
   ]
  },
  {
   "cell_type": "code",
   "execution_count": 261,
   "id": "8876dda7",
   "metadata": {
    "ExecuteTime": {
     "end_time": "2022-12-05T08:11:00.660337Z",
     "start_time": "2022-12-05T08:11:00.495441Z"
    }
   },
   "outputs": [
    {
     "name": "stdout",
     "output_type": "stream",
     "text": [
      "<class 'pandas.core.frame.DataFrame'>\n",
      "DatetimeIndex: 80 entries, 1995-01-01 to 2002-11-01\n",
      "Data columns (total 1 columns):\n",
      " #   Column      Non-Null Count  Dtype\n",
      "---  ------      --------------  -----\n",
      " 0   Passengers  80 non-null     int64\n",
      "dtypes: int64(1)\n",
      "memory usage: 1.2 KB\n"
     ]
    }
   ],
   "source": [
    "DF.info()\n"
   ]
  },
  {
   "cell_type": "code",
   "execution_count": 262,
   "id": "8d5ef671",
   "metadata": {
    "ExecuteTime": {
     "end_time": "2022-12-05T08:11:00.817721Z",
     "start_time": "2022-12-05T08:11:00.667847Z"
    }
   },
   "outputs": [
    {
     "data": {
      "text/plain": [
       "0"
      ]
     },
     "execution_count": 262,
     "metadata": {},
     "output_type": "execute_result"
    }
   ],
   "source": [
    "DF.isnull().sum().sum()\n"
   ]
  },
  {
   "cell_type": "code",
   "execution_count": 263,
   "id": "9d33f717",
   "metadata": {
    "ExecuteTime": {
     "end_time": "2022-12-05T08:11:01.521072Z",
     "start_time": "2022-12-05T08:11:00.827332Z"
    }
   },
   "outputs": [
    {
     "data": {
      "image/png": "[encoded data removed]",
      "text/plain": [
       "<Figure size 432x288 with 1 Axes>"
      ]
     },
     "metadata": {
      "needs_background": "light"
     },
     "output_type": "display_data"
    }
   ],
   "source": [
    "## Visualization of Data Checking the line plot,Histogram and Density Plots,create a density plot,\n",
    "## Box and Whisker Plots by Interval,Lag Plot, Autocorrelation Plot\n",
    "DF.plot()\n",
    "plt.show()"
   ]
  },
  {
   "cell_type": "code",
   "execution_count": 264,
   "id": "cbf9ae22",
   "metadata": {
    "ExecuteTime": {
     "end_time": "2022-12-05T08:11:01.802367Z",
     "start_time": "2022-12-05T08:11:01.526056Z"
    }
   },
   "outputs": [
    {
     "data": {
      "image/png": "[encoded data removed]",
      "text/plain": [
       "<Figure size 432x288 with 1 Axes>"
      ]
     },
     "metadata": {
      "needs_background": "light"
     },
     "output_type": "display_data"
    }
   ],
   "source": [
    "##Histogram and Density Plots\n",
    "\n",
    "DF.hist()\n",
    "plt.show()\n"
   ]
  },
  {
   "cell_type": "code",
   "execution_count": 265,
   "id": "f6575004",
   "metadata": {
    "ExecuteTime": {
     "end_time": "2022-12-05T08:11:02.054293Z",
     "start_time": "2022-12-05T08:11:01.805506Z"
    }
   },
   "outputs": [
    {
     "data": {
      "image/png": "[encoded data removed]",
      "text/plain": [
       "<Figure size 432x288 with 1 Axes>"
      ]
     },
     "metadata": {
      "needs_background": "light"
     },
     "output_type": "display_data"
    }
   ],
   "source": [
    "# create a density plot\n",
    "DF.plot(kind='kde')\n",
    "plt.show()"
   ]
  },
  {
   "cell_type": "code",
   "execution_count": 266,
   "id": "ba8b45ee",
   "metadata": {
    "ExecuteTime": {
     "end_time": "2022-12-05T08:11:02.287845Z",
     "start_time": "2022-12-05T08:11:02.060151Z"
    }
   },
   "outputs": [
    {
     "data": {
      "image/png": "[encoded data removed]",
      "text/plain": [
       "<Figure size 432x288 with 1 Axes>"
      ]
     },
     "metadata": {
      "needs_background": "light"
     },
     "output_type": "display_data"
    }
   ],
   "source": [
    "##Lag_plot\n",
    "lag_plot(DF)\n",
    "plt.show()"
   ]
  },
  {
   "cell_type": "code",
   "execution_count": 267,
   "id": "f56ebde0",
   "metadata": {
    "ExecuteTime": {
     "end_time": "2022-12-05T08:11:02.571115Z",
     "start_time": "2022-12-05T08:11:02.292012Z"
    }
   },
   "outputs": [
    {
     "data": {
      "image/png": "[encoded data removed]",
      "text/plain": [
       "<Figure size 432x288 with 1 Axes>"
      ]
     },
     "metadata": {
      "needs_background": "light"
     },
     "output_type": "display_data"
    }
   ],
   "source": [
    "#Autocorrelation Plot\n",
    "\n",
    "plot_acf(DF,lags=30)\n",
    "plt.show()\n"
   ]
  },
  {
   "cell_type": "code",
   "execution_count": 268,
   "id": "eaf84ace",
   "metadata": {
    "ExecuteTime": {
     "end_time": "2022-12-05T08:11:02.586808Z",
     "start_time": "2022-12-05T08:11:02.575678Z"
    }
   },
   "outputs": [],
   "source": [
    "#UpSampling"
   ]
  },
  {
   "cell_type": "code",
   "execution_count": 269,
   "id": "0c2eeb64",
   "metadata": {
    "ExecuteTime": {
     "end_time": "2022-12-05T08:11:02.736872Z",
     "start_time": "2022-12-05T08:11:02.591826Z"
    }
   },
   "outputs": [
    {
     "name": "stdout",
     "output_type": "stream",
     "text": [
      "            Passengers\n",
      "Month                 \n",
      "1995-01-31       112.0\n",
      "1995-02-28       118.0\n",
      "1995-03-31       132.0\n",
      "1995-04-30       129.0\n",
      "1995-05-31       121.0\n",
      "1995-06-30       135.0\n",
      "1995-07-31       148.0\n",
      "1995-08-31         NaN\n",
      "1995-09-30       136.0\n",
      "1995-10-31       119.0\n",
      "1995-11-30       104.0\n",
      "1995-12-31         NaN\n",
      "1996-01-31       115.0\n",
      "1996-02-29       126.0\n",
      "1996-03-31       141.0\n",
      "1996-04-30         NaN\n",
      "1996-05-31       125.0\n",
      "1996-06-30       149.0\n",
      "1996-07-31       170.0\n",
      "1996-08-31         NaN\n",
      "1996-09-30       158.0\n",
      "1996-10-31       133.0\n",
      "1996-11-30       114.0\n",
      "1996-12-31       140.0\n",
      "1997-01-31       145.0\n",
      "1997-02-28       150.0\n",
      "1997-03-31       178.0\n",
      "1997-04-30       163.0\n",
      "1997-05-31       172.0\n",
      "1997-06-30         NaN\n",
      "1997-07-31       199.0\n",
      "1997-08-31         NaN\n"
     ]
    }
   ],
   "source": [
    "upsampled = DF.resample('M').mean()\n",
    "print(upsampled.head(32))"
   ]
  },
  {
   "cell_type": "code",
   "execution_count": 270,
   "id": "a9455530",
   "metadata": {
    "ExecuteTime": {
     "end_time": "2022-12-05T08:11:03.344991Z",
     "start_time": "2022-12-05T08:11:02.743774Z"
    }
   },
   "outputs": [
    {
     "name": "stdout",
     "output_type": "stream",
     "text": [
      "            Passengers\n",
      "Month                 \n",
      "1995-01-31       112.0\n",
      "1995-02-28       118.0\n",
      "1995-03-31       132.0\n",
      "1995-04-30       129.0\n",
      "1995-05-31       121.0\n",
      "1995-06-30       135.0\n",
      "1995-07-31       148.0\n",
      "1995-08-31       142.0\n",
      "1995-09-30       136.0\n",
      "1995-10-31       119.0\n",
      "1995-11-30       104.0\n",
      "1995-12-31       109.5\n",
      "1996-01-31       115.0\n",
      "1996-02-29       126.0\n",
      "1996-03-31       141.0\n"
     ]
    },
    {
     "data": {
      "image/png": "[encoded data removed]",
      "text/plain": [
       "<Figure size 432x288 with 1 Axes>"
      ]
     },
     "metadata": {
      "needs_background": "light"
     },
     "output_type": "display_data"
    }
   ],
   "source": [
    "interpolated = upsampled.interpolate(method='linear')\n",
    "## interplation was done for nan values which we get after doing upsampling by month\n",
    "print(interpolated.head(15))\n",
    "interpolated.plot()\n",
    "plt.show()"
   ]
  },
  {
   "cell_type": "code",
   "execution_count": 271,
   "id": "fd5ca849",
   "metadata": {
    "ExecuteTime": {
     "end_time": "2022-12-05T08:11:03.375735Z",
     "start_time": "2022-12-05T08:11:03.348979Z"
    }
   },
   "outputs": [
    {
     "data": {
      "text/html": [
       "<div>\n",
       "<style scoped>\n",
       "    .dataframe tbody tr th:only-of-type {\n",
       "        vertical-align: middle;\n",
       "    }\n",
       "\n",
       "    .dataframe tbody tr th {\n",
       "        vertical-align: top;\n",
       "    }\n",
       "\n",
       "    .dataframe thead th {\n",
       "        text-align: right;\n",
       "    }\n",
       "</style>\n",
       "<table border=\"1\" class=\"dataframe\">\n",
       "  <thead>\n",
       "    <tr style=\"text-align: right;\">\n",
       "      <th></th>\n",
       "      <th>Passengers</th>\n",
       "    </tr>\n",
       "    <tr>\n",
       "      <th>Month</th>\n",
       "      <th></th>\n",
       "    </tr>\n",
       "  </thead>\n",
       "  <tbody>\n",
       "    <tr>\n",
       "      <th>1995-01-31</th>\n",
       "      <td>112.0</td>\n",
       "    </tr>\n",
       "    <tr>\n",
       "      <th>1995-02-28</th>\n",
       "      <td>118.0</td>\n",
       "    </tr>\n",
       "    <tr>\n",
       "      <th>1995-03-31</th>\n",
       "      <td>132.0</td>\n",
       "    </tr>\n",
       "    <tr>\n",
       "      <th>1995-04-30</th>\n",
       "      <td>129.0</td>\n",
       "    </tr>\n",
       "    <tr>\n",
       "      <th>1995-05-31</th>\n",
       "      <td>121.0</td>\n",
       "    </tr>\n",
       "    <tr>\n",
       "      <th>...</th>\n",
       "      <td>...</td>\n",
       "    </tr>\n",
       "    <tr>\n",
       "      <th>2002-07-31</th>\n",
       "      <td>413.0</td>\n",
       "    </tr>\n",
       "    <tr>\n",
       "      <th>2002-08-31</th>\n",
       "      <td>405.0</td>\n",
       "    </tr>\n",
       "    <tr>\n",
       "      <th>2002-09-30</th>\n",
       "      <td>355.0</td>\n",
       "    </tr>\n",
       "    <tr>\n",
       "      <th>2002-10-31</th>\n",
       "      <td>306.0</td>\n",
       "    </tr>\n",
       "    <tr>\n",
       "      <th>2002-11-30</th>\n",
       "      <td>271.0</td>\n",
       "    </tr>\n",
       "  </tbody>\n",
       "</table>\n",
       "<p>95 rows × 1 columns</p>\n",
       "</div>"
      ],
      "text/plain": [
       "            Passengers\n",
       "Month                 \n",
       "1995-01-31       112.0\n",
       "1995-02-28       118.0\n",
       "1995-03-31       132.0\n",
       "1995-04-30       129.0\n",
       "1995-05-31       121.0\n",
       "...                ...\n",
       "2002-07-31       413.0\n",
       "2002-08-31       405.0\n",
       "2002-09-30       355.0\n",
       "2002-10-31       306.0\n",
       "2002-11-30       271.0\n",
       "\n",
       "[95 rows x 1 columns]"
      ]
     },
     "execution_count": 271,
     "metadata": {},
     "output_type": "execute_result"
    }
   ],
   "source": [
    "interpolated\n"
   ]
  },
  {
   "cell_type": "code",
   "execution_count": 272,
   "id": "dd13d5a7",
   "metadata": {
    "ExecuteTime": {
     "end_time": "2022-12-05T08:11:04.202188Z",
     "start_time": "2022-12-05T08:11:03.379726Z"
    }
   },
   "outputs": [
    {
     "data": {
      "image/png": "[encoded data removed]",
      "text/plain": [
       "<Figure size 432x288 with 2 Axes>"
      ]
     },
     "metadata": {
      "needs_background": "light"
     },
     "output_type": "display_data"
    }
   ],
   "source": [
    "#Square Root Transform\n",
    "dataframe = DataFrame(DF.values)\n",
    "dataframe.columns = ['Passengers']\n",
    "dataframe['Passengers'] = sqrt(dataframe['Passengers'])\n",
    "# line plot\n",
    "plt.subplot(211)\n",
    "plt.plot(DF['Passengers'])\n",
    "# histogram\n",
    "plt.subplot(212)\n",
    "plt.hist(DF['Passengers'])\n",
    "plt.show()"
   ]
  },
  {
   "cell_type": "code",
   "execution_count": 273,
   "id": "d47950a6",
   "metadata": {
    "ExecuteTime": {
     "end_time": "2022-12-05T08:11:04.686942Z",
     "start_time": "2022-12-05T08:11:04.207267Z"
    }
   },
   "outputs": [
    {
     "data": {
      "image/png": "[encoded data removed]",
      "text/plain": [
       "<Figure size 432x288 with 2 Axes>"
      ]
     },
     "metadata": {
      "needs_background": "light"
     },
     "output_type": "display_data"
    }
   ],
   "source": [
    "#Log Transform\n",
    "from numpy import log\n",
    "\n",
    "dataframe = DataFrame(DF.values)\n",
    "dataframe.columns = ['Passengers']\n",
    "dataframe['Passengers'] = log(dataframe['Passengers'])\n",
    "\n",
    "# line plot\n",
    "plt.subplot(211)\n",
    "plt.plot(dataframe['Passengers'])\n",
    "# histogram\n",
    "plt.subplot(212)\n",
    "plt.hist(dataframe['Passengers'])\n",
    "plt.show()"
   ]
  },
  {
   "cell_type": "code",
   "execution_count": 274,
   "id": "456b9156",
   "metadata": {
    "ExecuteTime": {
     "end_time": "2022-12-05T08:11:04.702372Z",
     "start_time": "2022-12-05T08:11:04.690625Z"
    }
   },
   "outputs": [],
   "source": [
    "Train = interpolated.head(81)\n",
    "Test = interpolated.tail(14)"
   ]
  },
  {
   "cell_type": "code",
   "execution_count": 275,
   "id": "dc222ba6",
   "metadata": {
    "ExecuteTime": {
     "end_time": "2022-12-05T08:11:05.504581Z",
     "start_time": "2022-12-05T08:11:04.707570Z"
    }
   },
   "outputs": [
    {
     "data": {
      "text/plain": [
       "<matplotlib.legend.Legend at 0x21dc5fda100>"
      ]
     },
     "execution_count": 275,
     "metadata": {},
     "output_type": "execute_result"
    },
    {
     "data": {
      "image/png": "[encoded data removed]",
      "text/plain": [
       "<Figure size 864x288 with 1 Axes>"
      ]
     },
     "metadata": {
      "needs_background": "light"
     },
     "output_type": "display_data"
    }
   ],
   "source": [
    "#Moving Average\n",
    "plt.figure(figsize=(12,4))\n",
    "interpolated.Passengers.plot(label=\"org\")\n",
    "for i in range(2,24,6):\n",
    "    interpolated[\"Passengers\"].rolling(i).mean().plot(label=str(i))\n",
    "plt.legend(loc='best')"
   ]
  },
  {
   "cell_type": "code",
   "execution_count": 276,
   "id": "84d69a9f",
   "metadata": {
    "ExecuteTime": {
     "end_time": "2022-12-05T08:11:06.354324Z",
     "start_time": "2022-12-05T08:11:05.509266Z"
    }
   },
   "outputs": [
    {
     "data": {
      "image/png": "[encoded data removed]",
      "text/plain": [
       "<Figure size 432x288 with 4 Axes>"
      ]
     },
     "metadata": {
      "needs_background": "light"
     },
     "output_type": "display_data"
    }
   ],
   "source": [
    "#Time series decomposition plot\n",
    "decompose_ts_add = seasonal_decompose(interpolated.Passengers)  \n",
    "decompose_ts_add.plot()\n",
    "plt.show()"
   ]
  },
  {
   "cell_type": "code",
   "execution_count": 277,
   "id": "8bf6164e",
   "metadata": {
    "ExecuteTime": {
     "end_time": "2022-12-05T08:11:06.870844Z",
     "start_time": "2022-12-05T08:11:06.367306Z"
    }
   },
   "outputs": [
    {
     "data": {
      "image/png": "[encoded data removed]",
      "text/plain": [
       "<Figure size 432x288 with 1 Axes>"
      ]
     },
     "metadata": {
      "needs_background": "light"
     },
     "output_type": "display_data"
    },
    {
     "data": {
      "image/png": "[encoded data removed]",
      "text/plain": [
       "<Figure size 432x288 with 1 Axes>"
      ]
     },
     "metadata": {
      "needs_background": "light"
     },
     "output_type": "display_data"
    }
   ],
   "source": [
    "#ACF plots and PACF plots\n",
    "import statsmodels.graphics.tsaplots as tsa_plots\n",
    "\n",
    "tsa_plots.plot_acf(interpolated.Passengers,lags=14)\n",
    "tsa_plots.plot_pacf(interpolated.Passengers,lags=14)\n",
    "plt.show()"
   ]
  },
  {
   "cell_type": "code",
   "execution_count": 278,
   "id": "b3acfdb1",
   "metadata": {
    "ExecuteTime": {
     "end_time": "2022-12-05T08:11:06.886242Z",
     "start_time": "2022-12-05T08:11:06.874912Z"
    }
   },
   "outputs": [],
   "source": [
    "#Evaluation Metric MAPE\n",
    "def MAPE(pred,org):\n",
    "    temp = np.abs((pred-org)/org)*100\n",
    "    return np.mean(temp)"
   ]
  },
  {
   "cell_type": "code",
   "execution_count": 279,
   "id": "84f91629",
   "metadata": {
    "ExecuteTime": {
     "end_time": "2022-12-05T08:11:07.081475Z",
     "start_time": "2022-12-05T08:11:06.890233Z"
    }
   },
   "outputs": [
    {
     "data": {
      "text/plain": [
       "11.181638722453021"
      ]
     },
     "execution_count": 279,
     "metadata": {},
     "output_type": "execute_result"
    }
   ],
   "source": [
    "#Simple Exponential Method\n",
    "ses_model = SimpleExpSmoothing(Train[\"Passengers\"]).fit(smoothing_level=0.2)\n",
    "pred_ses = ses_model.predict(start = Test.index[0],end = Test.index[-1])\n",
    "MAPE(pred_ses,Test.Passengers)"
   ]
  },
  {
   "cell_type": "code",
   "execution_count": 280,
   "id": "69e166ec",
   "metadata": {
    "ExecuteTime": {
     "end_time": "2022-12-05T08:11:07.221143Z",
     "start_time": "2022-12-05T08:11:07.092960Z"
    }
   },
   "outputs": [
    {
     "data": {
      "text/plain": [
       "12.424434193053463"
      ]
     },
     "execution_count": 280,
     "metadata": {},
     "output_type": "execute_result"
    }
   ],
   "source": [
    "#Holt method\n",
    "hw_model = Holt(Train[\"Passengers\"]).fit(smoothing_level=0.1, smoothing_slope=0.2)\n",
    "pred_hw = hw_model.predict(start = Test.index[0],end = Test.index[-1])\n",
    "MAPE(pred_hw,Test.Passengers)"
   ]
  },
  {
   "cell_type": "code",
   "execution_count": 281,
   "id": "93c01981",
   "metadata": {
    "ExecuteTime": {
     "end_time": "2022-12-05T08:11:07.453699Z",
     "start_time": "2022-12-05T08:11:07.225235Z"
    }
   },
   "outputs": [
    {
     "data": {
      "text/plain": [
       "3.5137309781557966"
      ]
     },
     "execution_count": 281,
     "metadata": {},
     "output_type": "execute_result"
    }
   ],
   "source": [
    "#Holts winter exponential smoothing with additive seasonality and additive trend\n",
    "hwe_model_add_add = ExponentialSmoothing(Train[\"Passengers\"],seasonal=\"add\",trend=\"add\",seasonal_periods=12).fit(smoothing_level=0.1, smoothing_slope=0.2) #add the trend to the model\n",
    "pred_hwe_add_add = hwe_model_add_add.predict(start = Test.index[0],end = Test.index[-1])\n",
    "MAPE(pred_hwe_add_add,Test.Passengers)"
   ]
  },
  {
   "cell_type": "code",
   "execution_count": 282,
   "id": "28b2aca9",
   "metadata": {
    "ExecuteTime": {
     "end_time": "2022-12-05T08:11:07.579268Z",
     "start_time": "2022-12-05T08:11:07.458333Z"
    }
   },
   "outputs": [
    {
     "data": {
      "text/plain": [
       "3.2332650340344786"
      ]
     },
     "execution_count": 282,
     "metadata": {},
     "output_type": "execute_result"
    }
   ],
   "source": [
    "#Holts winter exponential smoothing with multiplicative seasonality and additive trend\n",
    "hwe_model_mul_add = ExponentialSmoothing(Train[\"Passengers\"],seasonal=\"mul\",trend=\"add\",seasonal_periods=12).fit(smoothing_level=0.1, smoothing_slope=0.2) \n",
    "pred_hwe_mul_add = hwe_model_mul_add.predict(start = Test.index[0],end = Test.index[-1])\n",
    "MAPE(pred_hwe_mul_add,Test.Passengers)"
   ]
  },
  {
   "cell_type": "code",
   "execution_count": 283,
   "id": "1ffe9c6e",
   "metadata": {
    "ExecuteTime": {
     "end_time": "2022-12-05T08:11:07.659947Z",
     "start_time": "2022-12-05T08:11:07.583908Z"
    }
   },
   "outputs": [
    {
     "data": {
      "text/plain": [
       "12.63269019553182"
      ]
     },
     "execution_count": 283,
     "metadata": {},
     "output_type": "execute_result"
    }
   ],
   "source": [
    "rmse_hwe_mul_add = sqrt(mean_squared_error(pred_hwe_mul_add,Test.Passengers))\n",
    "rmse_hwe_mul_add"
   ]
  },
  {
   "cell_type": "code",
   "execution_count": 284,
   "id": "21864d48",
   "metadata": {
    "ExecuteTime": {
     "end_time": "2022-12-05T08:11:08.237953Z",
     "start_time": "2022-12-05T08:11:07.666625Z"
    }
   },
   "outputs": [
    {
     "data": {
      "text/plain": [
       "2002-12-31    276.163043\n",
       "2003-01-31    284.538512\n",
       "2003-02-28    286.268492\n",
       "2003-03-31    292.141887\n",
       "2003-04-30    292.961147\n",
       "2003-05-31    292.684724\n",
       "2003-06-30    289.181443\n",
       "2003-07-31    287.512286\n",
       "2003-08-31    289.678286\n",
       "2003-09-30    288.962777\n",
       "Freq: M, dtype: float64"
      ]
     },
     "execution_count": 284,
     "metadata": {},
     "output_type": "execute_result"
    }
   ],
   "source": [
    "#Final Model by combining train and test\n",
    "hwe_model_add_add = ExponentialSmoothing(interpolated[\"Passengers\"],seasonal=\"add\",trend=\"add\",seasonal_periods=10).fit()\n",
    "\n",
    "#Forecasting for next 10 time periods\n",
    "hwe_model_add_add.forecast(10)"
   ]
  },
  {
   "cell_type": "code",
   "execution_count": 285,
   "id": "2a4a7b50",
   "metadata": {
    "ExecuteTime": {
     "end_time": "2022-12-05T08:11:09.134496Z",
     "start_time": "2022-12-05T08:11:08.241417Z"
    }
   },
   "outputs": [
    {
     "data": {
      "text/plain": [
       "<matplotlib.legend.Legend at 0x21dc7364430>"
      ]
     },
     "execution_count": 285,
     "metadata": {},
     "output_type": "execute_result"
    },
    {
     "data": {
      "image/png": "[encoded data removed]",
      "text/plain": [
       "<Figure size 432x288 with 1 Axes>"
      ]
     },
     "metadata": {
      "needs_background": "light"
     },
     "output_type": "display_data"
    }
   ],
   "source": [
    "plt.plot(Train.index, Train[\"Passengers\"], label='Train',color=\"black\")\n",
    "plt.plot(Test.index, Test[\"Passengers\"], label='Test',color=\"blue\")\n",
    "plt.plot(pred_ses.index, pred_ses, label='SimpleExponential',color=\"green\")\n",
    "plt.plot(pred_hw.index, pred_hw, label='Holts_winter',color=\"red\")\n",
    "plt.plot(pred_hwe_add_add.index,pred_hwe_add_add,label=\"HoltsWinterExponential_1\",color=\"brown\")\n",
    "plt.plot(pred_hwe_mul_add.index,pred_hwe_mul_add,label=\"HoltsWinterExponential_2\",color=\"yellow\")\n",
    "plt.legend(loc='best')"
   ]
  },
  {
   "cell_type": "markdown",
   "id": "78fc0c71",
   "metadata": {},
   "source": [
    "# CocaCola_Sales_Rawdata.csv"
   ]
  },
  {
   "cell_type": "code",
   "execution_count": 286,
   "id": "b639158f",
   "metadata": {
    "ExecuteTime": {
     "end_time": "2022-12-05T08:11:09.150159Z",
     "start_time": "2022-12-05T08:11:09.137715Z"
    }
   },
   "outputs": [],
   "source": [
    "# Import libraries\n",
    "from pandas import read_csv\n",
    "from matplotlib import pyplot\n",
    "from numpy import sqrt\n",
    "import warnings\n",
    "import itertools\n",
    "import pandas as pd\n",
    "import numpy as np\n",
    "import matplotlib.pyplot as plt\n",
    "import statsmodels.api as sm"
   ]
  },
  {
   "cell_type": "code",
   "execution_count": 287,
   "id": "d0c5510c",
   "metadata": {
    "ExecuteTime": {
     "end_time": "2022-12-05T08:11:09.371245Z",
     "start_time": "2022-12-05T08:11:09.152658Z"
    }
   },
   "outputs": [
    {
     "data": {
      "text/html": [
       "<div>\n",
       "<style scoped>\n",
       "    .dataframe tbody tr th:only-of-type {\n",
       "        vertical-align: middle;\n",
       "    }\n",
       "\n",
       "    .dataframe tbody tr th {\n",
       "        vertical-align: top;\n",
       "    }\n",
       "\n",
       "    .dataframe thead th {\n",
       "        text-align: right;\n",
       "    }\n",
       "</style>\n",
       "<table border=\"1\" class=\"dataframe\">\n",
       "  <thead>\n",
       "    <tr style=\"text-align: right;\">\n",
       "      <th></th>\n",
       "      <th>Sales</th>\n",
       "    </tr>\n",
       "    <tr>\n",
       "      <th>Quarter</th>\n",
       "      <th></th>\n",
       "    </tr>\n",
       "  </thead>\n",
       "  <tbody>\n",
       "    <tr>\n",
       "      <th>Q1_86</th>\n",
       "      <td>1734.827000</td>\n",
       "    </tr>\n",
       "    <tr>\n",
       "      <th>Q2_86</th>\n",
       "      <td>2244.960999</td>\n",
       "    </tr>\n",
       "    <tr>\n",
       "      <th>Q3_86</th>\n",
       "      <td>2533.804993</td>\n",
       "    </tr>\n",
       "    <tr>\n",
       "      <th>Q4_86</th>\n",
       "      <td>2154.962997</td>\n",
       "    </tr>\n",
       "    <tr>\n",
       "      <th>Q1_87</th>\n",
       "      <td>1547.818996</td>\n",
       "    </tr>\n",
       "    <tr>\n",
       "      <th>Q2_87</th>\n",
       "      <td>2104.411995</td>\n",
       "    </tr>\n",
       "    <tr>\n",
       "      <th>Q3_87</th>\n",
       "      <td>2014.362999</td>\n",
       "    </tr>\n",
       "    <tr>\n",
       "      <th>Q4_87</th>\n",
       "      <td>1991.746998</td>\n",
       "    </tr>\n",
       "    <tr>\n",
       "      <th>Q1_88</th>\n",
       "      <td>1869.049999</td>\n",
       "    </tr>\n",
       "    <tr>\n",
       "      <th>Q2_88</th>\n",
       "      <td>2313.631996</td>\n",
       "    </tr>\n",
       "    <tr>\n",
       "      <th>Q3_88</th>\n",
       "      <td>2128.320000</td>\n",
       "    </tr>\n",
       "    <tr>\n",
       "      <th>Q4_88</th>\n",
       "      <td>2026.828999</td>\n",
       "    </tr>\n",
       "    <tr>\n",
       "      <th>Q1_89</th>\n",
       "      <td>1910.603996</td>\n",
       "    </tr>\n",
       "    <tr>\n",
       "      <th>Q2_89</th>\n",
       "      <td>2331.164993</td>\n",
       "    </tr>\n",
       "    <tr>\n",
       "      <th>Q3_89</th>\n",
       "      <td>2206.549995</td>\n",
       "    </tr>\n",
       "    <tr>\n",
       "      <th>Q4_89</th>\n",
       "      <td>2173.967995</td>\n",
       "    </tr>\n",
       "    <tr>\n",
       "      <th>Q1_90</th>\n",
       "      <td>2148.278000</td>\n",
       "    </tr>\n",
       "    <tr>\n",
       "      <th>Q2_90</th>\n",
       "      <td>2739.307999</td>\n",
       "    </tr>\n",
       "    <tr>\n",
       "      <th>Q3_90</th>\n",
       "      <td>2792.753998</td>\n",
       "    </tr>\n",
       "    <tr>\n",
       "      <th>Q4_90</th>\n",
       "      <td>2556.009995</td>\n",
       "    </tr>\n",
       "    <tr>\n",
       "      <th>Q1_91</th>\n",
       "      <td>2480.973999</td>\n",
       "    </tr>\n",
       "    <tr>\n",
       "      <th>Q2_91</th>\n",
       "      <td>3039.522995</td>\n",
       "    </tr>\n",
       "    <tr>\n",
       "      <th>Q3_91</th>\n",
       "      <td>3172.115997</td>\n",
       "    </tr>\n",
       "    <tr>\n",
       "      <th>Q4_91</th>\n",
       "      <td>2879.000999</td>\n",
       "    </tr>\n",
       "    <tr>\n",
       "      <th>Q1_92</th>\n",
       "      <td>2772.000000</td>\n",
       "    </tr>\n",
       "    <tr>\n",
       "      <th>Q2_92</th>\n",
       "      <td>3550.000000</td>\n",
       "    </tr>\n",
       "    <tr>\n",
       "      <th>Q3_92</th>\n",
       "      <td>3508.000000</td>\n",
       "    </tr>\n",
       "    <tr>\n",
       "      <th>Q4_92</th>\n",
       "      <td>3243.859993</td>\n",
       "    </tr>\n",
       "    <tr>\n",
       "      <th>Q1_93</th>\n",
       "      <td>3056.000000</td>\n",
       "    </tr>\n",
       "    <tr>\n",
       "      <th>Q2_93</th>\n",
       "      <td>3899.000000</td>\n",
       "    </tr>\n",
       "    <tr>\n",
       "      <th>Q3_93</th>\n",
       "      <td>3629.000000</td>\n",
       "    </tr>\n",
       "    <tr>\n",
       "      <th>Q4_93</th>\n",
       "      <td>3373.000000</td>\n",
       "    </tr>\n",
       "    <tr>\n",
       "      <th>Q1_94</th>\n",
       "      <td>3352.000000</td>\n",
       "    </tr>\n",
       "    <tr>\n",
       "      <th>Q2_94</th>\n",
       "      <td>4342.000000</td>\n",
       "    </tr>\n",
       "    <tr>\n",
       "      <th>Q3_94</th>\n",
       "      <td>4461.000000</td>\n",
       "    </tr>\n",
       "    <tr>\n",
       "      <th>Q4_94</th>\n",
       "      <td>4017.000000</td>\n",
       "    </tr>\n",
       "    <tr>\n",
       "      <th>Q1_95</th>\n",
       "      <td>3854.000000</td>\n",
       "    </tr>\n",
       "    <tr>\n",
       "      <th>Q2_95</th>\n",
       "      <td>4936.000000</td>\n",
       "    </tr>\n",
       "    <tr>\n",
       "      <th>Q3_95</th>\n",
       "      <td>4895.000000</td>\n",
       "    </tr>\n",
       "    <tr>\n",
       "      <th>Q4_95</th>\n",
       "      <td>4333.000000</td>\n",
       "    </tr>\n",
       "    <tr>\n",
       "      <th>Q1_96</th>\n",
       "      <td>4194.000000</td>\n",
       "    </tr>\n",
       "    <tr>\n",
       "      <th>Q2_96</th>\n",
       "      <td>5253.000000</td>\n",
       "    </tr>\n",
       "  </tbody>\n",
       "</table>\n",
       "</div>"
      ],
      "text/plain": [
       "               Sales\n",
       "Quarter             \n",
       "Q1_86    1734.827000\n",
       "Q2_86    2244.960999\n",
       "Q3_86    2533.804993\n",
       "Q4_86    2154.962997\n",
       "Q1_87    1547.818996\n",
       "Q2_87    2104.411995\n",
       "Q3_87    2014.362999\n",
       "Q4_87    1991.746998\n",
       "Q1_88    1869.049999\n",
       "Q2_88    2313.631996\n",
       "Q3_88    2128.320000\n",
       "Q4_88    2026.828999\n",
       "Q1_89    1910.603996\n",
       "Q2_89    2331.164993\n",
       "Q3_89    2206.549995\n",
       "Q4_89    2173.967995\n",
       "Q1_90    2148.278000\n",
       "Q2_90    2739.307999\n",
       "Q3_90    2792.753998\n",
       "Q4_90    2556.009995\n",
       "Q1_91    2480.973999\n",
       "Q2_91    3039.522995\n",
       "Q3_91    3172.115997\n",
       "Q4_91    2879.000999\n",
       "Q1_92    2772.000000\n",
       "Q2_92    3550.000000\n",
       "Q3_92    3508.000000\n",
       "Q4_92    3243.859993\n",
       "Q1_93    3056.000000\n",
       "Q2_93    3899.000000\n",
       "Q3_93    3629.000000\n",
       "Q4_93    3373.000000\n",
       "Q1_94    3352.000000\n",
       "Q2_94    4342.000000\n",
       "Q3_94    4461.000000\n",
       "Q4_94    4017.000000\n",
       "Q1_95    3854.000000\n",
       "Q2_95    4936.000000\n",
       "Q3_95    4895.000000\n",
       "Q4_95    4333.000000\n",
       "Q1_96    4194.000000\n",
       "Q2_96    5253.000000"
      ]
     },
     "execution_count": 287,
     "metadata": {},
     "output_type": "execute_result"
    }
   ],
   "source": [
    "series = read_csv('CocaCola_Sales_Rawdata.csv',header=0, index_col=0, parse_dates=True)\n",
    "series"
   ]
  },
  {
   "cell_type": "code",
   "execution_count": 288,
   "id": "c1caa34b",
   "metadata": {
    "ExecuteTime": {
     "end_time": "2022-12-05T08:11:09.737971Z",
     "start_time": "2022-12-05T08:11:09.392617Z"
    }
   },
   "outputs": [
    {
     "data": {
      "image/png": "[encoded data removed]",
      "text/plain": [
       "<Figure size 432x288 with 1 Axes>"
      ]
     },
     "metadata": {
      "needs_background": "light"
     },
     "output_type": "display_data"
    }
   ],
   "source": [
    "# line plot of time series\n",
    "from pandas import read_csv\n",
    "from matplotlib import pyplot\n",
    "series.plot()\n",
    "pyplot.show()"
   ]
  },
  {
   "cell_type": "code",
   "execution_count": 289,
   "id": "b272b891",
   "metadata": {
    "ExecuteTime": {
     "end_time": "2022-12-05T08:11:09.987741Z",
     "start_time": "2022-12-05T08:11:09.742252Z"
    }
   },
   "outputs": [
    {
     "data": {
      "text/plain": [
       "array([[<AxesSubplot:title={'center':'Sales'}>]], dtype=object)"
      ]
     },
     "execution_count": 289,
     "metadata": {},
     "output_type": "execute_result"
    },
    {
     "data": {
      "image/png": "[encoded data removed]",
      "text/plain": [
       "<Figure size 432x288 with 1 Axes>"
      ]
     },
     "metadata": {
      "needs_background": "light"
     },
     "output_type": "display_data"
    }
   ],
   "source": [
    "series.hist()\n"
   ]
  },
  {
   "cell_type": "code",
   "execution_count": 290,
   "id": "9b4c46f9",
   "metadata": {
    "ExecuteTime": {
     "end_time": "2022-12-05T08:11:10.221382Z",
     "start_time": "2022-12-05T08:11:09.990732Z"
    },
    "scrolled": true
   },
   "outputs": [
    {
     "data": {
      "text/plain": [
       "<AxesSubplot:ylabel='Density'>"
      ]
     },
     "execution_count": 290,
     "metadata": {},
     "output_type": "execute_result"
    },
    {
     "data": {
      "image/png": "[encoded data removed]",
      "text/plain": [
       "<Figure size 432x288 with 1 Axes>"
      ]
     },
     "metadata": {
      "needs_background": "light"
     },
     "output_type": "display_data"
    }
   ],
   "source": [
    "series.plot(kind='kde')"
   ]
  },
  {
   "cell_type": "code",
   "execution_count": null,
   "id": "ff3ddade",
   "metadata": {
    "ExecuteTime": {
     "end_time": "2022-12-05T08:11:10.414360Z",
     "start_time": "2022-12-05T08:11:10.413319Z"
    }
   },
   "outputs": [],
   "source": [
    "# separate out a validation dataset\n",
    "split_point = len(series) - 10\n",
    "dataset, validation = series[0:split_point], series[split_point:]\n",
    "print('Dataset %d, Validation %d' % (len(dataset), len(validation)))\n",
    "dataset.to_csv('dataset.csv', header=False)\n",
    "validation.to_csv('validation.csv', header=False)"
   ]
  },
  {
   "cell_type": "code",
   "execution_count": null,
   "id": "51dc2eff",
   "metadata": {
    "ExecuteTime": {
     "end_time": "2022-12-05T08:11:10.420246Z",
     "start_time": "2022-12-05T08:11:10.420246Z"
    }
   },
   "outputs": [],
   "source": [
    "# evaluate a persistence model\n",
    "from pandas import read_csv\n",
    "from sklearn.metrics import mean_squared_error\n",
    "from math import sqrt\n",
    "# load data\n",
    "train = read_csv('dataset.csv', header=None, index_col=0, parse_dates=True, squeeze=True)\n",
    "# prepare data\n",
    "X = train.values\n",
    "X = X.astype('float32')\n",
    "train_size = int(len(X) * 0.50)\n",
    "train, test = X[0:train_size], X[train_size:]"
   ]
  },
  {
   "cell_type": "code",
   "execution_count": null,
   "id": "62a5c61c",
   "metadata": {
    "ExecuteTime": {
     "end_time": "2022-12-05T08:11:10.427552Z",
     "start_time": "2022-12-05T08:11:10.427552Z"
    }
   },
   "outputs": [],
   "source": [
    "# walk-forward validation\n",
    "history = [x for x in train]\n",
    "predictions = list()\n",
    "for i in range(len(test)):\n",
    "    yhat = history[-1]\n",
    "    predictions.append(yhat)\n",
    "# observation\n",
    "    obs = test[i]\n",
    "    history.append(obs)\n",
    "    print('>Predicted=%.3f, Expected=%.3f' % (yhat, obs))\n",
    "# report performance\n",
    "rmse = sqrt(mean_squared_error(test, predictions))\n",
    "print('RMSE: %.3f' % rmse)"
   ]
  },
  {
   "cell_type": "code",
   "execution_count": null,
   "id": "99fb9b4a",
   "metadata": {
    "ExecuteTime": {
     "end_time": "2022-12-05T08:11:10.433260Z",
     "start_time": "2022-12-05T08:11:10.433260Z"
    }
   },
   "outputs": [],
   "source": [
    "#ARIMA Hyperparameters\n",
    "# grid search ARIMA parameters for a time series\n",
    "\n",
    "import warnings\n",
    "from pandas import read_csv\n",
    "from statsmodels.tsa.arima_model import ARIMA\n",
    "from sklearn.metrics import mean_squared_error\n",
    "from math import sqrt\n",
    "\n",
    "\n",
    "# evaluate an ARIMA model for a given order (p,d,q) and return RMSE\n",
    "def evaluate_arima_model(X, arima_order):\n",
    "# prepare training dataset\n",
    "    X = X.astype('float32')\n",
    "    train_size = int(len(X) * 0.50)\n",
    "    train, test = X[0:train_size], X[train_size:]\n",
    "    history = [x for x in train]\n",
    "# make predictions\n",
    "    predictions = list()\n",
    "    for t in range(len(test)):\n",
    "        model = ARIMA(history, order=arima_order)\n",
    "# model_fit = model.fit(disp=0)\n",
    "        model_fit = model.fit(disp=0)\n",
    "        yhat = model_fit.forecast()[0]\n",
    "        predictions.append(yhat)\n",
    "        history.append(test[t])\n",
    "# calculate out of sample error\n",
    "    rmse = sqrt(mean_squared_error(test, predictions))\n",
    "    return rmse  "
   ]
  },
  {
   "cell_type": "code",
   "execution_count": null,
   "id": "6d9f95e4",
   "metadata": {
    "ExecuteTime": {
     "end_time": "2022-12-05T08:11:10.441640Z",
     "start_time": "2022-12-05T08:11:10.441640Z"
    }
   },
   "outputs": [],
   "source": [
    "#Grid search for p,d,q values\n",
    "# evaluate combinations of p, d and q values for an ARIMA model\n",
    "def evaluate_models(dataset, p_values, d_values, q_values):\n",
    "    dataset = dataset.astype('float32')\n",
    "    best_score, best_cfg = float('inf'), None\n",
    "    for p in p_values:\n",
    "        for d in d_values:\n",
    "            for q in q_values:\n",
    "                order = (p,d,q)\n",
    "                try:\n",
    "                    rmse = evaluate_arima_model(train, order)\n",
    "                    if rmse < best_score:\n",
    "                        best_score, best_cfg = rmse, order\n",
    "                    print('ARIMA%s RMSE=%.3f' % (order,rmse))\n",
    "                except:\n",
    "                    continue\n",
    "    print('Best ARIMA%s RMSE=%.3f' % (best_cfg, best_score))  "
   ]
  },
  {
   "cell_type": "code",
   "execution_count": null,
   "id": "2ad4d8fd",
   "metadata": {
    "ExecuteTime": {
     "end_time": "2022-12-05T08:11:10.448816Z",
     "start_time": "2022-12-05T08:11:10.448816Z"
    }
   },
   "outputs": [],
   "source": [
    "# load dataset\n",
    "train = read_csv('dataset.csv', header=None, index_col=0, parse_dates=True, squeeze=True)\n",
    "# evaluate parameters\n",
    "p_values = range(0, 2)\n",
    "d_values = range(0, 2)\n",
    "q_values = range(0, 2)\n",
    "warnings.filterwarnings(\"ignore\")\n",
    "evaluate_models(train.values, p_values, d_values, q_values) "
   ]
  },
  {
   "cell_type": "code",
   "execution_count": null,
   "id": "d8f2ff34",
   "metadata": {
    "ExecuteTime": {
     "end_time": "2022-12-05T08:11:10.457379Z",
     "start_time": "2022-12-05T08:11:10.457379Z"
    }
   },
   "outputs": [],
   "source": [
    "#Build Model based on the optimized values\n",
    "# save finalized model to file\n",
    "from pandas import read_csv\n",
    "from statsmodels.tsa.arima_model import ARIMA\n",
    "import numpy "
   ]
  },
  {
   "cell_type": "code",
   "execution_count": null,
   "id": "63f38c70",
   "metadata": {
    "ExecuteTime": {
     "end_time": "2022-12-05T08:11:10.463502Z",
     "start_time": "2022-12-05T08:11:10.463502Z"
    }
   },
   "outputs": [],
   "source": [
    "# load data\n",
    "train = read_csv('dataset.csv', header=0, index_col=0, parse_dates=True)\n",
    "# prepare data\n",
    "X = train.values\n",
    "X = X.astype('float32') "
   ]
  },
  {
   "cell_type": "code",
   "execution_count": null,
   "id": "9e345f9e",
   "metadata": {
    "ExecuteTime": {
     "end_time": "2022-12-05T08:11:10.465527Z",
     "start_time": "2022-12-05T08:11:10.465527Z"
    }
   },
   "outputs": [],
   "source": [
    "data = {\"MODEL\":pd.Series([\"RMSE_ARIMA\"]),\"RMSE_Values\":pd.Series([rmse])}\n",
    "table_rmse=pd.DataFrame(data)\n",
    "table_rmse.sort_values(['RMSE_Values'])"
   ]
  },
  {
   "cell_type": "code",
   "execution_count": null,
   "id": "037b67fd",
   "metadata": {
    "ExecuteTime": {
     "end_time": "2022-12-05T08:11:10.470305Z",
     "start_time": "2022-12-05T08:11:10.469511Z"
    }
   },
   "outputs": [],
   "source": [
    "#Data Driven Models"
   ]
  },
  {
   "cell_type": "code",
   "execution_count": null,
   "id": "3f495fb5",
   "metadata": {
    "ExecuteTime": {
     "end_time": "2022-12-05T08:11:10.473988Z",
     "start_time": "2022-12-05T08:11:10.473988Z"
    }
   },
   "outputs": [],
   "source": [
    "import pandas as pd\n",
    "import numpy as np\n",
    "import matplotlib.pyplot as plt\n",
    "import seaborn as sns\n",
    "from statsmodels.tsa.seasonal import seasonal_decompose\n",
    "from statsmodels.tsa.holtwinters import SimpleExpSmoothing # SES\n",
    "from statsmodels.tsa.holtwinters import Holt # Holts Exponential Smoothing\n",
    "from statsmodels.tsa.holtwinters import ExponentialSmoothing "
   ]
  },
  {
   "cell_type": "code",
   "execution_count": null,
   "id": "f2fc37e0",
   "metadata": {
    "ExecuteTime": {
     "end_time": "2022-12-05T08:11:10.476987Z",
     "start_time": "2022-12-05T08:11:10.476987Z"
    }
   },
   "outputs": [],
   "source": [
    "Walmart = pd.read_csv('CocaCola_Sales_Rawdata.csv')\n",
    "Walmart.Sales.plot()"
   ]
  },
  {
   "cell_type": "code",
   "execution_count": null,
   "id": "ea6ff641",
   "metadata": {
    "ExecuteTime": {
     "end_time": "2022-12-05T08:11:10.480067Z",
     "start_time": "2022-12-05T08:11:10.480067Z"
    }
   },
   "outputs": [],
   "source": [
    "#Splitting data\n",
    "Train = Walmart.head(32)\n",
    "Test = Walmart.tail(10)"
   ]
  },
  {
   "cell_type": "code",
   "execution_count": null,
   "id": "96169dd8",
   "metadata": {
    "ExecuteTime": {
     "end_time": "2022-12-05T08:11:10.485866Z",
     "start_time": "2022-12-05T08:11:10.484872Z"
    }
   },
   "outputs": [],
   "source": [
    "#Moving Average\n",
    "plt.figure(figsize=(12,4))\n",
    "Walmart.Sales.plot(label=\"org\")\n",
    "for i in range(2,24,6):\n",
    "    Walmart[\"Sales\"].rolling(i).mean().plot(label=str(i))\n",
    "plt.legend(loc='best')"
   ]
  },
  {
   "cell_type": "code",
   "execution_count": null,
   "id": "abf9d25b",
   "metadata": {
    "ExecuteTime": {
     "end_time": "2022-12-05T08:11:10.487862Z",
     "start_time": "2022-12-05T08:11:10.487862Z"
    }
   },
   "outputs": [],
   "source": [
    "#Time series decomposition plot\n",
    "decompose_ts_add = seasonal_decompose(Walmart.Sales,period=12)\n",
    "decompose_ts_add.plot()\n",
    "plt.show()"
   ]
  },
  {
   "cell_type": "code",
   "execution_count": null,
   "id": "af9733a0",
   "metadata": {
    "ExecuteTime": {
     "end_time": "2022-12-05T08:11:10.490856Z",
     "start_time": "2022-12-05T08:11:10.490856Z"
    }
   },
   "outputs": [],
   "source": [
    "#ACF plots and PACF plots\n",
    "import statsmodels.graphics.tsaplots as tsa_plots\n",
    "tsa_plots.plot_acf(Walmart.Sales,lags=12)\n",
    "tsa_plots.plot_pacf(Walmart.Sales,lags=12)\n",
    "plt.show()"
   ]
  },
  {
   "cell_type": "code",
   "execution_count": null,
   "id": "db5750a6",
   "metadata": {
    "ExecuteTime": {
     "end_time": "2022-12-05T08:11:10.493955Z",
     "start_time": "2022-12-05T08:11:10.493955Z"
    }
   },
   "outputs": [],
   "source": [
    "#Evaluation Metric RMSE\n",
    "def RMSE(pred,org):\n",
    "    sale=np.mean((pred-org)**2)\n",
    "    return np.sqrt(sale)"
   ]
  },
  {
   "cell_type": "code",
   "execution_count": null,
   "id": "f628c741",
   "metadata": {
    "ExecuteTime": {
     "end_time": "2022-12-05T08:11:10.497945Z",
     "start_time": "2022-12-05T08:11:10.497945Z"
    }
   },
   "outputs": [],
   "source": [
    "#Simple Exponential Method\n",
    "ses_model = SimpleExpSmoothing(Train[\"Sales\"]).fit(smoothing_level=0.2)\n",
    "pred_ses = ses_model.predict(start = Test.index[0],end = Test.index[-1])\n",
    "RMSE(pred_ses,Test.Sales)"
   ]
  },
  {
   "cell_type": "code",
   "execution_count": null,
   "id": "ecc41ef6",
   "metadata": {
    "ExecuteTime": {
     "end_time": "2022-12-05T08:11:10.499936Z",
     "start_time": "2022-12-05T08:11:10.499936Z"
    }
   },
   "outputs": [],
   "source": [
    "#Holt method\n",
    "hw_model = Holt(Train[\"Sales\"]).fit(smoothing_level=0.2, smoothing_slope=0.8)\n",
    "pred_hw = hw_model.predict(start = Test.index[0],end = Test.index[-1])\n",
    "RMSE(pred_hw,Test.Sales)"
   ]
  },
  {
   "cell_type": "code",
   "execution_count": null,
   "id": "869f3e44",
   "metadata": {
    "ExecuteTime": {
     "end_time": "2022-12-05T08:11:10.502775Z",
     "start_time": "2022-12-05T08:11:10.502775Z"
    }
   },
   "outputs": [],
   "source": [
    "#Holts winter exponential smoothing with additive seasonality and additive trend\n",
    "hwe_model_add_add = ExponentialSmoothing(Train[\"Sales\"],seasonal=\"add\",trend=\"add\",seasonal_periods=12).fit() #add the trend to the model\n",
    "pred_hwe_add_add = hwe_model_add_add.predict(start = Test.index[0],end = Test.index[-1])\n",
    "RMSE(pred_hwe_add_add,Test.Sales) "
   ]
  },
  {
   "cell_type": "code",
   "execution_count": null,
   "id": "b1742d06",
   "metadata": {
    "ExecuteTime": {
     "end_time": "2022-12-05T08:11:10.504769Z",
     "start_time": "2022-12-05T08:11:10.504769Z"
    }
   },
   "outputs": [],
   "source": [
    "#Holts winter exponential smoothing with multiplicative seasonality and additive trend\n",
    "hwe_model_mul_add = ExponentialSmoothing(Train[\"Sales\"],seasonal=\"mul\",trend=\"add\",seasonal_periods=12).fit() \n",
    "pred_hwe_mul_add = hwe_model_mul_add.predict(start = Test.index[0],end = Test.index[-1])\n",
    "RMSE(pred_hwe_mul_add,Test.Sales)"
   ]
  },
  {
   "cell_type": "code",
   "execution_count": null,
   "id": "214c6aa0",
   "metadata": {
    "ExecuteTime": {
     "end_time": "2022-12-05T08:11:10.508130Z",
     "start_time": "2022-12-05T08:11:10.508130Z"
    }
   },
   "outputs": [],
   "source": [
    "#Final Model by combining train and tes\n",
    "hwe_model_add_add = ExponentialSmoothing(Walmart[\"Sales\"],seasonal=\"add\",trend=\"add\",seasonal_periods=12).fit()\n",
    "#Forecasting for next 10 time periods\n",
    "hwe_model_add_add.forecast(10)"
   ]
  },
  {
   "cell_type": "code",
   "execution_count": null,
   "id": "dda053ac",
   "metadata": {
    "ExecuteTime": {
     "end_time": "2022-12-05T08:11:10.511168Z",
     "start_time": "2022-12-05T08:11:10.511168Z"
    }
   },
   "outputs": [],
   "source": [
    "plt.plot(Train.index, Train[\"Sales\"], label='Train',color=\"black\")\n",
    "plt.plot(Test.index, Test[\"Sales\"], label='Test',color=\"blue\")\n",
    "plt.plot(pred_ses.index, pred_ses, label='SimpleExponential',color=\"green\")\n",
    "plt.plot(pred_hw.index, pred_hw, label='Holts_winter',color=\"red\")\n",
    "plt.plot(pred_hwe_add_add.index,pred_hwe_add_add,label=\"HoltsWinterExponential_1\",color=\"brown\")\n",
    "plt.plot(pred_hwe_mul_add.index,pred_hwe_mul_add,label=\"HoltsWinterExponential_2\",color=\"yellow\")\n",
    "plt.legend(loc='best')"
   ]
  },
  {
   "cell_type": "code",
   "execution_count": null,
   "id": "0bea7805",
   "metadata": {},
   "outputs": [],
   "source": []
  }
 ],
 "metadata": {
  "kernelspec": {
   "display_name": "Python 3 (ipykernel)",
   "language": "python",
   "name": "python3"
  },
  "language_info": {
   "codemirror_mode": {
    "name": "ipython",
    "version": 3
   },
   "file_extension": ".py",
   "mimetype": "text/x-python",
   "name": "python",
   "nbconvert_exporter": "python",
   "pygments_lexer": "ipython3",
   "version": "3.9.12"
  }
 },
 "nbformat": 4,
 "nbformat_minor": 5
}
